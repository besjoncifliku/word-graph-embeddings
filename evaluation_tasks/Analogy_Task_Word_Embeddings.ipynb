{
  "nbformat": 4,
  "nbformat_minor": 0,
  "metadata": {
    "colab": {
      "provenance": [],
      "collapsed_sections": [
        "FLlBHC7wbPu8"
      ]
    },
    "kernelspec": {
      "name": "python3",
      "display_name": "Python 3"
    },
    "language_info": {
      "name": "python"
    }
  },
  "cells": [
    {
      "cell_type": "markdown",
      "source": [
        "# Analogy Task - Word Embeddings\n",
        "\n",
        "Solving analogies with word embeddings.\n",
        "\n",
        "> If $a ➡ b$ then $c$ ➡ $d$ : e.g `big` is to `biggest` as `good` is to `best`\n",
        "\n",
        "> Our model answer questions ▶ $argmax_{d \\in D/\\ \\{a,b,c\\}} cos(d, b - a + c)$\n",
        "where $a,b,c,d \\in D$ are vectors of corresponding words. Score of a model is the percentage of questions for wich the result of the formula is correct answer.\n",
        "\n",
        "Dataset:\n",
        "- Google analogy test set (State of the art) at https://aclweb.org/aclwiki/Google_analogy_test_set_(State_of_the_art)#cite_note-1, Download the file at: http://download.tensorflow.org/data/questions-words.txt\n",
        "\n",
        "Reference:\n",
        "- Main analogy code taken from : Fisseha Berhane, PhD in Operations on word vectors at https://datascience-enthusiast.com/DL/Operations_on_word_vectors.html\n",
        "- Khuyen Tran (2020) How to Solve Analogies with Word2Vec article in Medium at https://towardsdatascience.com/how-to-solve-analogies-with-word2vec-6ebaf2354009\n",
        "- Nipun Gupta Github: https://github.com/nipun03/Milkolov-Analogies\n",
        "- Analogy Test - https://aclweb.org/aclwiki/Analogy_(State_of_the_art)\n",
        "- Gulonnlp Framework for embedding evaluation at https://nlp.gluon.ai/examples/word_embedding_evaluation/word_embedding_evaluation.html"
      ],
      "metadata": {
        "id": "seZyUZbRENFY"
      }
    },
    {
      "cell_type": "markdown",
      "source": [
        "Map words into vectors of R.\n",
        "Words that share common contextxs in the corpus located close to one another"
      ],
      "metadata": {
        "id": "Q3WtjBf7Ff_a"
      }
    },
    {
      "cell_type": "code",
      "source": [
        "from gensim.models import Word2Vec\n",
        "from gensim.models import KeyedVectors\n",
        "import numpy as np\n",
        "import pandas as pd"
      ],
      "metadata": {
        "id": "rLtoCnjixtT2"
      },
      "execution_count": null,
      "outputs": []
    },
    {
      "cell_type": "markdown",
      "source": [
        "Since some files are really big and I am using Colab I had to upload them each time I started a session and this was taking a lot of time. Hence, I uploaded them in my google drive and I am using my drive as a storage for the files. You can do the same or use the local file if you have enough resources available."
      ],
      "metadata": {
        "id": "vt-VOcqZZkdm"
      }
    },
    {
      "cell_type": "code",
      "source": [
        "from google.colab import drive\n",
        "drive.mount('/content/gdrive')"
      ],
      "metadata": {
        "colab": {
          "base_uri": "https://localhost:8080/"
        },
        "id": "VmzwhhjL4Uyx",
        "outputId": "7b58bb73-ec14-4edf-c685-c284423ed96e"
      },
      "execution_count": null,
      "outputs": [
        {
          "output_type": "stream",
          "name": "stdout",
          "text": [
            "Mounted at /content/gdrive\n"
          ]
        }
      ]
    },
    {
      "cell_type": "markdown",
      "source": [
        "In order to upload a file in Colab because drag and drop uploading feature is not working on my case. You can ignore the following if you are using a local device and local files."
      ],
      "metadata": {
        "id": "BhS2Dt_8Z003"
      }
    },
    {
      "cell_type": "code",
      "source": [
        "from google.colab import files\n",
        "dataset_file_dict = files.upload()"
      ],
      "metadata": {
        "id": "-siYGq5ji-uk",
        "colab": {
          "resources": {
            "http://localhost:8080/nbextensions/google.colab/files.js": {
              "data": "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",
              "ok": true,
              "headers": [
                [
                  "content-type",
                  "application/javascript"
                ]
              ],
              "status": 200,
              "status_text": "OK"
            }
          },
          "base_uri": "https://localhost:8080/",
          "height": 74
        },
        "outputId": "22c9e3d3-fdd5-42e0-ad56-5c45b007989c"
      },
      "execution_count": null,
      "outputs": [
        {
          "output_type": "display_data",
          "data": {
            "text/html": [
              "\n",
              "     <input type=\"file\" id=\"files-04e928d8-0af5-427f-a466-206724088cd6\" name=\"files[]\" multiple disabled\n",
              "        style=\"border:none\" />\n",
              "     <output id=\"result-04e928d8-0af5-427f-a466-206724088cd6\">\n",
              "      Upload widget is only available when the cell has been executed in the\n",
              "      current browser session. Please rerun this cell to enable.\n",
              "      </output>\n",
              "      <script src=\"/nbextensions/google.colab/files.js\"></script> "
            ],
            "text/plain": [
              "<IPython.core.display.HTML object>"
            ]
          },
          "metadata": {}
        },
        {
          "output_type": "stream",
          "name": "stdout",
          "text": [
            "Saving questions-words.txt to questions-words.txt\n"
          ]
        }
      ]
    },
    {
      "cell_type": "markdown",
      "source": [
        "Test some word2vec models with some other text corpus to compare with our own models and embeddings."
      ],
      "metadata": {
        "id": "OgAnmNCCZek2"
      }
    },
    {
      "cell_type": "code",
      "source": [
        "large_corpus = []\n",
        "with open('/content/line_corpus.txt', 'r') as inp:\n",
        "    for line in inp:\n",
        "        large_corpus.append(line.split())\n",
        "\n",
        "small_corpus = []\n",
        "with open('/content/small_line_corpus.txt', 'r') as inp:\n",
        "    for line in inp:\n",
        "        small_corpus.append(line.split())"
      ],
      "metadata": {
        "id": "9ymAbdP0z7VW"
      },
      "execution_count": null,
      "outputs": []
    },
    {
      "cell_type": "code",
      "source": [
        "# Some other models just for testing with our corpus\n",
        "word2vec_small = Word2Vec(small_corpus, iter=100, min_count=10, size=128, workers=4)\n",
        "word2vec_big = Word2Vec(large_corpus, iter=100, min_count=10, size=128, workers=4)"
      ],
      "metadata": {
        "id": "HXWhMkQUqOmo"
      },
      "execution_count": null,
      "outputs": []
    },
    {
      "cell_type": "markdown",
      "source": [
        "Loading our embedding vectors from the drive and the dataset file."
      ],
      "metadata": {
        "id": "vX9twav3aDWT"
      }
    },
    {
      "cell_type": "markdown",
      "source": [
        "You need to change the path of the files accordingly"
      ],
      "metadata": {
        "id": "VXD-FKNw1ysE"
      }
    },
    {
      "cell_type": "code",
      "source": [
        "improved_wg2v_file = \"/content/gdrive/MyDrive/GloveEmbeddings/embeddings_50_enhanced_200k_small.tsv\"\n",
        "original_wg2v_file = \"/content/gdrive/MyDrive/GloveEmbeddings/embeddings_50_enhanced_200k.tsv\"\n",
        "loss_wg2v_file = \"/content/gdrive/MyDrive/GloveEmbeddings/embeddings_original_graph_wg2v.tsv\"\n",
        "baseline_w2v_file = \"/content/gdrive/MyDrive/GloveEmbeddings/embeddings_50_normal_big.tsv\"\n",
        "synonym_w2v_file = \"/content/gdrive/MyDrive/GloveEmbeddings/embeddings_synonym_relation_w2v.tsv\"\n",
        "hypernym_w2v_file = \"/content/gdrive/MyDrive/GloveEmbeddings/embeddings_hypernym_relation_w2v.tsv\""
      ],
      "metadata": {
        "id": "0vzkfVf1yjUf"
      },
      "execution_count": null,
      "outputs": []
    },
    {
      "cell_type": "code",
      "source": [
        "enahnced_file = \"/content/gdrive/MyDrive/GloveEmbeddings/embeddings_128_enhanced_ws3.tsv\"\n",
        "normal_file = \"/content/gdrive/MyDrive/GloveEmbeddings/embeddings_128_normal_ws3.tsv\""
      ],
      "metadata": {
        "id": "VQPtq_TXbLCy"
      },
      "execution_count": null,
      "outputs": []
    },
    {
      "cell_type": "code",
      "source": [
        "glove_file = \"/content/gdrive/MyDrive/GloveEmbeddings/glove.twitter.27B.200d.txt\""
      ],
      "metadata": {
        "id": "syywg4P5PVzU"
      },
      "execution_count": null,
      "outputs": []
    },
    {
      "cell_type": "code",
      "source": [
        "analogy_file = '/content/questions-words.txt'\n",
        "analogy_list = []\n",
        "with open(analogy_file, 'r') as inp:\n",
        "    for line in inp:\n",
        "        if 'capital-common-countries' in line:\n",
        "            continue\n",
        "        words = line.lower().strip().split()\n",
        "        analogy_list.append(words)"
      ],
      "metadata": {
        "id": "lTaOMVIHSSTn"
      },
      "execution_count": null,
      "outputs": []
    },
    {
      "cell_type": "code",
      "source": [
        "analogy_set = pd.DataFrame(analogy_list)"
      ],
      "metadata": {
        "id": "61Ij2hSLT10Y"
      },
      "execution_count": null,
      "outputs": []
    },
    {
      "cell_type": "code",
      "source": [
        "analogy_set.head()"
      ],
      "metadata": {
        "colab": {
          "base_uri": "https://localhost:8080/",
          "height": 206
        },
        "id": "O4qG0inUURbZ",
        "outputId": "a1b0ff1c-ec24-439d-99c3-97eae8842c47"
      },
      "execution_count": null,
      "outputs": [
        {
          "output_type": "execute_result",
          "data": {
            "text/html": [
              "\n",
              "  <div id=\"df-5639c13d-08cf-442b-8e9c-811d031d8550\">\n",
              "    <div class=\"colab-df-container\">\n",
              "      <div>\n",
              "<style scoped>\n",
              "    .dataframe tbody tr th:only-of-type {\n",
              "        vertical-align: middle;\n",
              "    }\n",
              "\n",
              "    .dataframe tbody tr th {\n",
              "        vertical-align: top;\n",
              "    }\n",
              "\n",
              "    .dataframe thead th {\n",
              "        text-align: right;\n",
              "    }\n",
              "</style>\n",
              "<table border=\"1\" class=\"dataframe\">\n",
              "  <thead>\n",
              "    <tr style=\"text-align: right;\">\n",
              "      <th></th>\n",
              "      <th>0</th>\n",
              "      <th>1</th>\n",
              "      <th>2</th>\n",
              "      <th>3</th>\n",
              "    </tr>\n",
              "  </thead>\n",
              "  <tbody>\n",
              "    <tr>\n",
              "      <th>0</th>\n",
              "      <td>athens</td>\n",
              "      <td>greece</td>\n",
              "      <td>baghdad</td>\n",
              "      <td>iraq</td>\n",
              "    </tr>\n",
              "    <tr>\n",
              "      <th>1</th>\n",
              "      <td>athens</td>\n",
              "      <td>greece</td>\n",
              "      <td>bangkok</td>\n",
              "      <td>thailand</td>\n",
              "    </tr>\n",
              "    <tr>\n",
              "      <th>2</th>\n",
              "      <td>athens</td>\n",
              "      <td>greece</td>\n",
              "      <td>beijing</td>\n",
              "      <td>china</td>\n",
              "    </tr>\n",
              "    <tr>\n",
              "      <th>3</th>\n",
              "      <td>athens</td>\n",
              "      <td>greece</td>\n",
              "      <td>berlin</td>\n",
              "      <td>germany</td>\n",
              "    </tr>\n",
              "    <tr>\n",
              "      <th>4</th>\n",
              "      <td>athens</td>\n",
              "      <td>greece</td>\n",
              "      <td>bern</td>\n",
              "      <td>switzerland</td>\n",
              "    </tr>\n",
              "  </tbody>\n",
              "</table>\n",
              "</div>\n",
              "      <button class=\"colab-df-convert\" onclick=\"convertToInteractive('df-5639c13d-08cf-442b-8e9c-811d031d8550')\"\n",
              "              title=\"Convert this dataframe to an interactive table.\"\n",
              "              style=\"display:none;\">\n",
              "        \n",
              "  <svg xmlns=\"http://www.w3.org/2000/svg\" height=\"24px\"viewBox=\"0 0 24 24\"\n",
              "       width=\"24px\">\n",
              "    <path d=\"M0 0h24v24H0V0z\" fill=\"none\"/>\n",
              "    <path d=\"M18.56 5.44l.94 2.06.94-2.06 2.06-.94-2.06-.94-.94-2.06-.94 2.06-2.06.94zm-11 1L8.5 8.5l.94-2.06 2.06-.94-2.06-.94L8.5 2.5l-.94 2.06-2.06.94zm10 10l.94 2.06.94-2.06 2.06-.94-2.06-.94-.94-2.06-.94 2.06-2.06.94z\"/><path d=\"M17.41 7.96l-1.37-1.37c-.4-.4-.92-.59-1.43-.59-.52 0-1.04.2-1.43.59L10.3 9.45l-7.72 7.72c-.78.78-.78 2.05 0 2.83L4 21.41c.39.39.9.59 1.41.59.51 0 1.02-.2 1.41-.59l7.78-7.78 2.81-2.81c.8-.78.8-2.07 0-2.86zM5.41 20L4 18.59l7.72-7.72 1.47 1.35L5.41 20z\"/>\n",
              "  </svg>\n",
              "      </button>\n",
              "      \n",
              "  <style>\n",
              "    .colab-df-container {\n",
              "      display:flex;\n",
              "      flex-wrap:wrap;\n",
              "      gap: 12px;\n",
              "    }\n",
              "\n",
              "    .colab-df-convert {\n",
              "      background-color: #E8F0FE;\n",
              "      border: none;\n",
              "      border-radius: 50%;\n",
              "      cursor: pointer;\n",
              "      display: none;\n",
              "      fill: #1967D2;\n",
              "      height: 32px;\n",
              "      padding: 0 0 0 0;\n",
              "      width: 32px;\n",
              "    }\n",
              "\n",
              "    .colab-df-convert:hover {\n",
              "      background-color: #E2EBFA;\n",
              "      box-shadow: 0px 1px 2px rgba(60, 64, 67, 0.3), 0px 1px 3px 1px rgba(60, 64, 67, 0.15);\n",
              "      fill: #174EA6;\n",
              "    }\n",
              "\n",
              "    [theme=dark] .colab-df-convert {\n",
              "      background-color: #3B4455;\n",
              "      fill: #D2E3FC;\n",
              "    }\n",
              "\n",
              "    [theme=dark] .colab-df-convert:hover {\n",
              "      background-color: #434B5C;\n",
              "      box-shadow: 0px 1px 3px 1px rgba(0, 0, 0, 0.15);\n",
              "      filter: drop-shadow(0px 1px 2px rgba(0, 0, 0, 0.3));\n",
              "      fill: #FFFFFF;\n",
              "    }\n",
              "  </style>\n",
              "\n",
              "      <script>\n",
              "        const buttonEl =\n",
              "          document.querySelector('#df-5639c13d-08cf-442b-8e9c-811d031d8550 button.colab-df-convert');\n",
              "        buttonEl.style.display =\n",
              "          google.colab.kernel.accessAllowed ? 'block' : 'none';\n",
              "\n",
              "        async function convertToInteractive(key) {\n",
              "          const element = document.querySelector('#df-5639c13d-08cf-442b-8e9c-811d031d8550');\n",
              "          const dataTable =\n",
              "            await google.colab.kernel.invokeFunction('convertToInteractive',\n",
              "                                                     [key], {});\n",
              "          if (!dataTable) return;\n",
              "\n",
              "          const docLinkHtml = 'Like what you see? Visit the ' +\n",
              "            '<a target=\"_blank\" href=https://colab.research.google.com/notebooks/data_table.ipynb>data table notebook</a>'\n",
              "            + ' to learn more about interactive tables.';\n",
              "          element.innerHTML = '';\n",
              "          dataTable['output_type'] = 'display_data';\n",
              "          await google.colab.output.renderOutput(dataTable, element);\n",
              "          const docLink = document.createElement('div');\n",
              "          docLink.innerHTML = docLinkHtml;\n",
              "          element.appendChild(docLink);\n",
              "        }\n",
              "      </script>\n",
              "    </div>\n",
              "  </div>\n",
              "  "
            ],
            "text/plain": [
              "        0       1        2            3\n",
              "0  athens  greece  baghdad         iraq\n",
              "1  athens  greece  bangkok     thailand\n",
              "2  athens  greece  beijing        china\n",
              "3  athens  greece   berlin      germany\n",
              "4  athens  greece     bern  switzerland"
            ]
          },
          "metadata": {},
          "execution_count": 9
        }
      ]
    },
    {
      "cell_type": "markdown",
      "source": [
        "A method to convert from TSV to txt file, needed to run the gensim."
      ],
      "metadata": {
        "id": "_4VIkY9A13WB"
      }
    },
    {
      "cell_type": "code",
      "source": [
        "def writeEmbeddings2File(file, title='word2vec-enhanced-format.txt', line_count='60400', dimensions='100'):\n",
        "    with open(file, 'r') as inp, open('/content/'+title, 'w') as outp:\n",
        "        # The genism library needs the fist line of text to be line_count dimensions\n",
        "        # There is a wrong number\n",
        "        outp.write(' '.join([line_count, dimensions]) + '\\n')\n",
        "        for line in inp:\n",
        "            if '60401 128' in line:\n",
        "                print(line)\n",
        "                continue\n",
        "            words = line.strip().split()\n",
        "            outp.write(' '.join(words) + '\\n')"
      ],
      "metadata": {
        "id": "AwNLvdUp0Djr"
      },
      "execution_count": null,
      "outputs": []
    },
    {
      "cell_type": "code",
      "source": [
        "writeEmbeddings2File(normal_file, 'word2vec-normal-format.txt', dimensions='128')"
      ],
      "metadata": {
        "id": "b3lK2Kjk0i7U"
      },
      "execution_count": null,
      "outputs": []
    },
    {
      "cell_type": "code",
      "source": [
        "with open(enahnced_file, 'r') as inp, open('/content/word2vec-enhanced-format.txt', 'w') as outp:\n",
        "    # The genism library needs the fist line of text to be line_count dimensions\n",
        "    # There is a wrong number\n",
        "    line_count = '60400'    # line count of the tsv file (as string)\n",
        "    dimensions = '128'    # vector size (as string)\n",
        "    outp.write(' '.join([line_count, dimensions]) + '\\n')\n",
        "    for line in inp:\n",
        "        if '60401 128' in line:\n",
        "            print(line)\n",
        "            continue\n",
        "        words = line.strip().split()\n",
        "        outp.write(' '.join(words) + '\\n')"
      ],
      "metadata": {
        "id": "x2hsWhplY1dA"
      },
      "execution_count": null,
      "outputs": []
    },
    {
      "cell_type": "code",
      "source": [
        "writeEmbeddings2File(improved_wg2v_file, 'wg2v-improved.txt', '131110', '50')\n",
        "writeEmbeddings2File(original_wg2v_file, 'wg2v-original.txt', '282164', '50')\n",
        "writeEmbeddings2File(loss_wg2v_file, 'wg2v-loss.txt', '253696')\n",
        "writeEmbeddings2File(baseline_w2v_file, 'w2v-baseline.txt', '282164', '50')\n",
        "writeEmbeddings2File(synonym_w2v_file, 'w2v-synonym.txt', '253696')\n",
        "writeEmbeddings2File(hypernym_w2v_file, 'w2v-hypernym.txt', '253696')"
      ],
      "metadata": {
        "id": "zpfwEBWh0yvO"
      },
      "execution_count": null,
      "outputs": []
    },
    {
      "cell_type": "code",
      "source": [
        "with open('/content/w2v-baseline.txt', 'r') as f:\n",
        "    text = f.read()\n",
        "text[:100]"
      ],
      "metadata": {
        "colab": {
          "base_uri": "https://localhost:8080/",
          "height": 36
        },
        "id": "Ryt8iXA568Tk",
        "outputId": "49d984a1-9e15-4adf-cc87-dbc596cc5022"
      },
      "execution_count": null,
      "outputs": [
        {
          "output_type": "execute_result",
          "data": {
            "application/vnd.google.colaboratory.intrinsic+json": {
              "type": "string"
            },
            "text/plain": [
              "'282164 50\\n[UNK] -0.037252843 0.027138237 -0.010363817 -0.047187783 0.041901793 -0.041833855 -0.03042'"
            ]
          },
          "metadata": {},
          "execution_count": 51
        }
      ]
    },
    {
      "cell_type": "code",
      "source": [
        "word2vec_model_enhanced = KeyedVectors.load_word2vec_format('/content/word2vec-enhanced-format.txt')\n",
        "word2vec_model_normal = KeyedVectors.load_word2vec_format('/content/word2vec-normal-format.txt')\n",
        "wordgraph2vec_improved = KeyedVectors.load_word2vec_format('/content/wg2v-improved.txt')\n",
        "wordgraph2vec_original = KeyedVectors.load_word2vec_format('/content/wg2v-original.txt')\n",
        "wordgraph2vec_loss = KeyedVectors.load_word2vec_format('/content/wg2v-loss.txt')\n",
        "word2vec_baseline = KeyedVectors.load_word2vec_format('/content/w2v-baseline.txt')\n",
        "word2vec_synonym = KeyedVectors.load_word2vec_format('/content/w2v-synonym.txt')\n",
        "word2vec_hypernym = KeyedVectors.load_word2vec_format('/content/w2v-hypernym.txt')"
      ],
      "metadata": {
        "id": "lbU5rZiVY9Ue"
      },
      "execution_count": null,
      "outputs": []
    },
    {
      "cell_type": "code",
      "execution_count": null,
      "metadata": {
        "id": "XwUBrLKZEHPI"
      },
      "outputs": [],
      "source": [
        "word2vec_model = KeyedVectors.load_word2vec_format(glove_file)\n",
        "\n",
        "# Extra methods that might help\n",
        "# path_glove = os.path.abspath('glove.twitter.27B/glove.twitter.27B.200d.txt')\n",
        "# path_w2v = os.path.abspath('glove.twitter.27B/glove.twitter.27B.200d_w2v.txt')\n",
        "# glove_file = datapath(path_glove)\n",
        "# tmp_file = get_tmpfile(path_w2v)\n",
        "# _ = glove2word2vec(glove_file, tmp_file)\n",
        "# path = os.path.abspath('/content/glove.twitter.27B.200d_w2v.txt')\n",
        "# model = KeyedVectors.load_word2vec_format(path, binary=False)"
      ]
    },
    {
      "cell_type": "code",
      "source": [
        "print(word2vec_model_enhanced.most_similar(positive=['love']))\n",
        "print(word2vec_model_normal.most_similar(positive=['love']))"
      ],
      "metadata": {
        "colab": {
          "base_uri": "https://localhost:8080/"
        },
        "id": "z4kvd0rALOTu",
        "outputId": "101a65f7-413d-4569-d2e8-6e8d79627a25"
      },
      "execution_count": null,
      "outputs": [
        {
          "output_type": "stream",
          "name": "stdout",
          "text": [
            "[('aboardboatswain', 0.5006822347640991), ('saymadamsweetheartwhy', 0.48838919401168823), ('bridewhat', 0.4867592751979828), ('lightenssweet', 0.479088693857193), ('decayrather', 0.4758055508136749), ('hererosaline', 0.47497984766960144), ('policyqueen', 0.4685123562812805), ('capuletromeo', 0.4676735997200012), ('youparis', 0.46702253818511963), ('doubtthat', 0.462902307510376)]\n",
            "[('honourduke', 0.5923405885696411), ('praytranio', 0.5792211294174194), ('breeder', 0.565059244632721), ('friendthird', 0.5606236457824707), ('conceald', 0.557123601436615), ('sirbiondello', 0.5556697845458984), ('atonement', 0.5491896867752075), ('graceedward', 0.5482177138328552), ('comesthou', 0.5478737354278564), ('wayduke', 0.5464489459991455)]\n"
          ]
        }
      ]
    },
    {
      "cell_type": "markdown",
      "source": [
        "## Cosine Similariyt"
      ],
      "metadata": {
        "id": "Ys7fDEGDblmI"
      }
    },
    {
      "cell_type": "code",
      "source": [
        "def cosine_similarity(u, v):\n",
        "    \"\"\"\n",
        "    Cosine similarity reflects the degree of similariy between u and v\n",
        "    Arguments:\n",
        "        u -- a word vector of shape (n,)\n",
        "        v -- a word vector of shape (n,)\n",
        "    Returns:\n",
        "        cosine_similarity -- the cosine similarity between u and v defined by the formula above.\n",
        "    \"\"\"\n",
        "    distance = 0.0\n",
        "    # Compute the dot product between u and v (≈1 line)\n",
        "    dot = np.dot(u, v)\n",
        "    # Compute the L2 norm of u (≈1 line)\n",
        "    norm_u = np.sqrt(np.sum(u**2))\n",
        "    # Compute the L2 norm of v (≈1 line)\n",
        "    norm_v = np.sqrt(np.sum(v**2))\n",
        "    # Compute the cosine similarity defined by formula (1) (≈1 line)\n",
        "    cosine_similarity = dot / np.dot(norm_u, norm_v)\n",
        "    return cosine_similarity"
      ],
      "metadata": {
        "id": "YCk9dDfRSljU"
      },
      "execution_count": null,
      "outputs": []
    },
    {
      "cell_type": "markdown",
      "source": [
        "### Comple the analogy (Task)"
      ],
      "metadata": {
        "id": "yGrp-cL0dLJp"
      }
    },
    {
      "cell_type": "code",
      "source": [
        "def complete_analogy(word_a, word_b, word_c, word_to_vec_map):\n",
        "    \"\"\"\n",
        "    Performs the word analogy task as explained above: a is to b as c is to ____.\n",
        "\n",
        "    Arguments:\n",
        "    word_a -- a word, string\n",
        "    word_b -- a word, string\n",
        "    word_c -- a word, string\n",
        "    word_to_vec_map -- dictionary that maps words to their corresponding vectors.\n",
        "\n",
        "    Returns:\n",
        "    best_word --  the word such that v_b - v_a is close to v_best_word - v_c, as measured by cosine similarity\n",
        "    \"\"\"\n",
        "\n",
        "    # convert words to lower case\n",
        "    word_a, word_b, word_c = word_a.lower(), word_b.lower(), word_c.lower()\n",
        "    # Get the word embeddings v_a, v_b and v_c (≈1-3 lines)\n",
        "    e_a, e_b, e_c = word_to_vec_map[word_a], word_to_vec_map[word_b], word_to_vec_map[word_c]\n",
        "    ### END CODE HERE ###\n",
        "    words = word_to_vec_map.vocab.keys()\n",
        "    max_cosine_sim = -100 # Initialize max_cosine_sim to a large negative number\n",
        "    best_word = None # Initialize best_word with None, it will help keep track of the word to output\n",
        "\n",
        "    # loop over the whole word vector set\n",
        "    for w in words:\n",
        "        # to avoid best_word being one of the input words, pass on them.\n",
        "        if w in [word_a, word_b, word_c] :\n",
        "            continue\n",
        "        # Compute cosine similarity between the vector (e_b - e_a) and the vector ((w's vector representation) - e_c)  (≈1 line)\n",
        "        cosine_sim = cosine_similarity((e_b - e_a), (word_to_vec_map[w] - e_c))\n",
        "        # If the cosine_sim is more than the max_cosine_sim seen so far,\n",
        "            # then: set the new max_cosine_sim to the current cosine_sim and the best_word to the current word (≈3 lines)\n",
        "        if cosine_sim > max_cosine_sim:\n",
        "            max_cosine_sim = cosine_sim\n",
        "            best_word = w\n",
        "        ### END CODE HERE ###\n",
        "\n",
        "    return best_word"
      ],
      "metadata": {
        "id": "bWfr6kIUSom4"
      },
      "execution_count": null,
      "outputs": []
    },
    {
      "cell_type": "code",
      "source": [
        "print(complete_analogy('England', 'london', 'Austria', word2vec_model_enhanced))\n",
        "print(complete_analogy('England', 'london', 'Austria', word2vec_model_normal))\n",
        "print(complete_analogy('England', 'london', 'Austria', word2vec_model))\n",
        "print(complete_analogy('write', 'writes', 'think', word2vec_model_enhanced))\n",
        "print(complete_analogy('write', 'writes', 'think', word2vec_model_normal))\n",
        "print(complete_analogy('write', 'writes', 'think', word2vec_model))"
      ],
      "metadata": {
        "colab": {
          "base_uri": "https://localhost:8080/"
        },
        "id": "cThrD7DFPTYx",
        "outputId": "e5b06e49-3390-49fa-dea8-78c528b62335"
      },
      "execution_count": null,
      "outputs": [
        {
          "output_type": "stream",
          "name": "stdout",
          "text": [
            "quoting\n",
            "contributed\n",
            "shoreditch\n",
            "evangelization\n",
            "capped\n",
            "thinks\n"
          ]
        }
      ]
    },
    {
      "cell_type": "markdown",
      "source": [
        "A simple and a faster method for testing"
      ],
      "metadata": {
        "id": "UxWwCYJTdP5r"
      }
    },
    {
      "cell_type": "code",
      "source": [
        "def analogy(worda, wordb, wordc, word2vec_model):\n",
        "    try:\n",
        "        result = word2vec_model.most_similar(negative=[worda], positive=[wordb, wordc])\n",
        "    except Exception as e:\n",
        "        return 'not found'\n",
        "    return result[0][0]"
      ],
      "metadata": {
        "id": "n1JMOMAKdPEp"
      },
      "execution_count": null,
      "outputs": []
    },
    {
      "cell_type": "code",
      "source": [
        "def do_analogy_task(analogy_set, model):\n",
        "    found = 0\n",
        "    not_found = 0\n",
        "    missing_word = 0\n",
        "    import tqdm\n",
        "    for index, analogy_test in analogy_set.iterrows():\n",
        "        if index != 0 and index % 1000 == 0:\n",
        "            print(f'>>  Checked {index} words and found {found} answers correct, {not_found} wrong and {missing_word} OOV words')\n",
        "        worda, wordb, wordc, wordd = analogy_test[0], analogy_test[1], analogy_test[2], analogy_test[3]\n",
        "        new_word = analogy(worda, wordb, wordc, model)\n",
        "        if new_word == 'not found':\n",
        "            missing_word += 1\n",
        "        if new_word == wordd:\n",
        "            found += 1\n",
        "        else:\n",
        "            not_found += 1"
      ],
      "metadata": {
        "id": "Sifsn1lUbIAl"
      },
      "execution_count": null,
      "outputs": []
    },
    {
      "cell_type": "code",
      "source": [
        "do_analogy_task(analogy_set, word2vec_model_enhanced)"
      ],
      "metadata": {
        "colab": {
          "base_uri": "https://localhost:8080/"
        },
        "id": "fn3jFsUN_-oe",
        "outputId": "15f0f44d-95b0-4bdb-e8b7-77c0f004746f"
      },
      "execution_count": null,
      "outputs": [
        {
          "output_type": "stream",
          "name": "stdout",
          "text": [
            ">>  Checked 1000 words and found 370 answers correct, 630 wrong and 77 OOV words\n",
            ">>  Checked 2000 words and found 505 answers correct, 1495 wrong and 194 OOV words\n",
            ">>  Checked 3000 words and found 615 answers correct, 2385 wrong and 386 OOV words\n",
            ">>  Checked 4000 words and found 785 answers correct, 3215 wrong and 569 OOV words\n",
            ">>  Checked 5000 words and found 950 answers correct, 4050 wrong and 751 OOV words\n",
            ">>  Checked 6000 words and found 950 answers correct, 5050 wrong and 1034 OOV words\n",
            ">>  Checked 7000 words and found 950 answers correct, 6050 wrong and 1466 OOV words\n",
            ">>  Checked 8000 words and found 965 answers correct, 7035 wrong and 2102 OOV words\n",
            ">>  Checked 9000 words and found 1000 answers correct, 8000 wrong and 2588 OOV words\n",
            ">>  Checked 10000 words and found 1010 answers correct, 8990 wrong and 2830 OOV words\n",
            ">>  Checked 11000 words and found 1015 answers correct, 9985 wrong and 3185 OOV words\n",
            ">>  Checked 12000 words and found 1020 answers correct, 10980 wrong and 3257 OOV words\n",
            ">>  Checked 13000 words and found 1040 answers correct, 11960 wrong and 3596 OOV words\n",
            ">>  Checked 14000 words and found 1040 answers correct, 12960 wrong and 3788 OOV words\n",
            ">>  Checked 15000 words and found 1225 answers correct, 13775 wrong and 3865 OOV words\n",
            ">>  Checked 16000 words and found 1555 answers correct, 14445 wrong and 3877 OOV words\n",
            ">>  Checked 17000 words and found 1620 answers correct, 15380 wrong and 4002 OOV words\n",
            ">>  Checked 18000 words and found 1630 answers correct, 16370 wrong and 4179 OOV words\n",
            ">>  Checked 19000 words and found 1645 answers correct, 17355 wrong and 4519 OOV words\n"
          ]
        }
      ]
    },
    {
      "cell_type": "code",
      "source": [
        "do_analogy_task(analogy_set, wordgraph2vec_improved)"
      ],
      "metadata": {
        "colab": {
          "base_uri": "https://localhost:8080/"
        },
        "id": "elEXNmTJA98Q",
        "outputId": "1e1a25b7-fd41-49bd-cc22-f6c9f53741e1"
      },
      "execution_count": null,
      "outputs": [
        {
          "output_type": "stream",
          "name": "stdout",
          "text": [
            ">>  Checked 1000 words and found 135 answers correct, 865 wrong and 111 OOV words\n",
            ">>  Checked 2000 words and found 175 answers correct, 1825 wrong and 182 OOV words\n",
            ">>  Checked 3000 words and found 235 answers correct, 2765 wrong and 222 OOV words\n",
            ">>  Checked 4000 words and found 310 answers correct, 3690 wrong and 260 OOV words\n",
            ">>  Checked 5000 words and found 360 answers correct, 4640 wrong and 381 OOV words\n",
            ">>  Checked 6000 words and found 390 answers correct, 5610 wrong and 384 OOV words\n",
            ">>  Checked 7000 words and found 570 answers correct, 6430 wrong and 402 OOV words\n",
            ">>  Checked 8000 words and found 665 answers correct, 7335 wrong and 457 OOV words\n",
            ">>  Checked 9000 words and found 980 answers correct, 8020 wrong and 481 OOV words\n",
            ">>  Checked 10000 words and found 1005 answers correct, 8995 wrong and 482 OOV words\n",
            ">>  Checked 11000 words and found 1080 answers correct, 9920 wrong and 483 OOV words\n",
            ">>  Checked 12000 words and found 1165 answers correct, 10835 wrong and 483 OOV words\n",
            ">>  Checked 13000 words and found 1195 answers correct, 11805 wrong and 517 OOV words\n",
            ">>  Checked 14000 words and found 1360 answers correct, 12640 wrong and 551 OOV words\n",
            ">>  Checked 15000 words and found 1505 answers correct, 13495 wrong and 552 OOV words\n",
            ">>  Checked 16000 words and found 1735 answers correct, 14265 wrong and 553 OOV words\n",
            ">>  Checked 17000 words and found 1800 answers correct, 15200 wrong and 553 OOV words\n",
            ">>  Checked 18000 words and found 1875 answers correct, 16125 wrong and 554 OOV words\n",
            ">>  Checked 19000 words and found 1960 answers correct, 17040 wrong and 555 OOV words\n"
          ]
        }
      ]
    },
    {
      "cell_type": "code",
      "source": [
        "do_analogy_task(analogy_set, wordgraph2vec_original)"
      ],
      "metadata": {
        "colab": {
          "base_uri": "https://localhost:8080/"
        },
        "id": "cH7i9AX2A-Zq",
        "outputId": "0cf8d75a-a9b5-4d4f-e9cd-11f0d465f7d7"
      },
      "execution_count": null,
      "outputs": [
        {
          "output_type": "stream",
          "name": "stdout",
          "text": [
            ">>  Checked 1000 words and found 70 answers correct, 930 wrong and 12 OOV words\n",
            ">>  Checked 2000 words and found 110 answers correct, 1890 wrong and 39 OOV words\n",
            ">>  Checked 3000 words and found 150 answers correct, 2850 wrong and 79 OOV words\n",
            ">>  Checked 4000 words and found 195 answers correct, 3805 wrong and 79 OOV words\n",
            ">>  Checked 5000 words and found 220 answers correct, 4780 wrong and 79 OOV words\n",
            ">>  Checked 6000 words and found 275 answers correct, 5725 wrong and 81 OOV words\n",
            ">>  Checked 7000 words and found 460 answers correct, 6540 wrong and 81 OOV words\n",
            ">>  Checked 8000 words and found 655 answers correct, 7345 wrong and 81 OOV words\n",
            ">>  Checked 9000 words and found 910 answers correct, 8090 wrong and 83 OOV words\n",
            ">>  Checked 10000 words and found 915 answers correct, 9085 wrong and 84 OOV words\n",
            ">>  Checked 11000 words and found 960 answers correct, 10040 wrong and 85 OOV words\n",
            ">>  Checked 12000 words and found 1030 answers correct, 10970 wrong and 85 OOV words\n",
            ">>  Checked 13000 words and found 1070 answers correct, 11930 wrong and 119 OOV words\n",
            ">>  Checked 14000 words and found 1165 answers correct, 12835 wrong and 153 OOV words\n",
            ">>  Checked 15000 words and found 1245 answers correct, 13755 wrong and 154 OOV words\n",
            ">>  Checked 16000 words and found 1365 answers correct, 14635 wrong and 155 OOV words\n",
            ">>  Checked 17000 words and found 1470 answers correct, 15530 wrong and 155 OOV words\n",
            ">>  Checked 18000 words and found 1570 answers correct, 16430 wrong and 156 OOV words\n",
            ">>  Checked 19000 words and found 1645 answers correct, 17355 wrong and 157 OOV words\n"
          ]
        }
      ]
    },
    {
      "cell_type": "code",
      "source": [
        "do_analogy_task(analogy_set, wordgraph2vec_loss)"
      ],
      "metadata": {
        "colab": {
          "base_uri": "https://localhost:8080/"
        },
        "id": "czWQongwA-xZ",
        "outputId": "f4c6578b-be8f-4ca1-ad22-d1a33092b573"
      },
      "execution_count": null,
      "outputs": [
        {
          "output_type": "stream",
          "name": "stdout",
          "text": [
            ">>  Checked 1000 words and found 2 answers correct, 998 wrong and 57 OOV words\n",
            ">>  Checked 2000 words and found 3 answers correct, 1997 wrong and 84 OOV words\n",
            ">>  Checked 3000 words and found 3 answers correct, 2997 wrong and 149 OOV words\n",
            ">>  Checked 4000 words and found 3 answers correct, 3997 wrong and 232 OOV words\n",
            ">>  Checked 5000 words and found 4 answers correct, 4996 wrong and 309 OOV words\n",
            ">>  Checked 6000 words and found 4 answers correct, 5996 wrong and 340 OOV words\n",
            ">>  Checked 7000 words and found 4 answers correct, 6996 wrong and 340 OOV words\n",
            ">>  Checked 8000 words and found 4 answers correct, 7996 wrong and 340 OOV words\n",
            ">>  Checked 9000 words and found 4 answers correct, 8996 wrong and 432 OOV words\n",
            ">>  Checked 10000 words and found 4 answers correct, 9996 wrong and 491 OOV words\n",
            ">>  Checked 11000 words and found 4 answers correct, 10996 wrong and 492 OOV words\n",
            ">>  Checked 12000 words and found 4 answers correct, 11996 wrong and 492 OOV words\n",
            ">>  Checked 13000 words and found 4 answers correct, 12996 wrong and 526 OOV words\n",
            ">>  Checked 14000 words and found 4 answers correct, 13996 wrong and 560 OOV words\n",
            ">>  Checked 15000 words and found 4 answers correct, 14996 wrong and 561 OOV words\n",
            ">>  Checked 16000 words and found 5 answers correct, 15995 wrong and 562 OOV words\n",
            ">>  Checked 17000 words and found 5 answers correct, 16995 wrong and 562 OOV words\n",
            ">>  Checked 18000 words and found 5 answers correct, 17995 wrong and 563 OOV words\n",
            ">>  Checked 19000 words and found 5 answers correct, 18995 wrong and 564 OOV words\n"
          ]
        }
      ]
    },
    {
      "cell_type": "code",
      "source": [
        "do_analogy_task(analogy_set, word2vec_baseline)"
      ],
      "metadata": {
        "colab": {
          "base_uri": "https://localhost:8080/"
        },
        "id": "P5eLfI0kA_eu",
        "outputId": "fd7d70ce-3cb6-40e2-ebf6-9d915b7fe86e"
      },
      "execution_count": null,
      "outputs": [
        {
          "output_type": "stream",
          "name": "stdout",
          "text": [
            ">>  Checked 1000 words and found 169 answers correct, 831 wrong and 12 OOV words\n",
            ">>  Checked 2000 words and found 269 answers correct, 1731 wrong and 39 OOV words\n",
            ">>  Checked 3000 words and found 338 answers correct, 2662 wrong and 79 OOV words\n",
            ">>  Checked 4000 words and found 397 answers correct, 3603 wrong and 79 OOV words\n",
            ">>  Checked 5000 words and found 458 answers correct, 4542 wrong and 79 OOV words\n",
            ">>  Checked 6000 words and found 488 answers correct, 5512 wrong and 81 OOV words\n",
            ">>  Checked 7000 words and found 517 answers correct, 6483 wrong and 81 OOV words\n",
            ">>  Checked 8000 words and found 559 answers correct, 7441 wrong and 81 OOV words\n",
            ">>  Checked 9000 words and found 646 answers correct, 8354 wrong and 83 OOV words\n",
            ">>  Checked 10000 words and found 656 answers correct, 9344 wrong and 84 OOV words\n",
            ">>  Checked 11000 words and found 697 answers correct, 10303 wrong and 85 OOV words\n",
            ">>  Checked 12000 words and found 759 answers correct, 11241 wrong and 85 OOV words\n",
            ">>  Checked 13000 words and found 771 answers correct, 12229 wrong and 119 OOV words\n",
            ">>  Checked 14000 words and found 812 answers correct, 13188 wrong and 153 OOV words\n",
            ">>  Checked 15000 words and found 966 answers correct, 14034 wrong and 154 OOV words\n",
            ">>  Checked 16000 words and found 1157 answers correct, 14843 wrong and 155 OOV words\n",
            ">>  Checked 17000 words and found 1203 answers correct, 15797 wrong and 155 OOV words\n",
            ">>  Checked 18000 words and found 1267 answers correct, 16733 wrong and 156 OOV words\n",
            ">>  Checked 19000 words and found 1313 answers correct, 17687 wrong and 157 OOV words\n"
          ]
        }
      ]
    },
    {
      "cell_type": "code",
      "source": [
        "do_analogy_task(analogy_set, word2vec_synonym)"
      ],
      "metadata": {
        "id": "KyirFEi5BKnX"
      },
      "execution_count": null,
      "outputs": []
    },
    {
      "cell_type": "code",
      "source": [
        "do_analogy_task(analogy_set, word2vec_hypernym)"
      ],
      "metadata": {
        "colab": {
          "base_uri": "https://localhost:8080/"
        },
        "id": "tIKm5TgxBGXn",
        "outputId": "059e23e0-b534-4508-9915-52c85e93a67b"
      },
      "execution_count": null,
      "outputs": [
        {
          "output_type": "stream",
          "name": "stdout",
          "text": [
            ">>  Checked 1000 words and found 31 answers correct, 969 wrong and 57 OOV words\n",
            ">>  Checked 2000 words and found 61 answers correct, 1939 wrong and 84 OOV words\n",
            ">>  Checked 3000 words and found 90 answers correct, 2910 wrong and 149 OOV words\n",
            ">>  Checked 4000 words and found 118 answers correct, 3882 wrong and 232 OOV words\n",
            ">>  Checked 5000 words and found 145 answers correct, 4855 wrong and 309 OOV words\n",
            ">>  Checked 6000 words and found 171 answers correct, 5829 wrong and 340 OOV words\n",
            ">>  Checked 7000 words and found 196 answers correct, 6804 wrong and 340 OOV words\n",
            ">>  Checked 8000 words and found 220 answers correct, 7780 wrong and 340 OOV words\n",
            ">>  Checked 9000 words and found 243 answers correct, 8757 wrong and 432 OOV words\n",
            ">>  Checked 10000 words and found 265 answers correct, 9735 wrong and 491 OOV words\n",
            ">>  Checked 11000 words and found 297 answers correct, 10702 wrong and 492 OOV words\n",
            ">>  Checked 12000 words and found 317 answers correct, 11682 wrong and 492 OOV words\n",
            ">>  Checked 13000 words and found 336 answers correct, 12663 wrong and 526 OOV words\n",
            ">>  Checked 14000 words and found 354 answers correct, 13645 wrong and 560 OOV words\n",
            ">>  Checked 15000 words and found 371 answers correct, 14628 wrong and 561 OOV words\n",
            ">>  Checked 16000 words and found 387 answers correct, 15612 wrong and 562 OOV words\n",
            ">>  Checked 17000 words and found 402 answers correct, 16597 wrong and 562 OOV words\n",
            ">>  Checked 18000 words and found 416 answers correct, 17583 wrong and 563 OOV words\n",
            ">>  Checked 19000 words and found 429 answers correct, 18570 wrong and 564 OOV words\n"
          ]
        }
      ]
    },
    {
      "cell_type": "markdown",
      "source": [
        "### Old Test and Experiments"
      ],
      "metadata": {
        "id": "FLlBHC7wbPu8"
      }
    },
    {
      "cell_type": "code",
      "source": [
        "found = 0\n",
        "not_found = 0\n",
        "missing_word = 0\n",
        "import tqdm\n",
        "for index, analogy_test in analogy_set.iterrows():\n",
        "    if index != 0 and index % 1000 == 0:\n",
        "        print(f'Checked {index} words and found {found} answers correct, {not_found} wrong and {missing_word} OOV words')\n",
        "    worda, wordb, wordc, wordd = analogy_test[0], analogy_test[1], analogy_test[2], analogy_test[3]\n",
        "    new_word = analogy(worda, wordb, wordc, word2vec_model_normal)\n",
        "    if new_word == 'not found':\n",
        "        missing_word += 1\n",
        "    if new_word == wordd:\n",
        "        found += 1\n",
        "    else:\n",
        "        not_found += 1"
      ],
      "metadata": {
        "colab": {
          "base_uri": "https://localhost:8080/"
        },
        "id": "5bHI1TSAZlOY",
        "outputId": "ba27e726-ff4b-4933-df97-d14937be5ae0"
      },
      "execution_count": null,
      "outputs": [
        {
          "output_type": "stream",
          "name": "stdout",
          "text": [
            "Checked 1000 words and found 2 answers correct, 998 wrong and 77 OOV words\n",
            "Checked 2000 words and found 2 answers correct, 1998 wrong and 194 OOV words\n",
            "Checked 3000 words and found 2 answers correct, 2998 wrong and 386 OOV words\n",
            "Checked 4000 words and found 2 answers correct, 3998 wrong and 569 OOV words\n",
            "Checked 5000 words and found 2 answers correct, 4998 wrong and 751 OOV words\n",
            "Checked 6000 words and found 2 answers correct, 5998 wrong and 1034 OOV words\n",
            "Checked 7000 words and found 2 answers correct, 6998 wrong and 1466 OOV words\n",
            "Checked 8000 words and found 4 answers correct, 7996 wrong and 2102 OOV words\n",
            "Checked 9000 words and found 5 answers correct, 8995 wrong and 2588 OOV words\n",
            "Checked 10000 words and found 5 answers correct, 9995 wrong and 2830 OOV words\n",
            "Checked 11000 words and found 5 answers correct, 10995 wrong and 3185 OOV words\n",
            "Checked 12000 words and found 5 answers correct, 11995 wrong and 3257 OOV words\n",
            "Checked 13000 words and found 5 answers correct, 12995 wrong and 3596 OOV words\n",
            "Checked 14000 words and found 5 answers correct, 13995 wrong and 3788 OOV words\n",
            "Checked 15000 words and found 6 answers correct, 14994 wrong and 3865 OOV words\n",
            "Checked 16000 words and found 8 answers correct, 15992 wrong and 3877 OOV words\n",
            "Checked 17000 words and found 8 answers correct, 16992 wrong and 4002 OOV words\n",
            "Checked 18000 words and found 8 answers correct, 17992 wrong and 4179 OOV words\n",
            "Checked 19000 words and found 8 answers correct, 18992 wrong and 4519 OOV words\n"
          ]
        }
      ]
    },
    {
      "cell_type": "code",
      "source": [
        "print('Normal Embeddings\\n')\n",
        "print(f'Checked {index} words and found {found} answers correct, {not_found} wrong and {missing_word} OOV words')"
      ],
      "metadata": {
        "id": "0NbOBZ-4Zqsv"
      },
      "execution_count": null,
      "outputs": []
    },
    {
      "cell_type": "code",
      "source": [
        "found = 0\n",
        "not_found = 0\n",
        "missing_word = 0\n",
        "import tqdm\n",
        "for index, analogy_test in analogy_set.iterrows():\n",
        "    if index != 0 and index % 1000 == 0:\n",
        "        print(f'Checked {index} words and found {found} answers correct, {not_found} wrong and {missing_word} OOV words')\n",
        "    worda, wordb, wordc, wordd = analogy_test[0], analogy_test[1], analogy_test[2], analogy_test[3]\n",
        "    new_word = analogy(worda, wordb, wordc, word2vec_model_enhanced)\n",
        "    if new_word == 'not found':\n",
        "        missing_word += 1\n",
        "    if new_word == wordd:\n",
        "        found += 1\n",
        "    else:\n",
        "        not_found += 1"
      ],
      "metadata": {
        "colab": {
          "base_uri": "https://localhost:8080/"
        },
        "id": "yEbnR4HCVOKX",
        "outputId": "d955e5eb-74d8-42c1-a5bf-09c0c4cb0ed2"
      },
      "execution_count": null,
      "outputs": [
        {
          "output_type": "stream",
          "name": "stdout",
          "text": [
            "Checked 1000 words and found 44 answers correct, 956 wrong and 77 OOV words\n",
            "Checked 2000 words and found 58 answers correct, 1942 wrong and 194 OOV words\n",
            "Checked 3000 words and found 64 answers correct, 2936 wrong and 386 OOV words\n",
            "Checked 4000 words and found 75 answers correct, 3925 wrong and 569 OOV words\n",
            "Checked 5000 words and found 87 answers correct, 4913 wrong and 751 OOV words\n",
            "Checked 6000 words and found 88 answers correct, 5912 wrong and 1034 OOV words\n",
            "Checked 7000 words and found 88 answers correct, 6912 wrong and 1466 OOV words\n",
            "Checked 8000 words and found 92 answers correct, 7908 wrong and 2102 OOV words\n",
            "Checked 9000 words and found 94 answers correct, 8906 wrong and 2588 OOV words\n",
            "Checked 10000 words and found 94 answers correct, 9906 wrong and 2830 OOV words\n",
            "Checked 11000 words and found 94 answers correct, 10906 wrong and 3185 OOV words\n",
            "Checked 12000 words and found 95 answers correct, 11905 wrong and 3257 OOV words\n",
            "Checked 13000 words and found 98 answers correct, 12902 wrong and 3596 OOV words\n",
            "Checked 14000 words and found 103 answers correct, 13897 wrong and 3788 OOV words\n",
            "Checked 15000 words and found 136 answers correct, 14864 wrong and 3865 OOV words\n",
            "Checked 16000 words and found 176 answers correct, 15824 wrong and 3877 OOV words\n",
            "Checked 17000 words and found 187 answers correct, 16813 wrong and 4002 OOV words\n",
            "Checked 18000 words and found 190 answers correct, 17810 wrong and 4179 OOV words\n",
            "Checked 19000 words and found 191 answers correct, 18809 wrong and 4519 OOV words\n"
          ]
        }
      ]
    },
    {
      "cell_type": "code",
      "source": [
        "print('Enhanced Embeddings\\n')\n",
        "print(f'Checked {index} words and found {found} answers correct, {not_found} wrong and {missing_word} OOV words')"
      ],
      "metadata": {
        "colab": {
          "base_uri": "https://localhost:8080/"
        },
        "id": "FO0v16_RZDsc",
        "outputId": "7d175612-6bab-4721-8a51-abc63ac9aabe"
      },
      "execution_count": null,
      "outputs": [
        {
          "output_type": "stream",
          "name": "stdout",
          "text": [
            "Enhanced Embeddings\n",
            "\n",
            "Checked 19556 words and found 192 answers correct, 19365 wrong and 4577 OOV words\n"
          ]
        }
      ]
    },
    {
      "cell_type": "code",
      "source": [
        "found = 0\n",
        "not_found = 0\n",
        "missing_word = 0\n",
        "import tqdm\n",
        "for index, analogy_test in analogy_set.iterrows():\n",
        "    if index != 0 and index % 1000 == 0:\n",
        "        print(f'Checked {index} words and found {found} answers correct, {not_found} wrong and {missing_word} OOV words')\n",
        "    worda, wordb, wordc, wordd = analogy_test[0], analogy_test[1], analogy_test[2], analogy_test[3]\n",
        "    new_word = analogy(worda, wordb, wordc, word2vec_model)\n",
        "    if new_word == 'not found':\n",
        "        missing_word += 1\n",
        "    if new_word == wordd:\n",
        "        found += 1\n",
        "    else:\n",
        "        not_found += 1"
      ],
      "metadata": {
        "colab": {
          "base_uri": "https://localhost:8080/"
        },
        "id": "-uKwleZKZ37H",
        "outputId": "ad0a33c4-4c38-4efc-cb3d-f813f3d30fe6"
      },
      "execution_count": null,
      "outputs": [
        {
          "output_type": "stream",
          "name": "stdout",
          "text": [
            "Checked 1000 words and found 609 answers correct, 391 wrong and 104 OOV words\n",
            "Checked 2000 words and found 1180 answers correct, 820 wrong and 288 OOV words\n",
            "Checked 3000 words and found 1856 answers correct, 1144 wrong and 366 OOV words\n",
            "Checked 4000 words and found 2549 answers correct, 1451 wrong and 420 OOV words\n",
            "Checked 5000 words and found 3095 answers correct, 1905 wrong and 599 OOV words\n",
            "Checked 6000 words and found 3170 answers correct, 2830 wrong and 662 OOV words\n",
            "Checked 7000 words and found 3504 answers correct, 3496 wrong and 662 OOV words\n",
            "Checked 8000 words and found 3867 answers correct, 4133 wrong and 662 OOV words\n",
            "Checked 9000 words and found 4368 answers correct, 4632 wrong and 664 OOV words\n",
            "Checked 10000 words and found 4497 answers correct, 5503 wrong and 665 OOV words\n",
            "Checked 11000 words and found 4898 answers correct, 6102 wrong and 694 OOV words\n",
            "Checked 12000 words and found 5642 answers correct, 6358 wrong and 694 OOV words\n",
            "Checked 13000 words and found 6291 answers correct, 6709 wrong and 695 OOV words\n",
            "Checked 14000 words and found 6943 answers correct, 7057 wrong and 696 OOV words\n",
            "Checked 15000 words and found 7537 answers correct, 7463 wrong and 736 OOV words\n",
            "Checked 16000 words and found 8100 answers correct, 7900 wrong and 737 OOV words\n",
            "Checked 17000 words and found 8587 answers correct, 8413 wrong and 737 OOV words\n",
            "Checked 18000 words and found 9305 answers correct, 8695 wrong and 738 OOV words\n",
            "Checked 19000 words and found 9956 answers correct, 9044 wrong and 739 OOV words\n"
          ]
        }
      ]
    },
    {
      "cell_type": "code",
      "source": [
        "print('Enhanced Embeddings\\n')\n",
        "print(f'Checked {index} words and found {found} answers correct, {not_found} wrong and {missing_word} OOV words')"
      ],
      "metadata": {
        "colab": {
          "base_uri": "https://localhost:8080/"
        },
        "id": "3SvFISX5sUJ-",
        "outputId": "348a41ef-75db-40a3-ccdd-85af9d69ce8c"
      },
      "execution_count": null,
      "outputs": [
        {
          "output_type": "stream",
          "name": "stdout",
          "text": [
            "Enhanced Embeddings\n",
            "\n",
            "Checked 19556 words and found 10271 answers correct, 9286 wrong and 739 OOV words\n"
          ]
        }
      ]
    },
    {
      "cell_type": "code",
      "source": [
        "found = 0\n",
        "not_found = 0\n",
        "missing_word = 0\n",
        "import tqdm\n",
        "for index, analogy_test in analogy_set.iterrows():\n",
        "    if index != 0 and index % 1000 == 0:\n",
        "        print(f'Checked {index} words and found {found} answers correct, {not_found} wrong and {missing_word} OOV words')\n",
        "    worda, wordb, wordc, wordd = analogy_test[0], analogy_test[1], analogy_test[2], analogy_test[3]\n",
        "    new_word = analogy(worda, wordb, wordc, word2vec_model_normal)\n",
        "    if new_word == 'not found':\n",
        "        missing_word += 1\n",
        "    if new_word == wordd:\n",
        "        found += 1\n",
        "    else:\n",
        "        not_found += 1"
      ],
      "metadata": {
        "colab": {
          "base_uri": "https://localhost:8080/"
        },
        "id": "gBUByRoJ3KUY",
        "outputId": "6ce72d64-ab62-4393-e43e-7e37ddb6573c"
      },
      "execution_count": null,
      "outputs": [
        {
          "output_type": "stream",
          "name": "stdout",
          "text": [
            "Checked 1000 words and found 0 answers correct, 1000 wrong and 77 OOV words\n",
            "Checked 2000 words and found 0 answers correct, 2000 wrong and 194 OOV words\n",
            "Checked 3000 words and found 0 answers correct, 3000 wrong and 386 OOV words\n",
            "Checked 4000 words and found 0 answers correct, 4000 wrong and 569 OOV words\n",
            "Checked 5000 words and found 0 answers correct, 5000 wrong and 751 OOV words\n",
            "Checked 6000 words and found 0 answers correct, 6000 wrong and 1034 OOV words\n",
            "Checked 7000 words and found 3 answers correct, 6997 wrong and 1466 OOV words\n",
            "Checked 8000 words and found 6 answers correct, 7994 wrong and 2102 OOV words\n",
            "Checked 9000 words and found 8 answers correct, 8992 wrong and 2588 OOV words\n",
            "Checked 10000 words and found 8 answers correct, 9992 wrong and 2830 OOV words\n",
            "Checked 11000 words and found 8 answers correct, 10992 wrong and 3185 OOV words\n",
            "Checked 12000 words and found 8 answers correct, 11992 wrong and 3257 OOV words\n",
            "Checked 13000 words and found 8 answers correct, 12992 wrong and 3596 OOV words\n",
            "Checked 14000 words and found 8 answers correct, 13992 wrong and 3788 OOV words\n",
            "Checked 15000 words and found 9 answers correct, 14991 wrong and 3865 OOV words\n",
            "Checked 16000 words and found 10 answers correct, 15990 wrong and 3877 OOV words\n",
            "Checked 17000 words and found 10 answers correct, 16990 wrong and 4002 OOV words\n",
            "Checked 18000 words and found 10 answers correct, 17990 wrong and 4179 OOV words\n",
            "Checked 19000 words and found 10 answers correct, 18990 wrong and 4519 OOV words\n"
          ]
        }
      ]
    },
    {
      "cell_type": "code",
      "source": [
        "print('Normal Embeddings WS3\\n')\n",
        "print(f'Checked {index} words and found {found} answers correct, {not_found} wrong and {missing_word} OOV words')"
      ],
      "metadata": {
        "colab": {
          "base_uri": "https://localhost:8080/"
        },
        "outputId": "fa150837-c2bc-4bf5-923f-7df1f0dedb80",
        "id": "rnE5HltJ3PzQ"
      },
      "execution_count": null,
      "outputs": [
        {
          "output_type": "stream",
          "name": "stdout",
          "text": [
            "Normal Embeddings WS3\n",
            "\n",
            "Checked 19556 words and found 10 answers correct, 19547 wrong and 4577 OOV words\n"
          ]
        }
      ]
    },
    {
      "cell_type": "code",
      "source": [],
      "metadata": {
        "id": "ujGAJLWm3q29"
      },
      "execution_count": null,
      "outputs": []
    },
    {
      "cell_type": "code",
      "source": [
        "found = 0\n",
        "not_found = 0\n",
        "missing_word = 0\n",
        "import tqdm\n",
        "for index, analogy_test in analogy_set.iterrows():\n",
        "    if index != 0 and index % 1000 == 0:\n",
        "        print(f'Checked {index} words and found {found} answers correct, {not_found} wrong and {missing_word} OOV words')\n",
        "    worda, wordb, wordc, wordd = analogy_test[0], analogy_test[1], analogy_test[2], analogy_test[3]\n",
        "    new_word = analogy(worda, wordb, wordc, word2vec_model_enhanced)\n",
        "    if new_word == 'not found':\n",
        "        missing_word += 1\n",
        "    if new_word == wordd:\n",
        "        found += 1\n",
        "    else:\n",
        "        not_found += 1"
      ],
      "metadata": {
        "colab": {
          "base_uri": "https://localhost:8080/"
        },
        "outputId": "448b43e2-6617-41b9-84bd-d8e6b07461ed",
        "id": "fGsP0VKZ3q7S"
      },
      "execution_count": null,
      "outputs": [
        {
          "output_type": "stream",
          "name": "stdout",
          "text": [
            "Checked 1000 words and found 74 answers correct, 926 wrong and 77 OOV words\n",
            "Checked 2000 words and found 101 answers correct, 1899 wrong and 194 OOV words\n",
            "Checked 3000 words and found 123 answers correct, 2877 wrong and 386 OOV words\n",
            "Checked 4000 words and found 157 answers correct, 3843 wrong and 569 OOV words\n",
            "Checked 5000 words and found 190 answers correct, 4810 wrong and 751 OOV words\n",
            "Checked 6000 words and found 190 answers correct, 5810 wrong and 1034 OOV words\n",
            "Checked 7000 words and found 190 answers correct, 6810 wrong and 1466 OOV words\n",
            "Checked 8000 words and found 193 answers correct, 7807 wrong and 2102 OOV words\n",
            "Checked 9000 words and found 200 answers correct, 8800 wrong and 2588 OOV words\n",
            "Checked 10000 words and found 202 answers correct, 9798 wrong and 2830 OOV words\n",
            "Checked 11000 words and found 203 answers correct, 10797 wrong and 3185 OOV words\n",
            "Checked 12000 words and found 204 answers correct, 11796 wrong and 3257 OOV words\n",
            "Checked 13000 words and found 208 answers correct, 12792 wrong and 3596 OOV words\n",
            "Checked 14000 words and found 208 answers correct, 13792 wrong and 3788 OOV words\n",
            "Checked 15000 words and found 245 answers correct, 14755 wrong and 3865 OOV words\n",
            "Checked 16000 words and found 311 answers correct, 15689 wrong and 3877 OOV words\n",
            "Checked 17000 words and found 324 answers correct, 16676 wrong and 4002 OOV words\n",
            "Checked 18000 words and found 326 answers correct, 17674 wrong and 4179 OOV words\n",
            "Checked 19000 words and found 329 answers correct, 18671 wrong and 4519 OOV words\n"
          ]
        }
      ]
    },
    {
      "cell_type": "code",
      "source": [
        "print('Normal Embeddings WS3\\n')\n",
        "print(f'Checked {index} words and found {found} answers correct, {not_found} wrong and {missing_word} OOV words')"
      ],
      "metadata": {
        "colab": {
          "base_uri": "https://localhost:8080/"
        },
        "outputId": "fa150837-c2bc-4bf5-923f-7df1f0dedb80",
        "id": "hZy8O0e73q7U"
      },
      "execution_count": null,
      "outputs": [
        {
          "output_type": "stream",
          "name": "stdout",
          "text": [
            "Normal Embeddings WS3\n",
            "\n",
            "Checked 19556 words and found 10 answers correct, 19547 wrong and 4577 OOV words\n"
          ]
        }
      ]
    },
    {
      "cell_type": "code",
      "source": [
        "found = 0\n",
        "not_found = 0\n",
        "missing_word = 0\n",
        "import tqdm\n",
        "for index, analogy_test in analogy_set.iterrows():\n",
        "    if index != 0 and index % 1000 == 0:\n",
        "        print(f'Checked {index} words and found {found} answers correct, {not_found} wrong and {missing_word} OOV words')\n",
        "    worda, wordb, wordc, wordd = analogy_test[0], analogy_test[1], analogy_test[2], analogy_test[3]\n",
        "    new_word = analogy(worda, wordb, wordc, word2vec_small)\n",
        "    if new_word == 'not found':\n",
        "        missing_word += 1\n",
        "    if new_word == wordd:\n",
        "        found += 1\n",
        "    else:\n",
        "        not_found += 1"
      ],
      "metadata": {
        "colab": {
          "base_uri": "https://localhost:8080/"
        },
        "outputId": "2df70fed-928f-4957-fc4f-1d0e9ff77703",
        "id": "FoFdWObV5lOZ"
      },
      "execution_count": null,
      "outputs": [
        {
          "output_type": "stream",
          "name": "stderr",
          "text": [
            "/usr/local/lib/python3.7/dist-packages/ipykernel_launcher.py:8: DeprecationWarning: Call to deprecated `most_similar` (Method will be removed in 4.0.0, use self.wv.most_similar() instead).\n",
            "  \n"
          ]
        },
        {
          "output_type": "stream",
          "name": "stdout",
          "text": [
            "Checked 1000 words and found 114 answers correct, 886 wrong and 496 OOV words\n",
            "Checked 2000 words and found 156 answers correct, 1844 wrong and 1192 OOV words\n",
            "Checked 3000 words and found 188 answers correct, 2812 wrong and 2011 OOV words\n",
            "Checked 4000 words and found 220 answers correct, 3780 wrong and 2861 OOV words\n",
            "Checked 5000 words and found 251 answers correct, 4749 wrong and 3664 OOV words\n",
            "Checked 6000 words and found 255 answers correct, 5745 wrong and 4381 OOV words\n",
            "Checked 7000 words and found 256 answers correct, 6744 wrong and 5316 OOV words\n",
            "Checked 8000 words and found 259 answers correct, 7741 wrong and 6307 OOV words\n",
            "Checked 9000 words and found 294 answers correct, 8706 wrong and 7123 OOV words\n",
            "Checked 10000 words and found 297 answers correct, 9703 wrong and 7821 OOV words\n",
            "Checked 11000 words and found 311 answers correct, 10689 wrong and 8583 OOV words\n",
            "Checked 12000 words and found 343 answers correct, 11657 wrong and 9080 OOV words\n",
            "Checked 13000 words and found 364 answers correct, 12636 wrong and 9721 OOV words\n",
            "Checked 14000 words and found 388 answers correct, 13612 wrong and 10342 OOV words\n",
            "Checked 15000 words and found 499 answers correct, 14501 wrong and 10552 OOV words\n",
            "Checked 16000 words and found 647 answers correct, 15353 wrong and 10823 OOV words\n",
            "Checked 17000 words and found 726 answers correct, 16274 wrong and 11338 OOV words\n",
            "Checked 18000 words and found 770 answers correct, 17230 wrong and 11886 OOV words\n",
            "Checked 19000 words and found 784 answers correct, 18216 wrong and 12610 OOV words\n"
          ]
        }
      ]
    },
    {
      "cell_type": "code",
      "source": [
        "print('Small Embeddings\\n')\n",
        "print(f'Checked {index} words and found {found} answers correct, {not_found} wrong and {missing_word} OOV words')"
      ],
      "metadata": {
        "colab": {
          "base_uri": "https://localhost:8080/"
        },
        "outputId": "a0b5bb1e-5a5a-436e-ff7c-4379a989e6ec",
        "id": "NDDu8nGL5lOa"
      },
      "execution_count": null,
      "outputs": [
        {
          "output_type": "stream",
          "name": "stdout",
          "text": [
            "Small Embeddings\n",
            "\n",
            "Checked 19556 words and found 794 answers correct, 18763 wrong and 12903 OOV words\n"
          ]
        }
      ]
    },
    {
      "cell_type": "code",
      "source": [
        "found = 0\n",
        "not_found = 0\n",
        "missing_word = 0\n",
        "import tqdm\n",
        "for index, analogy_test in analogy_set.iterrows():\n",
        "    if index != 0 and index % 1000 == 0:\n",
        "        print(f'Checked {index} words and found {found} answers correct, {not_found} wrong and {missing_word} OOV words')\n",
        "    worda, wordb, wordc, wordd = analogy_test[0], analogy_test[1], analogy_test[2], analogy_test[3]\n",
        "    new_word = analogy(worda, wordb, wordc, word2vec_big)\n",
        "    if new_word == 'not found':\n",
        "        missing_word += 1\n",
        "    if new_word == wordd:\n",
        "        found += 1\n",
        "    else:\n",
        "        not_found += 1"
      ],
      "metadata": {
        "colab": {
          "base_uri": "https://localhost:8080/"
        },
        "outputId": "aea2b528-b595-4c2d-b285-dfc3734c51fa",
        "id": "f_doVyRc5wWA"
      },
      "execution_count": null,
      "outputs": [
        {
          "output_type": "stream",
          "name": "stderr",
          "text": [
            "/usr/local/lib/python3.7/dist-packages/ipykernel_launcher.py:8: DeprecationWarning: Call to deprecated `most_similar` (Method will be removed in 4.0.0, use self.wv.most_similar() instead).\n",
            "  \n"
          ]
        },
        {
          "output_type": "stream",
          "name": "stdout",
          "text": [
            "Checked 1000 words and found 567 answers correct, 433 wrong and 188 OOV words\n",
            "Checked 2000 words and found 940 answers correct, 1060 wrong and 458 OOV words\n",
            "Checked 3000 words and found 1232 answers correct, 1768 wrong and 808 OOV words\n",
            "Checked 4000 words and found 1533 answers correct, 2467 wrong and 1096 OOV words\n",
            "Checked 5000 words and found 1880 answers correct, 3120 wrong and 1366 OOV words\n",
            "Checked 6000 words and found 2003 answers correct, 3997 wrong and 1603 OOV words\n",
            "Checked 7000 words and found 2197 answers correct, 4803 wrong and 1646 OOV words\n",
            "Checked 8000 words and found 2408 answers correct, 5592 wrong and 1849 OOV words\n",
            "Checked 9000 words and found 2675 answers correct, 6325 wrong and 2119 OOV words\n",
            "Checked 10000 words and found 2799 answers correct, 7201 wrong and 2155 OOV words\n",
            "Checked 11000 words and found 2996 answers correct, 8004 wrong and 2343 OOV words\n",
            "Checked 12000 words and found 3474 answers correct, 8526 wrong and 2343 OOV words\n",
            "Checked 13000 words and found 3710 answers correct, 9290 wrong and 2443 OOV words\n",
            "Checked 14000 words and found 4028 answers correct, 9972 wrong and 2477 OOV words\n",
            "Checked 15000 words and found 4600 answers correct, 10400 wrong and 2517 OOV words\n",
            "Checked 16000 words and found 5211 answers correct, 10789 wrong and 2518 OOV words\n",
            "Checked 17000 words and found 5530 answers correct, 11470 wrong and 2557 OOV words\n",
            "Checked 18000 words and found 5954 answers correct, 12046 wrong and 2558 OOV words\n",
            "Checked 19000 words and found 6309 answers correct, 12691 wrong and 2631 OOV words\n"
          ]
        }
      ]
    },
    {
      "cell_type": "code",
      "source": [
        "print('Big Embeddings\\n')\n",
        "print(f'Checked {index} words and found {found} answers correct, {not_found} wrong and {missing_word} OOV words')"
      ],
      "metadata": {
        "colab": {
          "base_uri": "https://localhost:8080/"
        },
        "outputId": "85a8ae73-8e98-41d7-f574-db184e7c8f78",
        "id": "HUBtAT_35wWB"
      },
      "execution_count": null,
      "outputs": [
        {
          "output_type": "stream",
          "name": "stdout",
          "text": [
            "Big Embeddings\n",
            "\n",
            "Checked 19556 words and found 6447 answers correct, 13110 wrong and 2660 OOV words\n"
          ]
        }
      ]
    },
    {
      "cell_type": "code",
      "source": [
        "countries = ['australia', 'canada', 'germany', 'ireland', 'italy']\n",
        "foods = [analogy('us', 'hamburger', country) for country in countries]\n",
        "pp(zip(countries,foods))"
      ],
      "metadata": {
        "colab": {
          "base_uri": "https://localhost:8080/",
          "height": 206
        },
        "id": "GGpWwnN0LYMU",
        "outputId": "74a3f28b-4419-42b3-a6c2-5b0119bcfbd2"
      },
      "execution_count": null,
      "outputs": [
        {
          "output_type": "execute_result",
          "data": {
            "text/html": [
              "\n",
              "  <div id=\"df-bcf1b67c-4f3d-448f-9311-166619a48589\">\n",
              "    <div class=\"colab-df-container\">\n",
              "      <div>\n",
              "<style scoped>\n",
              "    .dataframe tbody tr th:only-of-type {\n",
              "        vertical-align: middle;\n",
              "    }\n",
              "\n",
              "    .dataframe tbody tr th {\n",
              "        vertical-align: top;\n",
              "    }\n",
              "\n",
              "    .dataframe thead th {\n",
              "        text-align: right;\n",
              "    }\n",
              "</style>\n",
              "<table border=\"1\" class=\"dataframe\">\n",
              "  <thead>\n",
              "    <tr style=\"text-align: right;\">\n",
              "      <th></th>\n",
              "      <th>0</th>\n",
              "      <th>1</th>\n",
              "    </tr>\n",
              "  </thead>\n",
              "  <tbody>\n",
              "    <tr>\n",
              "      <th>0</th>\n",
              "      <td>australia</td>\n",
              "      <td>hotdog</td>\n",
              "    </tr>\n",
              "    <tr>\n",
              "      <th>1</th>\n",
              "      <td>canada</td>\n",
              "      <td>poutine</td>\n",
              "    </tr>\n",
              "    <tr>\n",
              "      <th>2</th>\n",
              "      <td>germany</td>\n",
              "      <td>hamburg</td>\n",
              "    </tr>\n",
              "    <tr>\n",
              "      <th>3</th>\n",
              "      <td>ireland</td>\n",
              "      <td>cheeseburger</td>\n",
              "    </tr>\n",
              "    <tr>\n",
              "      <th>4</th>\n",
              "      <td>italy</td>\n",
              "      <td>bologna</td>\n",
              "    </tr>\n",
              "  </tbody>\n",
              "</table>\n",
              "</div>\n",
              "      <button class=\"colab-df-convert\" onclick=\"convertToInteractive('df-bcf1b67c-4f3d-448f-9311-166619a48589')\"\n",
              "              title=\"Convert this dataframe to an interactive table.\"\n",
              "              style=\"display:none;\">\n",
              "        \n",
              "  <svg xmlns=\"http://www.w3.org/2000/svg\" height=\"24px\"viewBox=\"0 0 24 24\"\n",
              "       width=\"24px\">\n",
              "    <path d=\"M0 0h24v24H0V0z\" fill=\"none\"/>\n",
              "    <path d=\"M18.56 5.44l.94 2.06.94-2.06 2.06-.94-2.06-.94-.94-2.06-.94 2.06-2.06.94zm-11 1L8.5 8.5l.94-2.06 2.06-.94-2.06-.94L8.5 2.5l-.94 2.06-2.06.94zm10 10l.94 2.06.94-2.06 2.06-.94-2.06-.94-.94-2.06-.94 2.06-2.06.94z\"/><path d=\"M17.41 7.96l-1.37-1.37c-.4-.4-.92-.59-1.43-.59-.52 0-1.04.2-1.43.59L10.3 9.45l-7.72 7.72c-.78.78-.78 2.05 0 2.83L4 21.41c.39.39.9.59 1.41.59.51 0 1.02-.2 1.41-.59l7.78-7.78 2.81-2.81c.8-.78.8-2.07 0-2.86zM5.41 20L4 18.59l7.72-7.72 1.47 1.35L5.41 20z\"/>\n",
              "  </svg>\n",
              "      </button>\n",
              "      \n",
              "  <style>\n",
              "    .colab-df-container {\n",
              "      display:flex;\n",
              "      flex-wrap:wrap;\n",
              "      gap: 12px;\n",
              "    }\n",
              "\n",
              "    .colab-df-convert {\n",
              "      background-color: #E8F0FE;\n",
              "      border: none;\n",
              "      border-radius: 50%;\n",
              "      cursor: pointer;\n",
              "      display: none;\n",
              "      fill: #1967D2;\n",
              "      height: 32px;\n",
              "      padding: 0 0 0 0;\n",
              "      width: 32px;\n",
              "    }\n",
              "\n",
              "    .colab-df-convert:hover {\n",
              "      background-color: #E2EBFA;\n",
              "      box-shadow: 0px 1px 2px rgba(60, 64, 67, 0.3), 0px 1px 3px 1px rgba(60, 64, 67, 0.15);\n",
              "      fill: #174EA6;\n",
              "    }\n",
              "\n",
              "    [theme=dark] .colab-df-convert {\n",
              "      background-color: #3B4455;\n",
              "      fill: #D2E3FC;\n",
              "    }\n",
              "\n",
              "    [theme=dark] .colab-df-convert:hover {\n",
              "      background-color: #434B5C;\n",
              "      box-shadow: 0px 1px 3px 1px rgba(0, 0, 0, 0.15);\n",
              "      filter: drop-shadow(0px 1px 2px rgba(0, 0, 0, 0.3));\n",
              "      fill: #FFFFFF;\n",
              "    }\n",
              "  </style>\n",
              "\n",
              "      <script>\n",
              "        const buttonEl =\n",
              "          document.querySelector('#df-bcf1b67c-4f3d-448f-9311-166619a48589 button.colab-df-convert');\n",
              "        buttonEl.style.display =\n",
              "          google.colab.kernel.accessAllowed ? 'block' : 'none';\n",
              "\n",
              "        async function convertToInteractive(key) {\n",
              "          const element = document.querySelector('#df-bcf1b67c-4f3d-448f-9311-166619a48589');\n",
              "          const dataTable =\n",
              "            await google.colab.kernel.invokeFunction('convertToInteractive',\n",
              "                                                     [key], {});\n",
              "          if (!dataTable) return;\n",
              "\n",
              "          const docLinkHtml = 'Like what you see? Visit the ' +\n",
              "            '<a target=\"_blank\" href=https://colab.research.google.com/notebooks/data_table.ipynb>data table notebook</a>'\n",
              "            + ' to learn more about interactive tables.';\n",
              "          element.innerHTML = '';\n",
              "          dataTable['output_type'] = 'display_data';\n",
              "          await google.colab.output.renderOutput(dataTable, element);\n",
              "          const docLink = document.createElement('div');\n",
              "          docLink.innerHTML = docLinkHtml;\n",
              "          element.appendChild(docLink);\n",
              "        }\n",
              "      </script>\n",
              "    </div>\n",
              "  </div>\n",
              "  "
            ],
            "text/plain": [
              "           0             1\n",
              "0  australia        hotdog\n",
              "1     canada       poutine\n",
              "2    germany       hamburg\n",
              "3    ireland  cheeseburger\n",
              "4      italy       bologna"
            ]
          },
          "metadata": {},
          "execution_count": 46
        }
      ]
    },
    {
      "cell_type": "code",
      "source": [
        "from sklearn.decomposition import PCA\n",
        "import matplotlib.pyplot as plt\n",
        "import numpy as np\n",
        "\n",
        "def plot_data(orig_data, labels):\n",
        "    pca = PCA(n_components=2)\n",
        "    data = pca.fit_transform(orig_data)\n",
        "    plt.figure(figsize=(7, 5), dpi=100)\n",
        "    plt.plot(data[:,0], data[:,1], '.')\n",
        "    for i in range(len(data)):\n",
        "        plt.annotate(labels[i], xy = data[i])\n",
        "    for i in range(len(data)//2):\n",
        "        plt.annotate(\"\",\n",
        "                xy=data[i],\n",
        "                xytext=data[i+len(data)//2],\n",
        "                arrowprops=dict(arrowstyle=\"->\",\n",
        "                                connectionstyle=\"arc3\")\n",
        "        )\n",
        "\n",
        "labels = countries + foods\n",
        "data = [word2vec_model[w] for w in labels]\n",
        "plot_data(data, labels)"
      ],
      "metadata": {
        "colab": {
          "base_uri": "https://localhost:8080/",
          "height": 438
        },
        "id": "gh6Ir7fsLbLl",
        "outputId": "2c4dc72d-de02-4f93-d6d6-73a81af90a93"
      },
      "execution_count": null,
      "outputs": [
        {
          "output_type": "display_data",
          "data": {
            "image/png": "[encoded data removed]",
            "text/plain": [
              "<Figure size 700x500 with 1 Axes>"
            ]
          },
          "metadata": {
            "needs_background": "light"
          }
        }
      ]
    }
  ]
}