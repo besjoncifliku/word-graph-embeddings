{
  "cells": [
    {
      "cell_type": "markdown",
      "source": [
        "# Entity Recogntion Task - BiLSTM with Word Embedding\n",
        "\n",
        "Dataset:\n",
        "- Abhinav Walia(2018) - https://www.kaggle.com/abhinavwalia95/entity-annotated-corpus?select=ner_dataset.csv\n",
        "\n",
        "Reference code on Kaggle:\n",
        "- Khoadodox (2021) - https://www.kaggle.com/anhkhoado/ner-bilstm\n",
        "- Jay Sinha (2021) - https://www.kaggle.com/razor08/ner-with-bilstm\n",
        "- skiller (2021) - https://www.kaggle.com/skiller/ner-pytorch-masked-accuracy-and-loss\n",
        "-  Mathurin Aché(2020) https://www.kaggle.com/mathurinache/name-entity-recognition\n",
        "There might be other methods thay I found online that have added the corresponding link to the cell."
      ],
      "metadata": {
        "id": "tj6k8I09iuW_"
      }
    },
    {
      "cell_type": "markdown",
      "source": [
        "Import and Preleminaries"
      ],
      "metadata": {
        "id": "UGqvqFj4i0Wz"
      }
    },
    {
      "metadata": {
        "_uuid": "8f2839f25d086af736a60e9eeb907d3b93b6e0e5",
        "_cell_guid": "b1076dfc-b9ad-4769-8c92-a6c4dae69d19",
        "trusted": true,
        "id": "JdxcVsRtYZHx"
      },
      "cell_type": "code",
      "source": [
        "import numpy as np # linear algebra\n",
        "import pandas as pd # data processing, CSV file I/O (e.g. pd.read_csv)"
      ],
      "execution_count": null,
      "outputs": []
    },
    {
      "metadata": {
        "trusted": true,
        "id": "8I3-EMUyYZHz"
      },
      "cell_type": "code",
      "source": [
        "%matplotlib inline\n",
        "import matplotlib.pyplot as plt\n",
        "import pandas as pd\n",
        "import numpy as np\n",
        "np.random.seed(0)\n",
        "plt.style.use(\"ggplot\")\n",
        "import tensorflow as tf"
      ],
      "execution_count": null,
      "outputs": []
    },
    {
      "cell_type": "markdown",
      "source": [
        "Ignore the following code if you are running from you local. Load the NER dataset."
      ],
      "metadata": {
        "id": "Wfl--UrJyx0S"
      }
    },
    {
      "cell_type": "code",
      "source": [
        "# Upload the data to google cloud in case the drag-drop upload is not working.\n",
        "# This was the case on my side\n",
        "from google.colab import files\n",
        "dataset_file_dict = files.upload()"
      ],
      "metadata": {
        "colab": {
          "resources": {
            "http://localhost:8080/nbextensions/google.colab/files.js": {
              "data": "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",
              "ok": true,
              "headers": [
                [
                  "content-type",
                  "application/javascript"
                ]
              ],
              "status": 200,
              "status_text": "OK"
            }
          },
          "base_uri": "https://localhost:8080/",
          "height": 74
        },
        "id": "BRyBsrMPhKhI",
        "outputId": "cc69231d-0a10-4ea2-edf2-a0b08456f3ff"
      },
      "execution_count": null,
      "outputs": [
        {
          "output_type": "display_data",
          "data": {
            "text/html": [
              "\n",
              "     <input type=\"file\" id=\"files-4f3c467b-db36-4e35-92f4-bcc6a9a1965a\" name=\"files[]\" multiple disabled\n",
              "        style=\"border:none\" />\n",
              "     <output id=\"result-4f3c467b-db36-4e35-92f4-bcc6a9a1965a\">\n",
              "      Upload widget is only available when the cell has been executed in the\n",
              "      current browser session. Please rerun this cell to enable.\n",
              "      </output>\n",
              "      <script src=\"/nbextensions/google.colab/files.js\"></script> "
            ],
            "text/plain": [
              "<IPython.core.display.HTML object>"
            ]
          },
          "metadata": {}
        },
        {
          "output_type": "stream",
          "name": "stdout",
          "text": [
            "Saving ner_dataset.csv to ner_dataset.csv\n"
          ]
        }
      ]
    },
    {
      "cell_type": "markdown",
      "source": [
        "Read the file. As I am using Colab the file are stored in `content/filename`. Change the file path as you need if you want to use it locally"
      ],
      "metadata": {
        "id": "X3LHw4x0i3Ir"
      }
    },
    {
      "cell_type": "markdown",
      "source": [
        "### Dataset Load"
      ],
      "metadata": {
        "id": "0dSAHEB-26EM"
      }
    },
    {
      "metadata": {
        "_uuid": "d629ff2d2480ee46fbb7e2d37f6b5fab8052498a",
        "_cell_guid": "79c7e3d0-c299-4dcb-8224-4455121ee9b0",
        "trusted": true,
        "id": "YcHLLAcJYZH0",
        "colab": {
          "base_uri": "https://localhost:8080/"
        },
        "outputId": "c4ea6412-a6bc-414d-e679-210c25cb9358"
      },
      "cell_type": "code",
      "source": [
        "data = pd.read_csv(\"/content/ner_dataset.csv\", encoding = \"ISO-8859-1\", error_bad_lines=False)"
      ],
      "execution_count": null,
      "outputs": [
        {
          "output_type": "stream",
          "name": "stderr",
          "text": [
            "/usr/local/lib/python3.7/dist-packages/IPython/core/interactiveshell.py:2882: FutureWarning: The error_bad_lines argument has been deprecated and will be removed in a future version.\n",
            "\n",
            "\n",
            "  exec(code_obj, self.user_global_ns, self.user_ns)\n"
          ]
        }
      ]
    },
    {
      "metadata": {
        "trusted": true,
        "colab": {
          "base_uri": "https://localhost:8080/",
          "height": 206
        },
        "id": "0Bb8u9iBYZH1",
        "outputId": "16f186ad-7cf3-4e1f-dd65-73ef75c2408e"
      },
      "cell_type": "code",
      "source": [
        "data.head()"
      ],
      "execution_count": null,
      "outputs": [
        {
          "output_type": "execute_result",
          "data": {
            "text/html": [
              "\n",
              "  <div id=\"df-398890e8-1db6-4633-88bc-d54adb53d4f8\">\n",
              "    <div class=\"colab-df-container\">\n",
              "      <div>\n",
              "<style scoped>\n",
              "    .dataframe tbody tr th:only-of-type {\n",
              "        vertical-align: middle;\n",
              "    }\n",
              "\n",
              "    .dataframe tbody tr th {\n",
              "        vertical-align: top;\n",
              "    }\n",
              "\n",
              "    .dataframe thead th {\n",
              "        text-align: right;\n",
              "    }\n",
              "</style>\n",
              "<table border=\"1\" class=\"dataframe\">\n",
              "  <thead>\n",
              "    <tr style=\"text-align: right;\">\n",
              "      <th></th>\n",
              "      <th>Sentence #</th>\n",
              "      <th>Word</th>\n",
              "      <th>POS</th>\n",
              "      <th>Tag</th>\n",
              "    </tr>\n",
              "  </thead>\n",
              "  <tbody>\n",
              "    <tr>\n",
              "      <th>0</th>\n",
              "      <td>Sentence: 1</td>\n",
              "      <td>Thousands</td>\n",
              "      <td>NNS</td>\n",
              "      <td>O</td>\n",
              "    </tr>\n",
              "    <tr>\n",
              "      <th>1</th>\n",
              "      <td>NaN</td>\n",
              "      <td>of</td>\n",
              "      <td>IN</td>\n",
              "      <td>O</td>\n",
              "    </tr>\n",
              "    <tr>\n",
              "      <th>2</th>\n",
              "      <td>NaN</td>\n",
              "      <td>demonstrators</td>\n",
              "      <td>NNS</td>\n",
              "      <td>O</td>\n",
              "    </tr>\n",
              "    <tr>\n",
              "      <th>3</th>\n",
              "      <td>NaN</td>\n",
              "      <td>have</td>\n",
              "      <td>VBP</td>\n",
              "      <td>O</td>\n",
              "    </tr>\n",
              "    <tr>\n",
              "      <th>4</th>\n",
              "      <td>NaN</td>\n",
              "      <td>marched</td>\n",
              "      <td>VBN</td>\n",
              "      <td>O</td>\n",
              "    </tr>\n",
              "  </tbody>\n",
              "</table>\n",
              "</div>\n",
              "      <button class=\"colab-df-convert\" onclick=\"convertToInteractive('df-398890e8-1db6-4633-88bc-d54adb53d4f8')\"\n",
              "              title=\"Convert this dataframe to an interactive table.\"\n",
              "              style=\"display:none;\">\n",
              "        \n",
              "  <svg xmlns=\"http://www.w3.org/2000/svg\" height=\"24px\"viewBox=\"0 0 24 24\"\n",
              "       width=\"24px\">\n",
              "    <path d=\"M0 0h24v24H0V0z\" fill=\"none\"/>\n",
              "    <path d=\"M18.56 5.44l.94 2.06.94-2.06 2.06-.94-2.06-.94-.94-2.06-.94 2.06-2.06.94zm-11 1L8.5 8.5l.94-2.06 2.06-.94-2.06-.94L8.5 2.5l-.94 2.06-2.06.94zm10 10l.94 2.06.94-2.06 2.06-.94-2.06-.94-.94-2.06-.94 2.06-2.06.94z\"/><path d=\"M17.41 7.96l-1.37-1.37c-.4-.4-.92-.59-1.43-.59-.52 0-1.04.2-1.43.59L10.3 9.45l-7.72 7.72c-.78.78-.78 2.05 0 2.83L4 21.41c.39.39.9.59 1.41.59.51 0 1.02-.2 1.41-.59l7.78-7.78 2.81-2.81c.8-.78.8-2.07 0-2.86zM5.41 20L4 18.59l7.72-7.72 1.47 1.35L5.41 20z\"/>\n",
              "  </svg>\n",
              "      </button>\n",
              "      \n",
              "  <style>\n",
              "    .colab-df-container {\n",
              "      display:flex;\n",
              "      flex-wrap:wrap;\n",
              "      gap: 12px;\n",
              "    }\n",
              "\n",
              "    .colab-df-convert {\n",
              "      background-color: #E8F0FE;\n",
              "      border: none;\n",
              "      border-radius: 50%;\n",
              "      cursor: pointer;\n",
              "      display: none;\n",
              "      fill: #1967D2;\n",
              "      height: 32px;\n",
              "      padding: 0 0 0 0;\n",
              "      width: 32px;\n",
              "    }\n",
              "\n",
              "    .colab-df-convert:hover {\n",
              "      background-color: #E2EBFA;\n",
              "      box-shadow: 0px 1px 2px rgba(60, 64, 67, 0.3), 0px 1px 3px 1px rgba(60, 64, 67, 0.15);\n",
              "      fill: #174EA6;\n",
              "    }\n",
              "\n",
              "    [theme=dark] .colab-df-convert {\n",
              "      background-color: #3B4455;\n",
              "      fill: #D2E3FC;\n",
              "    }\n",
              "\n",
              "    [theme=dark] .colab-df-convert:hover {\n",
              "      background-color: #434B5C;\n",
              "      box-shadow: 0px 1px 3px 1px rgba(0, 0, 0, 0.15);\n",
              "      filter: drop-shadow(0px 1px 2px rgba(0, 0, 0, 0.3));\n",
              "      fill: #FFFFFF;\n",
              "    }\n",
              "  </style>\n",
              "\n",
              "      <script>\n",
              "        const buttonEl =\n",
              "          document.querySelector('#df-398890e8-1db6-4633-88bc-d54adb53d4f8 button.colab-df-convert');\n",
              "        buttonEl.style.display =\n",
              "          google.colab.kernel.accessAllowed ? 'block' : 'none';\n",
              "\n",
              "        async function convertToInteractive(key) {\n",
              "          const element = document.querySelector('#df-398890e8-1db6-4633-88bc-d54adb53d4f8');\n",
              "          const dataTable =\n",
              "            await google.colab.kernel.invokeFunction('convertToInteractive',\n",
              "                                                     [key], {});\n",
              "          if (!dataTable) return;\n",
              "\n",
              "          const docLinkHtml = 'Like what you see? Visit the ' +\n",
              "            '<a target=\"_blank\" href=https://colab.research.google.com/notebooks/data_table.ipynb>data table notebook</a>'\n",
              "            + ' to learn more about interactive tables.';\n",
              "          element.innerHTML = '';\n",
              "          dataTable['output_type'] = 'display_data';\n",
              "          await google.colab.output.renderOutput(dataTable, element);\n",
              "          const docLink = document.createElement('div');\n",
              "          docLink.innerHTML = docLinkHtml;\n",
              "          element.appendChild(docLink);\n",
              "        }\n",
              "      </script>\n",
              "    </div>\n",
              "  </div>\n",
              "  "
            ],
            "text/plain": [
              "    Sentence #           Word  POS Tag\n",
              "0  Sentence: 1      Thousands  NNS   O\n",
              "1          NaN             of   IN   O\n",
              "2          NaN  demonstrators  NNS   O\n",
              "3          NaN           have  VBP   O\n",
              "4          NaN        marched  VBN   O"
            ]
          },
          "metadata": {},
          "execution_count": 5
        }
      ]
    },
    {
      "metadata": {
        "trusted": true,
        "colab": {
          "base_uri": "https://localhost:8080/"
        },
        "id": "26y7mgl3YZH1",
        "outputId": "3e9455e4-5f87-4dd5-ef1b-46e61ed13d50"
      },
      "cell_type": "code",
      "source": [
        "data.isna().sum()"
      ],
      "execution_count": null,
      "outputs": [
        {
          "output_type": "execute_result",
          "data": {
            "text/plain": [
              "Sentence #    1000616\n",
              "Word                0\n",
              "POS                 0\n",
              "Tag                 0\n",
              "dtype: int64"
            ]
          },
          "metadata": {},
          "execution_count": 6
        }
      ]
    },
    {
      "metadata": {
        "trusted": true,
        "id": "G7ubpAKiYZH2"
      },
      "cell_type": "code",
      "source": [
        "data = data.fillna(method='ffill')"
      ],
      "execution_count": null,
      "outputs": []
    },
    {
      "metadata": {
        "trusted": true,
        "colab": {
          "base_uri": "https://localhost:8080/"
        },
        "id": "IF70WNQBYZH2",
        "outputId": "87ea01a6-2d76-4ffb-dad6-d812c4143d86"
      },
      "cell_type": "code",
      "source": [
        "data.isna().sum()"
      ],
      "execution_count": null,
      "outputs": [
        {
          "output_type": "execute_result",
          "data": {
            "text/plain": [
              "Sentence #    0\n",
              "Word          0\n",
              "POS           0\n",
              "Tag           0\n",
              "dtype: int64"
            ]
          },
          "metadata": {},
          "execution_count": 8
        }
      ]
    },
    {
      "metadata": {
        "trusted": true,
        "colab": {
          "base_uri": "https://localhost:8080/"
        },
        "id": "faZx71r8YZH4",
        "outputId": "176af57c-c9f2-4c8d-cc75-cd8eed7b9b10"
      },
      "cell_type": "code",
      "source": [
        "print(\"Unique words in corpus:\", data['Word'].nunique())\n",
        "print(\"Unique tags in corpus:\", data['Tag'].nunique())"
      ],
      "execution_count": null,
      "outputs": [
        {
          "output_type": "stream",
          "name": "stdout",
          "text": [
            "Unique words in corpus: 35178\n",
            "Unique tags in corpus: 17\n"
          ]
        }
      ]
    },
    {
      "cell_type": "markdown",
      "source": [
        "### Dataset Processing"
      ],
      "metadata": {
        "id": "vz7jDACQ27_F"
      }
    },
    {
      "metadata": {
        "trusted": true,
        "id": "hrRxYT8mYZH5"
      },
      "cell_type": "code",
      "source": [
        "words = list(set(data['Word'].values))\n",
        "words.append(\"ENDPAD\")\n",
        "num_words = len(words)\n",
        "tags = list(set(data['Tag'].values))\n",
        "num_tags = len(tags)"
      ],
      "execution_count": null,
      "outputs": []
    },
    {
      "metadata": {
        "trusted": true,
        "colab": {
          "base_uri": "https://localhost:8080/"
        },
        "id": "6qSKJ2GKYZH6",
        "outputId": "ec056cf1-6c4a-4be2-8d7b-ffc0a1c29d03"
      },
      "cell_type": "code",
      "source": [
        "num_words, num_tags"
      ],
      "execution_count": null,
      "outputs": [
        {
          "output_type": "execute_result",
          "data": {
            "text/plain": [
              "(35179, 17)"
            ]
          },
          "metadata": {},
          "execution_count": 11
        }
      ]
    },
    {
      "metadata": {
        "trusted": true,
        "id": "4hg03kOZYZH7"
      },
      "cell_type": "code",
      "source": [
        "### Retrieve Sentences and correspondin Tags\n",
        "class SentenceGetter(object):\n",
        "    def __init__(self, data):\n",
        "        self.n_sent = 1\n",
        "        self.data = data\n",
        "        agg_func = lambda s:[(w,p,t) for w, p, t in zip(s[\"Word\"].values.tolist(),\n",
        "                                                       s[\"POS\"].values.tolist(),\n",
        "                                                       s[\"Tag\"].values.tolist())]\n",
        "        self.grouped = self.data.groupby(\"Sentence #\").apply(agg_func)\n",
        "        self.sentences = [s for s in self.grouped]"
      ],
      "execution_count": null,
      "outputs": []
    },
    {
      "metadata": {
        "trusted": true,
        "id": "YJmhN3aPYZH8"
      },
      "cell_type": "code",
      "source": [
        "getter = SentenceGetter(data)\n",
        "sentences = getter.sentences"
      ],
      "execution_count": null,
      "outputs": []
    },
    {
      "metadata": {
        "trusted": true,
        "colab": {
          "base_uri": "https://localhost:8080/"
        },
        "id": "vro29LJ5YZH8",
        "outputId": "bdfd04b9-4d42-4383-dd79-78c800e2cda0"
      },
      "cell_type": "code",
      "source": [
        "sentences[0]"
      ],
      "execution_count": null,
      "outputs": [
        {
          "output_type": "execute_result",
          "data": {
            "text/plain": [
              "[('Thousands', 'NNS', 'O'),\n",
              " ('of', 'IN', 'O'),\n",
              " ('demonstrators', 'NNS', 'O'),\n",
              " ('have', 'VBP', 'O'),\n",
              " ('marched', 'VBN', 'O'),\n",
              " ('through', 'IN', 'O'),\n",
              " ('London', 'NNP', 'B-geo'),\n",
              " ('to', 'TO', 'O'),\n",
              " ('protest', 'VB', 'O'),\n",
              " ('the', 'DT', 'O'),\n",
              " ('war', 'NN', 'O'),\n",
              " ('in', 'IN', 'O'),\n",
              " ('Iraq', 'NNP', 'B-geo'),\n",
              " ('and', 'CC', 'O'),\n",
              " ('demand', 'VB', 'O'),\n",
              " ('the', 'DT', 'O'),\n",
              " ('withdrawal', 'NN', 'O'),\n",
              " ('of', 'IN', 'O'),\n",
              " ('British', 'JJ', 'B-gpe'),\n",
              " ('troops', 'NNS', 'O'),\n",
              " ('from', 'IN', 'O'),\n",
              " ('that', 'DT', 'O'),\n",
              " ('country', 'NN', 'O'),\n",
              " ('.', '.', 'O')]"
            ]
          },
          "metadata": {},
          "execution_count": 13
        }
      ]
    },
    {
      "cell_type": "markdown",
      "source": [
        "Map sentences and tags together"
      ],
      "metadata": {
        "id": "Xw37WLomjC11"
      }
    },
    {
      "metadata": {
        "trusted": true,
        "id": "XaptDoD8YZH-"
      },
      "cell_type": "code",
      "source": [
        "word2idx = {w: i+1 for i, w in enumerate(words)}\n",
        "tag2idx = {t: i for i,t, in enumerate(tags)}"
      ],
      "execution_count": null,
      "outputs": []
    },
    {
      "cell_type": "code",
      "source": [
        "vocab = [w for  w in words]\n",
        "len(vocab)"
      ],
      "metadata": {
        "colab": {
          "base_uri": "https://localhost:8080/"
        },
        "id": "17Y-8szvrGxM",
        "outputId": "0b0bbabd-a4f2-4f57-f9cc-2a38a15bd92c"
      },
      "execution_count": null,
      "outputs": [
        {
          "output_type": "execute_result",
          "data": {
            "text/plain": [
              "35179"
            ]
          },
          "metadata": {},
          "execution_count": 15
        }
      ]
    },
    {
      "metadata": {
        "trusted": true,
        "id": "iAzz-bDHYZH-"
      },
      "cell_type": "code",
      "source": [
        "word2idx"
      ],
      "execution_count": null,
      "outputs": []
    },
    {
      "metadata": {
        "trusted": true,
        "id": "PE30p0T9YZH-",
        "outputId": "a85b7ea5-9f79-49ba-ba7d-ab14dede0edd",
        "colab": {
          "base_uri": "https://localhost:8080/"
        }
      },
      "cell_type": "code",
      "source": [
        "tag2idx"
      ],
      "execution_count": null,
      "outputs": [
        {
          "output_type": "execute_result",
          "data": {
            "text/plain": [
              "{'B-art': 0,\n",
              " 'B-eve': 12,\n",
              " 'B-geo': 15,\n",
              " 'B-gpe': 13,\n",
              " 'B-nat': 8,\n",
              " 'B-org': 6,\n",
              " 'B-per': 3,\n",
              " 'B-tim': 10,\n",
              " 'I-art': 14,\n",
              " 'I-eve': 1,\n",
              " 'I-geo': 7,\n",
              " 'I-gpe': 16,\n",
              " 'I-nat': 9,\n",
              " 'I-org': 5,\n",
              " 'I-per': 11,\n",
              " 'I-tim': 2,\n",
              " 'O': 4}"
            ]
          },
          "metadata": {},
          "execution_count": 20
        }
      ]
    },
    {
      "cell_type": "markdown",
      "source": [
        "### Sequence Padding and processing"
      ],
      "metadata": {
        "id": "vJfT4QHZ3BzJ"
      }
    },
    {
      "cell_type": "markdown",
      "source": [
        "Make the input sequence the same length by using paddinga nd then split the data for testing and training"
      ],
      "metadata": {
        "id": "I9FlUcZjjIGY"
      }
    },
    {
      "metadata": {
        "trusted": true,
        "colab": {
          "base_uri": "https://localhost:8080/",
          "height": 265
        },
        "id": "jhZlUTRVYZH_",
        "outputId": "24adc566-f69b-4044-dae7-4704d33d0898"
      },
      "cell_type": "code",
      "source": [
        "### Checking distribution of sentences length\n",
        "plt.hist([len(s) for s in sentences], bins=50)\n",
        "plt.show()"
      ],
      "execution_count": null,
      "outputs": [
        {
          "output_type": "display_data",
          "data": {
            "image/png": "[encoded data removed]",
            "text/plain": [
              "<Figure size 432x288 with 1 Axes>"
            ]
          },
          "metadata": {}
        }
      ]
    },
    {
      "metadata": {
        "trusted": true,
        "colab": {
          "base_uri": "https://localhost:8080/"
        },
        "id": "rWwrLpGGYZH_",
        "outputId": "f6cd3ebf-4aee-478a-8ccc-38ca62eb49e5"
      },
      "cell_type": "code",
      "source": [
        "from tensorflow.keras.preprocessing.sequence import pad_sequences\n",
        "from tensorflow.keras.utils import to_categorical\n",
        "# Max length seems to be around 50\n",
        "max_len = 50\n",
        "X = [[word2idx[w[0]] for w in s] for s in sentences]\n",
        "X = pad_sequences(maxlen=max_len, sequences = X, padding='post', value=num_words-1)\n",
        "test = [w[0] for w in sentences[0]]\n",
        "print(test)\n",
        "print(X[0])\n",
        "y = [[tag2idx[w[2]] for w in s] for s in sentences]\n",
        "y = pad_sequences(maxlen=max_len, sequences = y, padding='post', value= tag2idx[\"O\"])\n",
        "print(y)\n",
        "print(y.shape)\n",
        "y = [to_categorical(i, num_classes=num_tags) for i in y]\n"
      ],
      "execution_count": null,
      "outputs": [
        {
          "output_type": "stream",
          "name": "stdout",
          "text": [
            "['Thousands', 'of', 'demonstrators', 'have', 'marched', 'through', 'London', 'to', 'protest', 'the', 'war', 'in', 'Iraq', 'and', 'demand', 'the', 'withdrawal', 'of', 'British', 'troops', 'from', 'that', 'country', '.']\n",
            "[ 9903 24308 21826 24495  9674  5336 29665 29283  5045 34134 29449 17815\n",
            "  8088 13726 27436 34134 27955 24308 25807 13241 10057 11001 12106 20541\n",
            " 35178 35178 35178 35178 35178 35178 35178 35178 35178 35178 35178 35178\n",
            " 35178 35178 35178 35178 35178 35178 35178 35178 35178 35178 35178 35178\n",
            " 35178 35178]\n",
            "[[10 10 10 ... 10 10 10]\n",
            " [ 8 10 10 ... 10 10 10]\n",
            " [10 10  2 ... 10 10 10]\n",
            " ...\n",
            " [10 16 10 ... 10 10 10]\n",
            " [10 10 10 ... 10 10 10]\n",
            " [10  7 11 ... 10 10 10]]\n",
            "(47959, 50)\n"
          ]
        }
      ]
    },
    {
      "cell_type": "markdown",
      "source": [
        "I connected my drive as I have already uploaded the files there, and since I am using Google Colab, I had to reupload after reinitializing every session. For this reason I am using my drive. If you have the files locally then you can use them."
      ],
      "metadata": {
        "id": "7kFOeIpyjSp4"
      }
    },
    {
      "cell_type": "code",
      "source": [
        "from google.colab import drive\n",
        "drive.mount('/content/gdrive')"
      ],
      "metadata": {
        "colab": {
          "base_uri": "https://localhost:8080/"
        },
        "id": "pjrfhSHworrq",
        "outputId": "026e5a9f-853f-4d7e-cb13-5989e93df867"
      },
      "execution_count": null,
      "outputs": [
        {
          "output_type": "stream",
          "name": "stdout",
          "text": [
            "Mounted at /content/gdrive\n"
          ]
        }
      ]
    },
    {
      "cell_type": "markdown",
      "source": [
        "### Load the embedding from drive.\n",
        "\n",
        "You need to specify different paths if you are running locally or from you own drive."
      ],
      "metadata": {
        "id": "wr1szLrO21tQ"
      }
    },
    {
      "cell_type": "code",
      "source": [
        "enahnced_file_ws2 = \"/content/gdrive/MyDrive/GloveEmbeddings/embeddings_128_enhanced_ws2.tsv\"\n",
        "normal_file_ws2 = \"/content/gdrive/MyDrive/GloveEmbeddings/embeddings_128_normal_ws2.tsv\"\n",
        "enahnced_file_ws3 = \"/content/gdrive/MyDrive/GloveEmbeddings/embeddings_128_enhanced_ws3.tsv\"\n",
        "normal_file_ws3 = \"/content/gdrive/MyDrive/GloveEmbeddings/embeddings_128_normal_ws3.tsv\""
      ],
      "metadata": {
        "id": "wOU3H1neo9co"
      },
      "execution_count": null,
      "outputs": []
    },
    {
      "cell_type": "code",
      "source": [
        "improved_wg2v_file = \"/content/gdrive/MyDrive/GloveEmbeddings/embeddings_50_enhanced_200k.tsv\"\n",
        "original_wg2v_file = \"/content/gdrive/MyDrive/GloveEmbeddings/embeddings_50_enhanced_200k_small.tsv\"\n",
        "loss_wg2v_file = \"/content/gdrive/MyDrive/GloveEmbeddings/embeddings_original_graph_wg2v.tsv\"\n",
        "baseline_w2v_file = \"/content/gdrive/MyDrive/GloveEmbeddings/embeddings_50_normal_big.tsv\"\n",
        "synonym_w2v_file = \"/content/gdrive/MyDrive/GloveEmbeddings/embeddings_synonym_relation_w2v.tsv\"\n",
        "hypernym_w2v_file = \"/content/gdrive/MyDrive/GloveEmbeddings/embeddings_hypernym_relation_w2v.tsv\""
      ],
      "metadata": {
        "id": "euS_0OuNNC1K"
      },
      "execution_count": null,
      "outputs": []
    },
    {
      "cell_type": "markdown",
      "source": [
        "Since the embedding files are in TSV format we need to first convert them to normal text file, usable format with gensim library to load the embedding properly. In the first line it needs 2 int values the number of lines and the dimension of each vector."
      ],
      "metadata": {
        "id": "LjXmTQLe2IWh"
      }
    },
    {
      "cell_type": "code",
      "source": [
        "def writeEmbeddings2File(file, title='word2vec-enhanced-format.txt', line_count='60400', dimensions='100'):\n",
        "    with open(file, 'r') as inp, open('/content/'+title, 'w') as outp:\n",
        "        # The genism library needs the fist line of text to be line_count dimensions\n",
        "        # There is a wrong number\n",
        "        outp.write(' '.join([line_count, dimensions]) + '\\n')\n",
        "        for line in inp:\n",
        "            if '60401 128' in line:\n",
        "                print(line)\n",
        "                continue\n",
        "            words = line.strip().split()\n",
        "            outp.write(' '.join(words) + '\\n')"
      ],
      "metadata": {
        "id": "Zo63GU7Ggelb"
      },
      "execution_count": null,
      "outputs": []
    },
    {
      "cell_type": "markdown",
      "source": [
        "You can specify the embedding as you need them. However, be aware of the path file."
      ],
      "metadata": {
        "id": "IxjUssva2LmT"
      }
    },
    {
      "cell_type": "code",
      "source": [
        "writeEmbeddings2File(improved_wg2v_file, 'wg2v-improved.txt', '282164', '50')\n",
        "writeEmbeddings2File(original_wg2v_file, 'wg2v-original.txt', '131110', '50')\n",
        "writeEmbeddings2File(loss_wg2v_file, 'wg2v-loss.txt', '253696')\n",
        "writeEmbeddings2File(baseline_w2v_file, 'w2v-baseline.txt', '282164', '50')\n",
        "writeEmbeddings2File(synonym_w2v_file, 'w2v-synonym.txt', '253696')\n",
        "writeEmbeddings2File(hypernym_w2v_file, 'w2v-hypernym.txt', '253696')\n",
        "writeEmbeddings2File(enahnced_file_ws3, 'wg2v-enhanced.txt', dimensions='128')\n",
        "writeEmbeddings2File(normal_file_ws3, 'wg2v-normal.txt', dimensions='128')"
      ],
      "metadata": {
        "id": "RTJRFSl6M5El"
      },
      "execution_count": null,
      "outputs": []
    },
    {
      "cell_type": "code",
      "source": [
        "import gensim\n",
        "from gensim.models import KeyedVectors\n",
        "wordgraph2vec_improved = KeyedVectors.load_word2vec_format('/content/wg2v-improved.txt')\n",
        "wordgraph2vec_original = KeyedVectors.load_word2vec_format('/content/wg2v-original.txt')\n",
        "wordgraph2vec_loss = KeyedVectors.load_word2vec_format('/content/wg2v-loss.txt')\n",
        "word2vec_baseline = KeyedVectors.load_word2vec_format('/content/w2v-baseline.txt')\n",
        "word2vec_synonym = KeyedVectors.load_word2vec_format('/content/w2v-synonym.txt')\n",
        "word2vec_hypernym = KeyedVectors.load_word2vec_format('/content/w2v-hypernym.txt')"
      ],
      "metadata": {
        "id": "gpEqOsATM8Z4"
      },
      "execution_count": null,
      "outputs": []
    },
    {
      "cell_type": "code",
      "source": [
        "wordgraph2vec_enhanced = KeyedVectors.load_word2vec_format('/content/wg2v-enhanced.txt')\n",
        "wordgraph2vec_normal = KeyedVectors.load_word2vec_format('/content/wg2v-normal.txt')"
      ],
      "metadata": {
        "id": "fVkqm36E1C4O"
      },
      "execution_count": null,
      "outputs": []
    },
    {
      "cell_type": "markdown",
      "source": [
        "Now you can load the embedding file into the model and use the model during Training. Just use the file that you want during the training. you can change them by updating the path of the file."
      ],
      "metadata": {
        "id": "8US4sbwHj7Ik"
      }
    },
    {
      "cell_type": "markdown",
      "source": [
        "Other files to test. You may use them if you want for your experiments. Just make sure to have correct path."
      ],
      "metadata": {
        "id": "PfrbF74u2Bas"
      }
    },
    {
      "cell_type": "code",
      "source": [
        "import gensim\n",
        "from gensim.models import KeyedVectors\n",
        "from gensim.models import Word2Vec\n",
        "from gensim.scripts.glove2word2vec import glove2word2vec\n",
        "from gensim.test.utils import datapath, get_tmpfile\n",
        "# Other files\n",
        "word2vec_model_enhanced_ws2 = gensim.models.KeyedVectors.load_word2vec_format('/content/word2vec-enhanced-ws2-format.txt')\n",
        "# word2vec_model_normal_ws2 = gensim.models.KeyedVectors.load_word2vec_format('/content/word2vec-normal-ws2-format.txt')\n",
        "# word2vec_model_enhanced_ws3 = gensim.models.KeyedVectors.load_word2vec_format('/content/word2vec-enhanced-ws3-format.txt')\n",
        "# word2vec_model_normal_ws3 = gensim.models.KeyedVectors.load_word2vec_format('/content/word2vec-normal-ws3-format.txt')"
      ],
      "metadata": {
        "id": "Ou5hTWV2pCSR"
      },
      "execution_count": null,
      "outputs": []
    },
    {
      "cell_type": "code",
      "source": [
        "# word2vec_model_normal = gensim.models.KeyedVectors.load_word2vec_format('/content/word2vec-normal-format.txt')"
      ],
      "metadata": {
        "id": "APIgToGWAboA"
      },
      "execution_count": null,
      "outputs": []
    },
    {
      "cell_type": "code",
      "source": [
        "wordgraph2vec_improved.most_similar(\"mafia\")"
      ],
      "metadata": {
        "colab": {
          "base_uri": "https://localhost:8080/"
        },
        "id": "NJ2k0wgnAsvs",
        "outputId": "e41c55fa-4c1d-4c9a-dfa5-eb06a0f0c19e"
      },
      "execution_count": null,
      "outputs": [
        {
          "output_type": "execute_result",
          "data": {
            "text/plain": [
              "[('ascendancy', 0.8784294128417969),\n",
              " ('unitarians', 0.8771313428878784),\n",
              " ('nepotism', 0.875175952911377),\n",
              " ('intellectuals', 0.8744907379150391),\n",
              " ('pastime', 0.8739852905273438),\n",
              " ('cooks', 0.873863160610199),\n",
              " ('isolationism', 0.8731980323791504),\n",
              " ('laotian', 0.8724377155303955),\n",
              " ('presbyterians', 0.870105504989624),\n",
              " ('theosophical', 0.8679774403572083)]"
            ]
          },
          "metadata": {},
          "execution_count": 29
        }
      ]
    },
    {
      "cell_type": "markdown",
      "source": [
        "### Embedding Layer"
      ],
      "metadata": {
        "id": "zayHNtsM3GSS"
      }
    },
    {
      "cell_type": "markdown",
      "source": [
        "Be careful when you set the embedding dimension some of the files are 50, 100, 128 dimensions. So please check that beforehand."
      ],
      "metadata": {
        "id": "EBJV9K9mkHyX"
      }
    },
    {
      "cell_type": "code",
      "source": [
        "# wordgraph2vec_improved # wordgraph2vec_original # wordgraph2vec_loss # word2vec_baseline # word2vec_synonym # word2vec_hypernym\n",
        "embedding_model = word2vec_hypernym\n",
        "embedding_dim = 100"
      ],
      "metadata": {
        "id": "KW-mhgPuX38H"
      },
      "execution_count": null,
      "outputs": []
    },
    {
      "cell_type": "code",
      "source": [
        "vocab_size = len(words)\n",
        "print(vocab_size)\n",
        "embedding_matrix = np.zeros((vocab_size,embedding_dim))\n",
        "cnt = 0\n",
        "for i in range(0,len(vocab)):\n",
        "    if vocab[i].lower() in embedding_model:\n",
        "        embedding_vector = embedding_model[vocab[i].lower()]\n",
        "    else:\n",
        "        embedding_vector = np.zeros((embedding_dim))\n",
        "        cnt += 1\n",
        "    if embedding_vector is not None:\n",
        "        embedding_matrix[i] = embedding_vector\n",
        "embedding_matrix[vocab_size-1]= np.random.normal(scale=0.6, size=(embedding_dim, ))"
      ],
      "metadata": {
        "colab": {
          "base_uri": "https://localhost:8080/"
        },
        "id": "L1ciqC0moJNp",
        "outputId": "cd95db45-f85b-46e1-e0ad-b8ba06913e7e"
      },
      "execution_count": null,
      "outputs": [
        {
          "output_type": "stream",
          "name": "stdout",
          "text": [
            "35179\n"
          ]
        }
      ]
    },
    {
      "cell_type": "code",
      "source": [
        "embedding_matrix"
      ],
      "metadata": {
        "colab": {
          "base_uri": "https://localhost:8080/"
        },
        "id": "YS9iPP8-aCUG",
        "outputId": "b9cdd303-579a-40be-c0c5-970d2ad2c450"
      },
      "execution_count": null,
      "outputs": [
        {
          "output_type": "execute_result",
          "data": {
            "text/plain": [
              "array([[ 0.02151474, -0.07025772,  0.02510231, ...,  0.06250282,\n",
              "         0.1077878 ,  0.0846241 ],\n",
              "       [ 0.33495584, -0.40161681,  0.3427296 , ...,  0.38581917,\n",
              "         0.40702057,  0.37420025],\n",
              "       [ 0.        ,  0.        ,  0.        , ...,  0.        ,\n",
              "         0.        ,  0.        ],\n",
              "       ...,\n",
              "       [ 0.38995522, -0.36537415,  0.42573979, ...,  0.36248356,\n",
              "         0.43298346,  0.37900364],\n",
              "       [ 0.        ,  0.        ,  0.        , ...,  0.        ,\n",
              "         0.        ,  0.        ],\n",
              "       [ 1.12989042, -0.80865544, -0.762291  , ...,  0.49410249,\n",
              "         1.29794157,  0.80191677]])"
            ]
          },
          "metadata": {},
          "execution_count": 46
        }
      ]
    },
    {
      "cell_type": "code",
      "source": [
        "print(embedding_matrix.shape)\n",
        "print('Missing Embeddings : ', cnt)"
      ],
      "metadata": {
        "colab": {
          "base_uri": "https://localhost:8080/"
        },
        "id": "oYtlS7MasVTL",
        "outputId": "82dbe50f-44de-485b-d14a-a68200b897de"
      },
      "execution_count": null,
      "outputs": [
        {
          "output_type": "stream",
          "name": "stdout",
          "text": [
            "(35179, 100)\n",
            "Missing Embeddings :  9394\n"
          ]
        }
      ]
    },
    {
      "cell_type": "markdown",
      "source": [
        "### Train and Test Split"
      ],
      "metadata": {
        "id": "8Ymts4Sn2nPt"
      }
    },
    {
      "metadata": {
        "trusted": true,
        "id": "SWP1LLUfYZIA"
      },
      "cell_type": "code",
      "source": [
        "from sklearn.model_selection import train_test_split\n",
        "X_train,X_test,y_train,y_test = train_test_split(X,y,test_size = 0.2,random_state= 1)"
      ],
      "execution_count": null,
      "outputs": []
    },
    {
      "cell_type": "markdown",
      "source": [
        "### BiLSTM Model"
      ],
      "metadata": {
        "id": "CtBISkKW2lbI"
      }
    },
    {
      "metadata": {
        "trusted": true,
        "id": "npo3fsY4YZIA"
      },
      "cell_type": "code",
      "source": [
        "from tensorflow.keras import Model,Input\n",
        "from tensorflow.keras.layers import LSTM,Embedding,Dense\n",
        "from tensorflow.keras.layers import TimeDistributed, SpatialDropout1D,Bidirectional"
      ],
      "execution_count": null,
      "outputs": []
    },
    {
      "metadata": {
        "trusted": true,
        "colab": {
          "base_uri": "https://localhost:8080/"
        },
        "id": "QAONVMMYYZIB",
        "outputId": "cb0c20d0-33b8-440b-c041-117d9035b660"
      },
      "cell_type": "code",
      "source": [
        "input_word = Input(shape=(max_len,))\n",
        "model = Embedding(input_dim=num_words,output_dim=embedding_dim,input_length=max_len)(input_word)\n",
        "model = SpatialDropout1D(0.3)(model)\n",
        "model = Bidirectional(LSTM(units=128,return_sequences=True,recurrent_dropout=0.1))(model)\n",
        "out = TimeDistributed(Dense(num_tags,activation='softmax'))(model)\n",
        "model = Model(input_word,out)\n",
        "model.summary()"
      ],
      "execution_count": null,
      "outputs": [
        {
          "output_type": "stream",
          "name": "stdout",
          "text": [
            "Model: \"model_1\"\n",
            "_________________________________________________________________\n",
            " Layer (type)                Output Shape              Param #   \n",
            "=================================================================\n",
            " input_2 (InputLayer)        [(None, 50)]              0         \n",
            "                                                                 \n",
            " embedding_1 (Embedding)     (None, 50, 100)           3517900   \n",
            "                                                                 \n",
            " spatial_dropout1d_1 (Spatia  (None, 50, 100)          0         \n",
            " lDropout1D)                                                     \n",
            "                                                                 \n",
            " bidirectional_1 (Bidirectio  (None, 50, 256)          234496    \n",
            " nal)                                                            \n",
            "                                                                 \n",
            " time_distributed_1 (TimeDis  (None, 50, 17)           4369      \n",
            " tributed)                                                       \n",
            "                                                                 \n",
            "=================================================================\n",
            "Total params: 3,756,765\n",
            "Trainable params: 3,756,765\n",
            "Non-trainable params: 0\n",
            "_________________________________________________________________\n"
          ]
        }
      ]
    },
    {
      "cell_type": "markdown",
      "source": [
        "Set the embedding layer to non trainable to exploit the effect of extra knowledge."
      ],
      "metadata": {
        "id": "tvTSZWTl2skG"
      }
    },
    {
      "cell_type": "code",
      "source": [
        "model.layers[1].set_weights([embedding_matrix])\n",
        "model.layers[1].trainable = False"
      ],
      "metadata": {
        "id": "ntiabm4is2nT"
      },
      "execution_count": null,
      "outputs": []
    },
    {
      "cell_type": "code",
      "source": [
        "model.summary()"
      ],
      "metadata": {
        "colab": {
          "base_uri": "https://localhost:8080/"
        },
        "id": "zJy1IyqOaXYa",
        "outputId": "9108d30a-0f86-46d7-9f05-245c6e36a19d"
      },
      "execution_count": null,
      "outputs": [
        {
          "output_type": "stream",
          "name": "stdout",
          "text": [
            "Model: \"model_1\"\n",
            "_________________________________________________________________\n",
            " Layer (type)                Output Shape              Param #   \n",
            "=================================================================\n",
            " input_2 (InputLayer)        [(None, 50)]              0         \n",
            "                                                                 \n",
            " embedding_1 (Embedding)     (None, 50, 100)           3517900   \n",
            "                                                                 \n",
            " spatial_dropout1d_1 (Spatia  (None, 50, 100)          0         \n",
            " lDropout1D)                                                     \n",
            "                                                                 \n",
            " bidirectional_1 (Bidirectio  (None, 50, 256)          234496    \n",
            " nal)                                                            \n",
            "                                                                 \n",
            " time_distributed_1 (TimeDis  (None, 50, 17)           4369      \n",
            " tributed)                                                       \n",
            "                                                                 \n",
            "=================================================================\n",
            "Total params: 3,756,765\n",
            "Trainable params: 238,865\n",
            "Non-trainable params: 3,517,900\n",
            "_________________________________________________________________\n"
          ]
        }
      ]
    },
    {
      "metadata": {
        "trusted": true,
        "id": "vRfsMb83YZIB"
      },
      "cell_type": "code",
      "source": [
        "model.compile(optimizer = 'adam',\n",
        "              loss='categorical_crossentropy',\n",
        "             metrics=['accuracy'])"
      ],
      "execution_count": null,
      "outputs": []
    },
    {
      "cell_type": "markdown",
      "source": [
        "### Train the Model"
      ],
      "metadata": {
        "id": "YJ8tM4Yk2zIY"
      }
    },
    {
      "metadata": {
        "trusted": true,
        "colab": {
          "base_uri": "https://localhost:8080/"
        },
        "id": "cY9fEABDYZIB",
        "outputId": "3461cc39-9749-471a-de6e-0b818d5deb9d"
      },
      "cell_type": "code",
      "source": [
        "!pip install livelossplot"
      ],
      "execution_count": null,
      "outputs": [
        {
          "output_type": "stream",
          "name": "stdout",
          "text": [
            "Collecting livelossplot\n",
            "  Downloading livelossplot-0.5.4-py3-none-any.whl (22 kB)\n",
            "Requirement already satisfied: matplotlib in /usr/local/lib/python3.7/dist-packages (from livelossplot) (3.2.2)\n",
            "Requirement already satisfied: ipython in /usr/local/lib/python3.7/dist-packages (from livelossplot) (5.5.0)\n",
            "Requirement already satisfied: bokeh in /usr/local/lib/python3.7/dist-packages (from livelossplot) (2.3.3)\n",
            "Requirement already satisfied: numpy>=1.11.3 in /usr/local/lib/python3.7/dist-packages (from bokeh->livelossplot) (1.21.5)\n",
            "Requirement already satisfied: tornado>=5.1 in /usr/local/lib/python3.7/dist-packages (from bokeh->livelossplot) (5.1.1)\n",
            "Requirement already satisfied: typing-extensions>=3.7.4 in /usr/local/lib/python3.7/dist-packages (from bokeh->livelossplot) (3.10.0.2)\n",
            "Requirement already satisfied: python-dateutil>=2.1 in /usr/local/lib/python3.7/dist-packages (from bokeh->livelossplot) (2.8.2)\n",
            "Requirement already satisfied: packaging>=16.8 in /usr/local/lib/python3.7/dist-packages (from bokeh->livelossplot) (21.3)\n",
            "Requirement already satisfied: pillow>=7.1.0 in /usr/local/lib/python3.7/dist-packages (from bokeh->livelossplot) (7.1.2)\n",
            "Requirement already satisfied: PyYAML>=3.10 in /usr/local/lib/python3.7/dist-packages (from bokeh->livelossplot) (3.13)\n",
            "Requirement already satisfied: Jinja2>=2.9 in /usr/local/lib/python3.7/dist-packages (from bokeh->livelossplot) (2.11.3)\n",
            "Requirement already satisfied: MarkupSafe>=0.23 in /usr/local/lib/python3.7/dist-packages (from Jinja2>=2.9->bokeh->livelossplot) (2.0.1)\n",
            "Requirement already satisfied: pyparsing!=3.0.5,>=2.0.2 in /usr/local/lib/python3.7/dist-packages (from packaging>=16.8->bokeh->livelossplot) (3.0.7)\n",
            "Requirement already satisfied: six>=1.5 in /usr/local/lib/python3.7/dist-packages (from python-dateutil>=2.1->bokeh->livelossplot) (1.15.0)\n",
            "Requirement already satisfied: setuptools>=18.5 in /usr/local/lib/python3.7/dist-packages (from ipython->livelossplot) (57.4.0)\n",
            "Requirement already satisfied: decorator in /usr/local/lib/python3.7/dist-packages (from ipython->livelossplot) (4.4.2)\n",
            "Requirement already satisfied: simplegeneric>0.8 in /usr/local/lib/python3.7/dist-packages (from ipython->livelossplot) (0.8.1)\n",
            "Requirement already satisfied: pygments in /usr/local/lib/python3.7/dist-packages (from ipython->livelossplot) (2.6.1)\n",
            "Requirement already satisfied: pickleshare in /usr/local/lib/python3.7/dist-packages (from ipython->livelossplot) (0.7.5)\n",
            "Requirement already satisfied: traitlets>=4.2 in /usr/local/lib/python3.7/dist-packages (from ipython->livelossplot) (5.1.1)\n",
            "Requirement already satisfied: pexpect in /usr/local/lib/python3.7/dist-packages (from ipython->livelossplot) (4.8.0)\n",
            "Requirement already satisfied: prompt-toolkit<2.0.0,>=1.0.4 in /usr/local/lib/python3.7/dist-packages (from ipython->livelossplot) (1.0.18)\n",
            "Requirement already satisfied: wcwidth in /usr/local/lib/python3.7/dist-packages (from prompt-toolkit<2.0.0,>=1.0.4->ipython->livelossplot) (0.2.5)\n",
            "Requirement already satisfied: kiwisolver>=1.0.1 in /usr/local/lib/python3.7/dist-packages (from matplotlib->livelossplot) (1.3.2)\n",
            "Requirement already satisfied: cycler>=0.10 in /usr/local/lib/python3.7/dist-packages (from matplotlib->livelossplot) (0.11.0)\n",
            "Requirement already satisfied: ptyprocess>=0.5 in /usr/local/lib/python3.7/dist-packages (from pexpect->ipython->livelossplot) (0.7.0)\n",
            "Installing collected packages: livelossplot\n",
            "Successfully installed livelossplot-0.5.4\n"
          ]
        }
      ]
    },
    {
      "metadata": {
        "trusted": true,
        "id": "p2_9uiinYZIB"
      },
      "cell_type": "code",
      "source": [
        "from tensorflow.keras.callbacks import ModelCheckpoint,EarlyStopping\n",
        "from livelossplot.tf_keras import PlotLossesCallback"
      ],
      "execution_count": null,
      "outputs": []
    },
    {
      "metadata": {
        "trusted": true,
        "colab": {
          "base_uri": "https://localhost:8080/"
        },
        "id": "XlbA22vtYZIC",
        "outputId": "504a29c0-1e30-45c6-df91-39c1e7ea6eaa"
      },
      "cell_type": "code",
      "source": [
        "import gc\n",
        "gc.collect(),gc.collect()"
      ],
      "execution_count": null,
      "outputs": [
        {
          "output_type": "execute_result",
          "data": {
            "text/plain": [
              "(93791, 0)"
            ]
          },
          "metadata": {},
          "execution_count": 55
        }
      ]
    },
    {
      "cell_type": "markdown",
      "source": [
        "We train via 80 20 rule. Cross validation can be an alternative."
      ],
      "metadata": {
        "id": "2sCygbq63PuB"
      }
    },
    {
      "metadata": {
        "trusted": true,
        "colab": {
          "base_uri": "https://localhost:8080/",
          "height": 714
        },
        "id": "jfLHGaTdYZIC",
        "outputId": "af48df01-fc9b-4420-af09-d0a36727b623"
      },
      "cell_type": "code",
      "source": [
        "early_stopping = EarlyStopping(monitor='val_accuracy',patience=1, verbose=0, mode='max',restore_best_weights= False)\n",
        "callbacks = [PlotLossesCallback(),early_stopping]\n",
        "\n",
        "history2 = model.fit(X_train,np.array(y_train),validation_split = 0.2,\n",
        "                   batch_size = 64, epochs = 30, verbose=1,callbacks=callbacks)"
      ],
      "execution_count": null,
      "outputs": [
        {
          "output_type": "display_data",
          "data": {
            "image/png": "[encoded data removed]",
            "text/plain": [
              "<Figure size 864x576 with 2 Axes>"
            ]
          },
          "metadata": {}
        },
        {
          "output_type": "stream",
          "name": "stdout",
          "text": [
            "accuracy\n",
            "\ttraining         \t (min:    0.930, max:    0.933, cur:    0.933)\n",
            "\tvalidation       \t (min:    0.933, max:    0.933, cur:    0.933)\n",
            "Loss\n",
            "\ttraining         \t (min:    0.297, max:    0.347, cur:    0.297)\n",
            "\tvalidation       \t (min:    0.288, max:    0.316, cur:    0.288)\n",
            "\b\b\b\b\b\b\b\b\b\b\b\b\b\b\b\b\b\b\b\b\b\b\b\b\b\b\b\b\b\b\b\b\b\b\b\b\b\b\b\b\b\b\b\b\b\b\b\b\b\b\b\b\b\b\b\b\b\b\b\b\b\b\b\b\b\b\b\b\b\b\b\b\b\b\b\b\b\b\b\b\b\b\b\b\r480/480 [==============================] - 115s 239ms/step - loss: 0.2969 - accuracy: 0.9330 - val_loss: 0.2877 - val_accuracy: 0.9332\n"
          ]
        }
      ]
    },
    {
      "metadata": {
        "trusted": true,
        "id": "9Tg7tgRQYZIC"
      },
      "cell_type": "code",
      "source": [
        "### Evaluate Named Entity Model"
      ],
      "execution_count": null,
      "outputs": []
    },
    {
      "metadata": {
        "trusted": true,
        "colab": {
          "base_uri": "https://localhost:8080/"
        },
        "id": "TrqlaxTGYZID",
        "outputId": "76ed7264-ce3a-4890-c0f9-8468c3bf4ff1"
      },
      "cell_type": "code",
      "source": [
        "eval = model.evaluate(X_test, np.array(y_test))"
      ],
      "execution_count": null,
      "outputs": [
        {
          "output_type": "stream",
          "name": "stdout",
          "text": [
            "300/300 [==============================] - 12s 38ms/step - loss: 0.3121 - accuracy: 0.9336\n"
          ]
        }
      ]
    },
    {
      "cell_type": "markdown",
      "source": [
        "### Compute the metrics score"
      ],
      "metadata": {
        "id": "cRS_G0HhIBkn"
      }
    },
    {
      "cell_type": "code",
      "source": [
        "X_test.shape[0]"
      ],
      "metadata": {
        "colab": {
          "base_uri": "https://localhost:8080/"
        },
        "id": "EtOv5821w_bf",
        "outputId": "0332b66f-008a-4393-cc06-e0aaf25a0963"
      },
      "execution_count": null,
      "outputs": [
        {
          "output_type": "execute_result",
          "data": {
            "text/plain": [
              "9592"
            ]
          },
          "metadata": {},
          "execution_count": 48
        }
      ]
    },
    {
      "cell_type": "markdown",
      "source": [
        "Generate data in the format:\n",
        "[[sentence: {start_index, end_index, text, type}]]"
      ],
      "metadata": {
        "id": "C8aLbvMtK6-K"
      }
    },
    {
      "cell_type": "code",
      "source": [
        "def splitTags(tag):\n",
        "    # Split tag e.g B-geo into B, GEO\n",
        "    return [tag.upper() for tag in tag.split('-')]\n",
        "\n",
        "def zipText2Tags(words, start_index, end_index, tag):\n",
        "    return {'start_idx': start_index, 'end_idx': end_index, 'text': words, 'type': tag}\n",
        "\n",
        "# Test\n",
        "splitTags('B-geo')"
      ],
      "metadata": {
        "colab": {
          "base_uri": "https://localhost:8080/"
        },
        "id": "Ifi5inreMvSh",
        "outputId": "fe29488d-7704-4505-c922-6b4e68dc443f"
      },
      "execution_count": null,
      "outputs": [
        {
          "output_type": "execute_result",
          "data": {
            "text/plain": [
              "['B', 'GEO']"
            ]
          },
          "metadata": {},
          "execution_count": 41
        }
      ]
    },
    {
      "cell_type": "code",
      "source": [
        "tags"
      ],
      "metadata": {
        "colab": {
          "base_uri": "https://localhost:8080/"
        },
        "id": "6jNsASUr14ts",
        "outputId": "baa44b62-b60b-4cb8-f3cc-218b6edc5d27"
      },
      "execution_count": null,
      "outputs": [
        {
          "output_type": "execute_result",
          "data": {
            "text/plain": [
              "['I-art',\n",
              " 'I-eve',\n",
              " 'I-per',\n",
              " 'B-org',\n",
              " 'B-per',\n",
              " 'O',\n",
              " 'B-nat',\n",
              " 'I-geo',\n",
              " 'I-org',\n",
              " 'I-nat',\n",
              " 'B-tim',\n",
              " 'B-geo',\n",
              " 'I-gpe',\n",
              " 'B-art',\n",
              " 'I-tim',\n",
              " 'B-eve',\n",
              " 'B-gpe']"
            ]
          },
          "metadata": {},
          "execution_count": 193
        }
      ]
    },
    {
      "cell_type": "code",
      "source": [
        "from tqdm import tqdm\n",
        "sents_words = []\n",
        "sents_true_labels = []\n",
        "sents_pred_labels = []\n",
        "\n",
        "p = model.predict(np.array(X_test))\n",
        "p = np.argmax(p, axis=-1)\n",
        "# y_true = np.argmax(np.array(y_test), axis=1)\n",
        "\n",
        "for sent in tqdm(range(X_test.shape[0])):\n",
        "    # Predict the word in each sentence\n",
        "    # p = model.predict(np.array([X_test[sent]]))\n",
        "    # p = np.argmax(p, axis=-1)\n",
        "    y_true = np.argmax(np.array(y_test[sent]), axis=1)\n",
        "    # print(X_test[sent], y_true[sent], p[sent])\n",
        "    for W, true, pred in zip(X_test[sent], y_true, p[sent]):\n",
        "        word = words[W-1]\n",
        "        sents_words.append(word)\n",
        "        sents_true_labels.append(splitTags(tags[true])[-1])\n",
        "        sents_pred_labels.append(splitTags(tags[pred])[-1])\n",
        "        # print(\"{:15}{}\\t{}\".format(words[W-1], tags[true], tags[pred]))"
      ],
      "metadata": {
        "colab": {
          "base_uri": "https://localhost:8080/"
        },
        "id": "Bxxhd1bH00UB",
        "outputId": "c5c0d7e2-8a09-4ec6-c06b-8bb2c5926b0e"
      },
      "execution_count": null,
      "outputs": [
        {
          "output_type": "stream",
          "name": "stderr",
          "text": [
            "100%|██████████| 9592/9592 [00:02<00:00, 3588.20it/s]\n"
          ]
        }
      ]
    },
    {
      "cell_type": "code",
      "source": [
        "print(len(sents_words), len(sents_true_labels), len(sents_pred_labels))"
      ],
      "metadata": {
        "colab": {
          "base_uri": "https://localhost:8080/"
        },
        "id": "hLWyIk5pEutr",
        "outputId": "0bc518b2-6236-4b20-a40d-1d50bd4dc619"
      },
      "execution_count": null,
      "outputs": [
        {
          "output_type": "stream",
          "name": "stdout",
          "text": [
            "479600 479600 479600\n"
          ]
        }
      ]
    },
    {
      "cell_type": "code",
      "source": [
        "from sklearn.metrics import precision_recall_fscore_support, accuracy_score, classification_report, confusion_matrix\n",
        "import warnings\n",
        "warnings.filterwarnings(\"ignore\")\n",
        "# dataframe_pred = pd.DataFrame.from_records(sents_true_labels)\n",
        "\n",
        "print('Metrics Score Analysis\\n\\n')\n",
        "print(classification_report(sents_true_labels, sents_pred_labels))\n",
        "print('\\nConfusion Matrix: \\n', confusion_matrix(sents_true_labels, sents_pred_labels))"
      ],
      "metadata": {
        "colab": {
          "base_uri": "https://localhost:8080/"
        },
        "id": "i0Bb0N_Kv8xB",
        "outputId": "caaab54f-3e0a-4d48-dfd8-027ec4a271a1"
      },
      "execution_count": null,
      "outputs": [
        {
          "output_type": "stream",
          "name": "stdout",
          "text": [
            "Metrics Score Analysis\n",
            "\n",
            "\n",
            "              precision    recall  f1-score   support\n",
            "\n",
            "         ART       0.00      0.00      0.00       182\n",
            "         EVE       0.00      0.00      0.00       152\n",
            "         GEO       0.60      0.01      0.03      8829\n",
            "         GPE       0.00      0.00      0.00      3206\n",
            "         NAT       0.00      0.00      0.00        50\n",
            "           O       0.93      1.00      0.97    447795\n",
            "         ORG       0.00      0.00      0.00      7162\n",
            "         PER       0.14      0.00      0.00      6783\n",
            "         TIM       0.08      0.00      0.00      5441\n",
            "\n",
            "    accuracy                           0.93    479600\n",
            "   macro avg       0.20      0.11      0.11    479600\n",
            "weighted avg       0.89      0.93      0.90    479600\n",
            "\n",
            "\n",
            "Confusion Matrix: \n",
            " [[     0      0      0      0      0    182      0      0      0]\n",
            " [     0      0      0      0      0    152      0      0      0]\n",
            " [     0      0    130      0      0   8697      1      0      1]\n",
            " [     0      0      1      0      0   3205      0      0      0]\n",
            " [     0      0      0      0      0     50      0      0      0]\n",
            " [     0      0     27      0      0 447736      6      5     21]\n",
            " [     0      0      2      0      0   7159      0      1      0]\n",
            " [     0      0      0      0      0   6782      0      1      0]\n",
            " [     0      0     57      0      0   5382      0      0      2]]\n"
          ]
        }
      ]
    }
  ],
  "metadata": {
    "kernelspec": {
      "name": "python3",
      "display_name": "Python 3",
      "language": "python"
    },
    "language_info": {
      "name": "python",
      "version": "3.6.6",
      "mimetype": "text/x-python",
      "codemirror_mode": {
        "name": "ipython",
        "version": 3
      },
      "pygments_lexer": "ipython3",
      "nbconvert_exporter": "python",
      "file_extension": ".py"
    },
    "colab": {
      "provenance": []
    },
    "accelerator": "GPU"
  },
  "nbformat": 4,
  "nbformat_minor": 0
}