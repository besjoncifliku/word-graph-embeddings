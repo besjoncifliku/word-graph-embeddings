{
  "nbformat": 4,
  "nbformat_minor": 0,
  "metadata": {
    "accelerator": "GPU",
    "colab": {
      "provenance": []
    },
    "kernelspec": {
      "display_name": "Python 3",
      "name": "python3"
    },
    "language_info": {
      "name": "python"
    }
  },
  "cells": [
    {
      "cell_type": "code",
      "metadata": {
        "id": "EIEsHOvs5naD"
      },
      "source": [
        "from nltk.corpus import gutenberg # to get bible corpus\n",
        "from string import punctuation # to remove punctuation from corpus\n",
        "import nltk\n",
        "import re\n",
        "import numpy as np\n",
        "\n",
        "from keras.preprocessing import text\n",
        "from keras.preprocessing.sequence import skipgrams\n",
        "from keras.layers import *\n",
        "from keras.layers.core import Dense, Reshape\n",
        "from keras.layers.embeddings import Embedding\n",
        "from keras.models import Model,Sequential"
      ],
      "execution_count": null,
      "outputs": []
    },
    {
      "cell_type": "code",
      "metadata": {
        "colab": {
          "base_uri": "https://localhost:8080/"
        },
        "id": "TkCExnM052Hq",
        "outputId": "8740d270-e656-4128-e0ad-382d17acccac"
      },
      "source": [
        "nltk.download('gutenberg')\n",
        "nltk.download('punkt')\n",
        "nltk.download('stopwords')\n",
        "\n",
        "stop_words = nltk.corpus.stopwords.words('english')"
      ],
      "execution_count": null,
      "outputs": [
        {
          "output_type": "stream",
          "text": [
            "[nltk_data] Downloading package gutenberg to /root/nltk_data...\n",
            "[nltk_data]   Package gutenberg is already up-to-date!\n",
            "[nltk_data] Downloading package punkt to /root/nltk_data...\n",
            "[nltk_data]   Package punkt is already up-to-date!\n",
            "[nltk_data] Downloading package stopwords to /root/nltk_data...\n",
            "[nltk_data]   Package stopwords is already up-to-date!\n"
          ],
          "name": "stdout"
        }
      ]
    },
    {
      "cell_type": "code",
      "metadata": {
        "id": "Vvd_fiR652F6"
      },
      "source": [
        "bible = gutenberg.sents(\"bible-kjv.txt\")\n",
        "remove_terms = punctuation + '0123456789'"
      ],
      "execution_count": null,
      "outputs": []
    },
    {
      "cell_type": "code",
      "metadata": {
        "colab": {
          "base_uri": "https://localhost:8080/"
        },
        "id": "7PoQuEDtcv0I",
        "outputId": "0211dd2e-065e-4ae6-e7c5-612d85a0186f"
      },
      "source": [
        "bible"
      ],
      "execution_count": null,
      "outputs": [
        {
          "output_type": "execute_result",
          "data": {
            "text/plain": [
              "[['[', 'The', 'King', 'James', 'Bible', ']'], ['The', 'Old', 'Testament', 'of', 'the', 'King', 'James', 'Bible'], ...]"
            ]
          },
          "metadata": {
            "tags": []
          },
          "execution_count": 4
        }
      ]
    },
    {
      "cell_type": "code",
      "metadata": {
        "id": "oiU4yXEncrJ5"
      },
      "source": [
        "wpt = nltk.WordPunctTokenizer()\n",
        "\n",
        "def normalize_document(doc):\n",
        "    # lower case and remove special characters\\whitespaces\n",
        "    doc = re.sub(r'[^a-zA-Z\\s]', '', doc,re.I|re.A)\n",
        "    doc = doc.lower()\n",
        "    doc = doc.strip()\n",
        "    # tokenize document\n",
        "    tokens = wpt.tokenize(doc)\n",
        "    # filter stopwords out of document\n",
        "    filtered_tokens = [token for token in tokens if token not in stop_words]\n",
        "    # re-create document from filtered tokens\n",
        "    doc = ' '.join(filtered_tokens)\n",
        "    return doc\n",
        "\n",
        "normalize_corpus = np.vectorize(normalize_document)"
      ],
      "execution_count": null,
      "outputs": []
    },
    {
      "cell_type": "code",
      "metadata": {
        "id": "mDAX-MAR52Ds"
      },
      "source": [
        "norm_bible = [[word.lower() for word in sent if word not in remove_terms] for sent in bible]\n",
        "norm_bible = [' '.join(tok_sent) for tok_sent in norm_bible]\n",
        "norm_bible = filter(None, normalize_corpus(norm_bible))\n",
        "norm_bible = [tok_sent for tok_sent in norm_bible if len(tok_sent.split()) > 2]"
      ],
      "execution_count": null,
      "outputs": []
    },
    {
      "cell_type": "code",
      "metadata": {
        "colab": {
          "base_uri": "https://localhost:8080/"
        },
        "id": "nvP43P_m511a",
        "outputId": "464cff89-d927-4be9-d527-6a996f2921e7"
      },
      "source": [
        "tokenizer = text.Tokenizer()\n",
        "tokenizer.fit_on_texts(norm_bible)\n",
        "\n",
        "word2id = tokenizer.word_index\n",
        "id2word = {v:k for k, v in word2id.items()}\n",
        "\n",
        "vocab_size = len(word2id) + 1\n",
        "\n",
        "\n",
        "wids = [[word2id[w] for w in text.text_to_word_sequence(doc)] for doc in norm_bible]\n",
        "print('Vocabulary Size:', vocab_size)\n",
        "print('Vocabulary Sample:', list(word2id.items())[:5])"
      ],
      "execution_count": null,
      "outputs": [
        {
          "output_type": "stream",
          "text": [
            "Vocabulary Size: 12425\n",
            "Vocabulary Sample: [('shall', 1), ('unto', 2), ('lord', 3), ('thou', 4), ('thy', 5)]\n"
          ],
          "name": "stdout"
        }
      ]
    },
    {
      "cell_type": "code",
      "metadata": {
        "colab": {
          "base_uri": "https://localhost:8080/"
        },
        "id": "BMADbZwT51zW",
        "outputId": "32f1afd6-30fc-426f-db04-2d878479b0f2"
      },
      "source": [
        "# generate skip-grams\n",
        "skip_grams = [skipgrams(wid, vocabulary_size=vocab_size, window_size=10) for wid in wids]\n",
        "\n",
        "# view sample skip-grams\n",
        "pairs, labels = skip_grams[0][0], skip_grams[0][1]\n",
        "for i in range(10):\n",
        "    print(\"({:s} ({:d}), {:s} ({:d})) -> {:d}\".format(\n",
        "          id2word[pairs[i][0]], pairs[i][0],\n",
        "          id2word[pairs[i][1]], pairs[i][1],\n",
        "          labels[i]))"
      ],
      "execution_count": null,
      "outputs": [
        {
          "output_type": "stream",
          "text": [
            "(king (13), james (1154)) -> 1\n",
            "(bible (5766), willing (1559)) -> 0\n",
            "(james (1154), king (13)) -> 1\n",
            "(james (1154), bible (5766)) -> 1\n",
            "(king (13), bible (5766)) -> 1\n",
            "(bible (5766), supper (2792)) -> 0\n",
            "(james (1154), moreover (378)) -> 0\n",
            "(king (13), comforters (4903)) -> 0\n",
            "(james (1154), nourish (4708)) -> 0\n",
            "(bible (5766), james (1154)) -> 1\n"
          ],
          "name": "stdout"
        }
      ]
    },
    {
      "cell_type": "code",
      "metadata": {
        "colab": {
          "base_uri": "https://localhost:8080/"
        },
        "id": "4kAxBZzo51yS",
        "outputId": "21819578-1f2e-4dab-ea00-9057e7cd350c"
      },
      "source": [
        "# build skip-gram architecture\n",
        "embed_size = 100\n",
        "word_model = Sequential()\n",
        "word_model.add(Embedding(vocab_size, embed_size,\n",
        "                         embeddings_initializer=\"glorot_uniform\",\n",
        "                         input_length=1))\n",
        "word_model.add(Reshape((embed_size, )))\n",
        "\n",
        "context_model = Sequential()\n",
        "context_model.add(Embedding(vocab_size, embed_size,\n",
        "                  embeddings_initializer=\"glorot_uniform\",\n",
        "                  input_length=1))\n",
        "context_model.add(Reshape((embed_size,)))\n",
        "\n",
        "merged_output = add([word_model.output, context_model.output])\n",
        "\n",
        "model_combined = Sequential()\n",
        "model_combined.add(Dense(1, kernel_initializer=\"glorot_uniform\", activation=\"sigmoid\"))\n",
        "\n",
        "final_model = Model([word_model.input, context_model.input], model_combined(merged_output))\n",
        "final_model.compile(loss=\"mean_squared_error\", optimizer=\"rmsprop\")\n",
        "\n",
        "final_model.summary()"
      ],
      "execution_count": null,
      "outputs": [
        {
          "output_type": "stream",
          "text": [
            "Model: \"model\"\n",
            "__________________________________________________________________________________________________\n",
            "Layer (type)                    Output Shape         Param #     Connected to                     \n",
            "==================================================================================================\n",
            "embedding_input (InputLayer)    [(None, 1)]          0                                            \n",
            "__________________________________________________________________________________________________\n",
            "embedding_1_input (InputLayer)  [(None, 1)]          0                                            \n",
            "__________________________________________________________________________________________________\n",
            "embedding (Embedding)           (None, 1, 100)       1242500     embedding_input[0][0]            \n",
            "__________________________________________________________________________________________________\n",
            "embedding_1 (Embedding)         (None, 1, 100)       1242500     embedding_1_input[0][0]          \n",
            "__________________________________________________________________________________________________\n",
            "reshape (Reshape)               (None, 100)          0           embedding[0][0]                  \n",
            "__________________________________________________________________________________________________\n",
            "reshape_1 (Reshape)             (None, 100)          0           embedding_1[0][0]                \n",
            "__________________________________________________________________________________________________\n",
            "add (Add)                       (None, 100)          0           reshape[0][0]                    \n",
            "                                                                 reshape_1[0][0]                  \n",
            "__________________________________________________________________________________________________\n",
            "sequential_2 (Sequential)       (None, 1)            101         add[0][0]                        \n",
            "==================================================================================================\n",
            "Total params: 2,485,101\n",
            "Trainable params: 2,485,101\n",
            "Non-trainable params: 0\n",
            "__________________________________________________________________________________________________\n"
          ],
          "name": "stdout"
        }
      ]
    },
    {
      "cell_type": "code",
      "metadata": {
        "colab": {
          "base_uri": "https://localhost:8080/",
          "height": 708
        },
        "id": "xqE6krKluvev",
        "outputId": "e99aebf3-30aa-49c3-e139-875d1c8ee155"
      },
      "source": [
        "# visualize model structure\n",
        "from IPython.display import SVG\n",
        "from keras.utils.vis_utils import model_to_dot\n",
        "\n",
        "SVG(model_to_dot(final_model, show_shapes=True, show_layer_names=False,\n",
        "                 rankdir='TB').create(prog='dot', format='svg'))"
      ],
      "execution_count": null,
      "outputs": [
        {
          "output_type": "execute_result",
          "data": {
            "text/plain": [
              "<IPython.core.display.SVG object>"
            ],
            "image/svg+xml": "<svg height=\"516pt\" viewBox=\"0.00 0.00 514.00 387.00\" width=\"685pt\" xmlns=\"http://www.w3.org/2000/svg\" xmlns:xlink=\"http://www.w3.org/1999/xlink\">\n<g class=\"graph\" id=\"graph0\" transform=\"scale(1.3333 1.3333) rotate(0) translate(4 383)\">\n<title>G</title>\n<polygon fill=\"#ffffff\" points=\"-4,4 -4,-383 510,-383 510,4 -4,4\" stroke=\"transparent\"/>\n<!-- 140036578871248 -->\n<g class=\"node\" id=\"node1\">\n<title>140036578871248</title>\n<polygon fill=\"none\" points=\"12.5,-332.5 12.5,-378.5 231.5,-378.5 231.5,-332.5 12.5,-332.5\" stroke=\"#000000\"/>\n<text fill=\"#000000\" font-family=\"Times,serif\" font-size=\"14.00\" text-anchor=\"middle\" x=\"52.5\" y=\"-351.8\">InputLayer</text>\n<polyline fill=\"none\" points=\"92.5,-332.5 92.5,-378.5 \" stroke=\"#000000\"/>\n<text fill=\"#000000\" font-family=\"Times,serif\" font-size=\"14.00\" text-anchor=\"middle\" x=\"121.5\" y=\"-363.3\">input:</text>\n<polyline fill=\"none\" points=\"92.5,-355.5 150.5,-355.5 \" stroke=\"#000000\"/>\n<text fill=\"#000000\" font-family=\"Times,serif\" font-size=\"14.00\" text-anchor=\"middle\" x=\"121.5\" y=\"-340.3\">output:</text>\n<polyline fill=\"none\" points=\"150.5,-332.5 150.5,-378.5 \" stroke=\"#000000\"/>\n<text fill=\"#000000\" font-family=\"Times,serif\" font-size=\"14.00\" text-anchor=\"middle\" x=\"191\" y=\"-363.3\">[(None, 1)]</text>\n<polyline fill=\"none\" points=\"150.5,-355.5 231.5,-355.5 \" stroke=\"#000000\"/>\n<text fill=\"#000000\" font-family=\"Times,serif\" font-size=\"14.00\" text-anchor=\"middle\" x=\"191\" y=\"-340.3\">[(None, 1)]</text>\n</g>\n<!-- 140037626554640 -->\n<g class=\"node\" id=\"node3\">\n<title>140037626554640</title>\n<polygon fill=\"none\" points=\"0,-249.5 0,-295.5 244,-295.5 244,-249.5 0,-249.5\" stroke=\"#000000\"/>\n<text fill=\"#000000\" font-family=\"Times,serif\" font-size=\"14.00\" text-anchor=\"middle\" x=\"42\" y=\"-268.8\">Embedding</text>\n<polyline fill=\"none\" points=\"84,-249.5 84,-295.5 \" stroke=\"#000000\"/>\n<text fill=\"#000000\" font-family=\"Times,serif\" font-size=\"14.00\" text-anchor=\"middle\" x=\"113\" y=\"-280.3\">input:</text>\n<polyline fill=\"none\" points=\"84,-272.5 142,-272.5 \" stroke=\"#000000\"/>\n<text fill=\"#000000\" font-family=\"Times,serif\" font-size=\"14.00\" text-anchor=\"middle\" x=\"113\" y=\"-257.3\">output:</text>\n<polyline fill=\"none\" points=\"142,-249.5 142,-295.5 \" stroke=\"#000000\"/>\n<text fill=\"#000000\" font-family=\"Times,serif\" font-size=\"14.00\" text-anchor=\"middle\" x=\"193\" y=\"-280.3\">(None, 1)</text>\n<polyline fill=\"none\" points=\"142,-272.5 244,-272.5 \" stroke=\"#000000\"/>\n<text fill=\"#000000\" font-family=\"Times,serif\" font-size=\"14.00\" text-anchor=\"middle\" x=\"193\" y=\"-257.3\">(None, 1, 100)</text>\n</g>\n<!-- 140036578871248&#45;&gt;140037626554640 -->\n<g class=\"edge\" id=\"edge1\">\n<title>140036578871248-&gt;140037626554640</title>\n<path d=\"M122,-332.3799C122,-324.1745 122,-314.7679 122,-305.8786\" fill=\"none\" stroke=\"#000000\"/>\n<polygon fill=\"#000000\" points=\"125.5001,-305.784 122,-295.784 118.5001,-305.784 125.5001,-305.784\" stroke=\"#000000\"/>\n</g>\n<!-- 140035372162000 -->\n<g class=\"node\" id=\"node2\">\n<title>140035372162000</title>\n<polygon fill=\"none\" points=\"274.5,-332.5 274.5,-378.5 493.5,-378.5 493.5,-332.5 274.5,-332.5\" stroke=\"#000000\"/>\n<text fill=\"#000000\" font-family=\"Times,serif\" font-size=\"14.00\" text-anchor=\"middle\" x=\"314.5\" y=\"-351.8\">InputLayer</text>\n<polyline fill=\"none\" points=\"354.5,-332.5 354.5,-378.5 \" stroke=\"#000000\"/>\n<text fill=\"#000000\" font-family=\"Times,serif\" font-size=\"14.00\" text-anchor=\"middle\" x=\"383.5\" y=\"-363.3\">input:</text>\n<polyline fill=\"none\" points=\"354.5,-355.5 412.5,-355.5 \" stroke=\"#000000\"/>\n<text fill=\"#000000\" font-family=\"Times,serif\" font-size=\"14.00\" text-anchor=\"middle\" x=\"383.5\" y=\"-340.3\">output:</text>\n<polyline fill=\"none\" points=\"412.5,-332.5 412.5,-378.5 \" stroke=\"#000000\"/>\n<text fill=\"#000000\" font-family=\"Times,serif\" font-size=\"14.00\" text-anchor=\"middle\" x=\"453\" y=\"-363.3\">[(None, 1)]</text>\n<polyline fill=\"none\" points=\"412.5,-355.5 493.5,-355.5 \" stroke=\"#000000\"/>\n<text fill=\"#000000\" font-family=\"Times,serif\" font-size=\"14.00\" text-anchor=\"middle\" x=\"453\" y=\"-340.3\">[(None, 1)]</text>\n</g>\n<!-- 140035372131920 -->\n<g class=\"node\" id=\"node4\">\n<title>140035372131920</title>\n<polygon fill=\"none\" points=\"262,-249.5 262,-295.5 506,-295.5 506,-249.5 262,-249.5\" stroke=\"#000000\"/>\n<text fill=\"#000000\" font-family=\"Times,serif\" font-size=\"14.00\" text-anchor=\"middle\" x=\"304\" y=\"-268.8\">Embedding</text>\n<polyline fill=\"none\" points=\"346,-249.5 346,-295.5 \" stroke=\"#000000\"/>\n<text fill=\"#000000\" font-family=\"Times,serif\" font-size=\"14.00\" text-anchor=\"middle\" x=\"375\" y=\"-280.3\">input:</text>\n<polyline fill=\"none\" points=\"346,-272.5 404,-272.5 \" stroke=\"#000000\"/>\n<text fill=\"#000000\" font-family=\"Times,serif\" font-size=\"14.00\" text-anchor=\"middle\" x=\"375\" y=\"-257.3\">output:</text>\n<polyline fill=\"none\" points=\"404,-249.5 404,-295.5 \" stroke=\"#000000\"/>\n<text fill=\"#000000\" font-family=\"Times,serif\" font-size=\"14.00\" text-anchor=\"middle\" x=\"455\" y=\"-280.3\">(None, 1)</text>\n<polyline fill=\"none\" points=\"404,-272.5 506,-272.5 \" stroke=\"#000000\"/>\n<text fill=\"#000000\" font-family=\"Times,serif\" font-size=\"14.00\" text-anchor=\"middle\" x=\"455\" y=\"-257.3\">(None, 1, 100)</text>\n</g>\n<!-- 140035372162000&#45;&gt;140035372131920 -->\n<g class=\"edge\" id=\"edge2\">\n<title>140035372162000-&gt;140035372131920</title>\n<path d=\"M384,-332.3799C384,-324.1745 384,-314.7679 384,-305.8786\" fill=\"none\" stroke=\"#000000\"/>\n<polygon fill=\"#000000\" points=\"387.5001,-305.784 384,-295.784 380.5001,-305.784 387.5001,-305.784\" stroke=\"#000000\"/>\n</g>\n<!-- 140037635246032 -->\n<g class=\"node\" id=\"node5\">\n<title>140037635246032</title>\n<polygon fill=\"none\" points=\"18.5,-166.5 18.5,-212.5 243.5,-212.5 243.5,-166.5 18.5,-166.5\" stroke=\"#000000\"/>\n<text fill=\"#000000\" font-family=\"Times,serif\" font-size=\"14.00\" text-anchor=\"middle\" x=\"51\" y=\"-185.8\">Reshape</text>\n<polyline fill=\"none\" points=\"83.5,-166.5 83.5,-212.5 \" stroke=\"#000000\"/>\n<text fill=\"#000000\" font-family=\"Times,serif\" font-size=\"14.00\" text-anchor=\"middle\" x=\"112.5\" y=\"-197.3\">input:</text>\n<polyline fill=\"none\" points=\"83.5,-189.5 141.5,-189.5 \" stroke=\"#000000\"/>\n<text fill=\"#000000\" font-family=\"Times,serif\" font-size=\"14.00\" text-anchor=\"middle\" x=\"112.5\" y=\"-174.3\">output:</text>\n<polyline fill=\"none\" points=\"141.5,-166.5 141.5,-212.5 \" stroke=\"#000000\"/>\n<text fill=\"#000000\" font-family=\"Times,serif\" font-size=\"14.00\" text-anchor=\"middle\" x=\"192.5\" y=\"-197.3\">(None, 1, 100)</text>\n<polyline fill=\"none\" points=\"141.5,-189.5 243.5,-189.5 \" stroke=\"#000000\"/>\n<text fill=\"#000000\" font-family=\"Times,serif\" font-size=\"14.00\" text-anchor=\"middle\" x=\"192.5\" y=\"-174.3\">(None, 100)</text>\n</g>\n<!-- 140037626554640&#45;&gt;140037635246032 -->\n<g class=\"edge\" id=\"edge3\">\n<title>140037626554640-&gt;140037635246032</title>\n<path d=\"M124.507,-249.3799C125.3967,-241.1745 126.4167,-231.7679 127.3806,-222.8786\" fill=\"none\" stroke=\"#000000\"/>\n<polygon fill=\"#000000\" points=\"130.8767,-223.1031 128.4752,-212.784 123.9175,-222.3484 130.8767,-223.1031\" stroke=\"#000000\"/>\n</g>\n<!-- 140036335614032 -->\n<g class=\"node\" id=\"node6\">\n<title>140036335614032</title>\n<polygon fill=\"none\" points=\"266.5,-166.5 266.5,-212.5 491.5,-212.5 491.5,-166.5 266.5,-166.5\" stroke=\"#000000\"/>\n<text fill=\"#000000\" font-family=\"Times,serif\" font-size=\"14.00\" text-anchor=\"middle\" x=\"299\" y=\"-185.8\">Reshape</text>\n<polyline fill=\"none\" points=\"331.5,-166.5 331.5,-212.5 \" stroke=\"#000000\"/>\n<text fill=\"#000000\" font-family=\"Times,serif\" font-size=\"14.00\" text-anchor=\"middle\" x=\"360.5\" y=\"-197.3\">input:</text>\n<polyline fill=\"none\" points=\"331.5,-189.5 389.5,-189.5 \" stroke=\"#000000\"/>\n<text fill=\"#000000\" font-family=\"Times,serif\" font-size=\"14.00\" text-anchor=\"middle\" x=\"360.5\" y=\"-174.3\">output:</text>\n<polyline fill=\"none\" points=\"389.5,-166.5 389.5,-212.5 \" stroke=\"#000000\"/>\n<text fill=\"#000000\" font-family=\"Times,serif\" font-size=\"14.00\" text-anchor=\"middle\" x=\"440.5\" y=\"-197.3\">(None, 1, 100)</text>\n<polyline fill=\"none\" points=\"389.5,-189.5 491.5,-189.5 \" stroke=\"#000000\"/>\n<text fill=\"#000000\" font-family=\"Times,serif\" font-size=\"14.00\" text-anchor=\"middle\" x=\"440.5\" y=\"-174.3\">(None, 100)</text>\n</g>\n<!-- 140035372131920&#45;&gt;140036335614032 -->\n<g class=\"edge\" id=\"edge4\">\n<title>140035372131920-&gt;140036335614032</title>\n<path d=\"M382.6072,-249.3799C382.1129,-241.1745 381.5463,-231.7679 381.0108,-222.8786\" fill=\"none\" stroke=\"#000000\"/>\n<polygon fill=\"#000000\" points=\"384.4977,-222.5554 380.4027,-212.784 377.5104,-222.9764 384.4977,-222.5554\" stroke=\"#000000\"/>\n</g>\n<!-- 140035372192912 -->\n<g class=\"node\" id=\"node7\">\n<title>140035372192912</title>\n<polygon fill=\"none\" points=\"115,-83.5 115,-129.5 389,-129.5 389,-83.5 115,-83.5\" stroke=\"#000000\"/>\n<text fill=\"#000000\" font-family=\"Times,serif\" font-size=\"14.00\" text-anchor=\"middle\" x=\"136\" y=\"-102.8\">Add</text>\n<polyline fill=\"none\" points=\"157,-83.5 157,-129.5 \" stroke=\"#000000\"/>\n<text fill=\"#000000\" font-family=\"Times,serif\" font-size=\"14.00\" text-anchor=\"middle\" x=\"186\" y=\"-114.3\">input:</text>\n<polyline fill=\"none\" points=\"157,-106.5 215,-106.5 \" stroke=\"#000000\"/>\n<text fill=\"#000000\" font-family=\"Times,serif\" font-size=\"14.00\" text-anchor=\"middle\" x=\"186\" y=\"-91.3\">output:</text>\n<polyline fill=\"none\" points=\"215,-83.5 215,-129.5 \" stroke=\"#000000\"/>\n<text fill=\"#000000\" font-family=\"Times,serif\" font-size=\"14.00\" text-anchor=\"middle\" x=\"302\" y=\"-114.3\">[(None, 100), (None, 100)]</text>\n<polyline fill=\"none\" points=\"215,-106.5 389,-106.5 \" stroke=\"#000000\"/>\n<text fill=\"#000000\" font-family=\"Times,serif\" font-size=\"14.00\" text-anchor=\"middle\" x=\"302\" y=\"-91.3\">(None, 100)</text>\n</g>\n<!-- 140037635246032&#45;&gt;140035372192912 -->\n<g class=\"edge\" id=\"edge5\">\n<title>140037635246032-&gt;140035372192912</title>\n<path d=\"M164.7052,-166.3799C178.6176,-156.8367 194.8988,-145.6686 209.6073,-135.5793\" fill=\"none\" stroke=\"#000000\"/>\n<polygon fill=\"#000000\" points=\"211.7893,-138.3269 218.0558,-129.784 207.8296,-132.5544 211.7893,-138.3269\" stroke=\"#000000\"/>\n</g>\n<!-- 140036335614032&#45;&gt;140035372192912 -->\n<g class=\"edge\" id=\"edge6\">\n<title>140036335614032-&gt;140035372192912</title>\n<path d=\"M343.6234,-166.3799C328.8848,-156.7475 311.613,-145.4597 296.0625,-135.2967\" fill=\"none\" stroke=\"#000000\"/>\n<polygon fill=\"#000000\" points=\"297.913,-132.325 287.6273,-129.784 294.0834,-138.1846 297.913,-132.325\" stroke=\"#000000\"/>\n</g>\n<!-- 140035372195536 -->\n<g class=\"node\" id=\"node8\">\n<title>140035372195536</title>\n<polygon fill=\"none\" points=\"141,-.5 141,-46.5 363,-46.5 363,-.5 141,-.5\" stroke=\"#000000\"/>\n<text fill=\"#000000\" font-family=\"Times,serif\" font-size=\"14.00\" text-anchor=\"middle\" x=\"179.5\" y=\"-19.8\">Sequential</text>\n<polyline fill=\"none\" points=\"218,-.5 218,-46.5 \" stroke=\"#000000\"/>\n<text fill=\"#000000\" font-family=\"Times,serif\" font-size=\"14.00\" text-anchor=\"middle\" x=\"247\" y=\"-31.3\">input:</text>\n<polyline fill=\"none\" points=\"218,-23.5 276,-23.5 \" stroke=\"#000000\"/>\n<text fill=\"#000000\" font-family=\"Times,serif\" font-size=\"14.00\" text-anchor=\"middle\" x=\"247\" y=\"-8.3\">output:</text>\n<polyline fill=\"none\" points=\"276,-.5 276,-46.5 \" stroke=\"#000000\"/>\n<text fill=\"#000000\" font-family=\"Times,serif\" font-size=\"14.00\" text-anchor=\"middle\" x=\"319.5\" y=\"-31.3\">(None, 100)</text>\n<polyline fill=\"none\" points=\"276,-23.5 363,-23.5 \" stroke=\"#000000\"/>\n<text fill=\"#000000\" font-family=\"Times,serif\" font-size=\"14.00\" text-anchor=\"middle\" x=\"319.5\" y=\"-8.3\">(None, 1)</text>\n</g>\n<!-- 140035372192912&#45;&gt;140035372195536 -->\n<g class=\"edge\" id=\"edge7\">\n<title>140035372192912-&gt;140035372195536</title>\n<path d=\"M252,-83.3799C252,-75.1745 252,-65.7679 252,-56.8786\" fill=\"none\" stroke=\"#000000\"/>\n<polygon fill=\"#000000\" points=\"255.5001,-56.784 252,-46.784 248.5001,-56.784 255.5001,-56.784\" stroke=\"#000000\"/>\n</g>\n</g>\n</svg>"
          },
          "metadata": {
            "tags": []
          },
          "execution_count": 15
        }
      ]
    },
    {
      "cell_type": "code",
      "metadata": {
        "colab": {
          "base_uri": "https://localhost:8080/"
        },
        "id": "hPywp81h51vq",
        "outputId": "e25b42fb-2101-47cc-9435-a69a9115ad22"
      },
      "source": [
        "for epoch in range(1, 3):\n",
        "    loss = 0\n",
        "    for i, elem in enumerate(skip_grams):\n",
        "        pair_first_elem = np.array(list(zip(*elem[0]))[0], dtype='int32')\n",
        "        pair_second_elem = np.array(list(zip(*elem[0]))[1], dtype='int32')\n",
        "        labels = np.array(elem[1], dtype='int32')\n",
        "        X = [pair_first_elem, pair_second_elem]\n",
        "        Y = labels\n",
        "        if i % 10000 == 0:\n",
        "            print('Processed {} (skip_first, skip_second, relevance) pairs'.format(i))\n",
        "        loss += final_model.train_on_batch(X,Y)\n",
        "\n",
        "    print('Epoch:', epoch, 'Loss:', loss)"
      ],
      "execution_count": null,
      "outputs": [
        {
          "output_type": "stream",
          "text": [
            "Processed 0 (skip_first, skip_second, relevance) pairs\n",
            "Processed 10000 (skip_first, skip_second, relevance) pairs\n",
            "Processed 20000 (skip_first, skip_second, relevance) pairs\n",
            "Epoch: 1 Loss: 3125.0230060189497\n",
            "Processed 0 (skip_first, skip_second, relevance) pairs\n",
            "Processed 10000 (skip_first, skip_second, relevance) pairs\n",
            "Processed 20000 (skip_first, skip_second, relevance) pairs\n",
            "Epoch: 2 Loss: 3089.4768734027166\n"
          ],
          "name": "stdout"
        }
      ]
    },
    {
      "cell_type": "code",
      "metadata": {
        "id": "D1Rr92uNaUHx"
      },
      "source": [],
      "execution_count": null,
      "outputs": []
    },
    {
      "cell_type": "code",
      "metadata": {
        "id": "D8WawBoc9F-a",
        "colab": {
          "base_uri": "https://localhost:8080/"
        },
        "outputId": "9168d99a-6c67-439e-d7e0-60b4e9d3779d"
      },
      "source": [
        "from sklearn.metrics.pairwise import euclidean_distances\n",
        "word_embed_layer = word_model.layers[0]\n",
        "weights = word_embed_layer.get_weights()[0][1:]\n",
        "\n",
        "distance_matrix = euclidean_distances(weights)\n",
        "print(distance_matrix.shape)\n",
        "\n",
        "similar_words = {search_term: [id2word[idx] for idx in distance_matrix[word2id[search_term]-1].argsort()[1:6]+1]\n",
        "                   for search_term in ['god', 'jesus','egypt', 'john', 'famine']}\n",
        "\n",
        "similar_words"
      ],
      "execution_count": null,
      "outputs": [
        {
          "output_type": "stream",
          "text": [
            "(12424, 12424)\n"
          ],
          "name": "stdout"
        },
        {
          "output_type": "execute_result",
          "data": {
            "text/plain": [
              "{'egypt': ['congregation', 'stood', 'lad', 'officers', 'blood'],\n",
              " 'famine': ['bank', 'corrupted', 'pit', 'ill', 'burdens'],\n",
              " 'god': ['clothes', 'house', 'come', 'side', 'came'],\n",
              " 'jesus': ['baptism', 'otherwise', 'general', 'shortly', 'wanting'],\n",
              " 'john': ['zebedee', 'disciple', 'soldiers', 'council', 'repenteth']}"
            ]
          },
          "metadata": {
            "tags": []
          },
          "execution_count": 16
        }
      ]
    },
    {
      "cell_type": "code",
      "metadata": {
        "id": "Hh6ia6mC9TcB"
      },
      "source": [],
      "execution_count": null,
      "outputs": []
    }
  ]
}