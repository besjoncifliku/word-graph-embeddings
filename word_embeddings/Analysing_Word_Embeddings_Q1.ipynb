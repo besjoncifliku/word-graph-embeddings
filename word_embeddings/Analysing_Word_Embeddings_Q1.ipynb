{
  "cells": [
    {
      "cell_type": "markdown",
      "metadata": {
        "id": "6Ew0-IPuVy-5"
      },
      "source": [
        "# Analysing Word Embeddings"
      ]
    },
    {
      "cell_type": "markdown",
      "metadata": {
        "id": "nXMkNqf_Vy-7"
      },
      "source": [
        "Author of this notebook: Benedikt Peterseim"
      ]
    },
    {
      "cell_type": "markdown",
      "metadata": {
        "id": "EFMoGbmmVy-8"
      },
      "source": [
        "##### Some necessary imports:"
      ]
    },
    {
      "cell_type": "code",
      "execution_count": null,
      "metadata": {
        "id": "wXGudDh7Vy-8",
        "outputId": "9c165455-d6c8-4404-8d3e-705eaa8a0b80"
      },
      "outputs": [
        {
          "name": "stderr",
          "output_type": "stream",
          "text": [
            "[nltk_data] Downloading package wordnet to /Users/puester/nltk_data...\n",
            "[nltk_data]   Package wordnet is already up-to-date!\n",
            "[nltk_data] Downloading package wordnet_ic to\n",
            "[nltk_data]     /Users/puester/nltk_data...\n",
            "[nltk_data]   Package wordnet_ic is already up-to-date!\n"
          ]
        }
      ],
      "source": [
        "import gensim\n",
        "from gensim.models import Word2Vec\n",
        "import numpy as np\n",
        "import nltk\n",
        "from nltk.corpus import wordnet\n",
        "nltk.download('wordnet')\n",
        "nltk.download('wordnet_ic')\n",
        "import random\n",
        "import matplotlib.pyplot as plt\n",
        "from sklearn.decomposition import PCA\n",
        "from nltk.corpus import wordnet_ic\n",
        "from scipy.stats import spearmanr"
      ]
    },
    {
      "cell_type": "markdown",
      "metadata": {
        "id": "MZp25OKjVy--"
      },
      "source": [
        "##### Now we load two pre-trained Word Embedding models.\n",
        "\n",
        "At the present moment, the file\n",
        "\n",
        "GoogleNews-vectors-negative300.bin\n",
        "\n",
        "can be obtained from https://code.google.com/archive/p/word2vec/ (see section \"pre-trained word and phrase vectors\").\n",
        "\n",
        "Similarly,\n",
        "\n",
        "glove.6B.300d.txt\n",
        "\n",
        "can be obtained from https://nlp.stanford.edu/projects/glove/ ."
      ]
    },
    {
      "cell_type": "code",
      "execution_count": null,
      "metadata": {
        "id": "B490DeRQVy-_"
      },
      "outputs": [],
      "source": [
        "# Load the GoogleNews 300 Word2Vec model.\n",
        "word2vec_model = gensim.models.KeyedVectors.load_word2vec_format('GoogleNews-vectors-negative300.bin', binary=True)"
      ]
    },
    {
      "cell_type": "code",
      "execution_count": null,
      "metadata": {
        "id": "lvCzrKRCVy-_",
        "outputId": "6f23d6cb-cbc8-40f0-8ca6-a2da6f625165"
      },
      "outputs": [
        {
          "name": "stdout",
          "output_type": "stream",
          "text": [
            "400000  words loaded.\n"
          ]
        }
      ],
      "source": [
        "# Also load GloVe...\n",
        "\n",
        "glove_model = {}\n",
        "\n",
        "with open(\"glove.6B.300d.txt\", 'r', encoding=\"utf-8\") as f:\n",
        "\n",
        "    for line in f:\n",
        "\n",
        "        split_line = line.split()\n",
        "        word = split_line[0]\n",
        "        embedding = np.array(split_line[1:], dtype=np.float64)\n",
        "        glove_model[word] = embedding\n",
        "\n",
        "print(len(glove_model), \" words loaded.\")"
      ]
    },
    {
      "cell_type": "markdown",
      "metadata": {
        "id": "AZgAgj5iVy_A"
      },
      "source": [
        "##### Some utility for handling relations in WordNet"
      ]
    },
    {
      "cell_type": "code",
      "execution_count": null,
      "metadata": {
        "id": "UEiospFmVy_A",
        "outputId": "8de825d8-2f34-4092-c77a-18b970808667"
      },
      "outputs": [
        {
          "name": "stdout",
          "output_type": "stream",
          "text": [
            "0.6979831568441128 0.27450314199189585\n"
          ]
        }
      ],
      "source": [
        "def get_list_of_words(list_of_synsets):\n",
        "\n",
        "    set_of_words = set([])\n",
        "\n",
        "    for synset in list_of_synsets:\n",
        "\n",
        "        set_of_words.update(set(synset.lemma_names()))\n",
        "\n",
        "    return list(set_of_words)\n",
        "\n",
        "\n",
        "flatten_list = lambda l: [j for k in l for j in k] # We'll use this below.\n",
        "\n",
        "\n",
        "def get_hyponyms(synset):\n",
        "\n",
        "    hypos = set(synset.hyponyms())\n",
        "    hypos_difference = hypos\n",
        "\n",
        "    while hypos_difference != set():\n",
        "\n",
        "        hypos_old = set(hypos)\n",
        "        hypos = hypos.union(set(flatten_list([s.hyponyms() for s in hypos])))\n",
        "        hypos = set(hypos)\n",
        "        hypos_difference = hypos.difference(hypos_old)\n",
        "\n",
        "    return list(hypos)\n",
        "\n",
        "\n",
        "def get_hypernyms(synset):\n",
        "\n",
        "    hyprs = set(synset.hypernyms())\n",
        "    hyprs_difference = hyprs\n",
        "\n",
        "    while hyprs_difference != set():\n",
        "\n",
        "        hyprs_old = set(hyprs)\n",
        "        hyprs = hyprs.union(set(flatten_list([s.hypernyms() for s in hyprs])))\n",
        "        hyprs = set(hyprs)\n",
        "        hyprs_difference = hyprs.difference(hyprs_old)\n",
        "\n",
        "    return list(hyprs)\n",
        "\n",
        "\n",
        "\n",
        "def max_path_similarity(word1, word2):\n",
        "\n",
        "    path_similarities = [synset1.path_similarity(synset2) for synset1 in wordnet.synsets(word1) for synset2 in wordnet.synsets(word2)]\n",
        "    path_similarities += [synset2.path_similarity(synset1) for synset1 in wordnet.synsets(word1) for synset2 in wordnet.synsets(word2)]\n",
        "    path_similarities = [v for v in path_similarities if v != None]\n",
        "\n",
        "    return max(path_similarities)\n",
        "\n",
        "\n",
        "# Information content data, we need this to compute Lin similarity.\n",
        "semcor_ic = wordnet_ic.ic('ic-semcor.dat')\n",
        "\n",
        "\n",
        "def max_lin_similarity(word1, word2):\n",
        "    # Lin similarity, see references in report. Lin similarity is defined between synsets,\n",
        "    # to get a similarity score between words, we choose the maximum similarity between\n",
        "    # the synsets for a given word.\n",
        "\n",
        "    part_of_speech = 'n'  # we focus on nouns\n",
        "    lin_similarities = [synset1.lin_similarity(synset2, semcor_ic) for synset1 in wordnet.synsets(word1, pos=part_of_speech) for synset2 in wordnet.synsets(word2, pos=part_of_speech)]\n",
        "    lin_similarities += [synset2.lin_similarity(synset1, semcor_ic) for synset1 in wordnet.synsets(word1, pos=part_of_speech) for synset2 in wordnet.synsets(word2, pos=part_of_speech)]\n",
        "    lin_similarities = [v for v in lin_similarities if v != None]\n",
        "\n",
        "    if lin_similarities != []:\n",
        "\n",
        "        return max(lin_similarities)\n",
        "\n",
        "    else:\n",
        "\n",
        "        return 0\n",
        "\n",
        "\n",
        "def max_lch_similarity(word1, word2): # Leacock-Chodorow similarity, see references in report.\n",
        "\n",
        "    part_of_speech = 'n'  # we focus on nouns\n",
        "    lch_similarities = [synset1.lch_similarity(synset2) for synset1 in wordnet.synsets(word1, pos=part_of_speech) for synset2 in wordnet.synsets(word2, pos=part_of_speech)]\n",
        "    lch_similarities += [synset2.lch_similarity(synset1) for synset1 in wordnet.synsets(word1, pos=part_of_speech) for synset2 in wordnet.synsets(word2, pos=part_of_speech)]\n",
        "    lch_similarities = [v for v in lch_similarities if v != None]\n",
        "\n",
        "    if lch_similarities != []:\n",
        "\n",
        "        return max(lch_similarities)/3.6375861597263857  # normalize\n",
        "\n",
        "    else:\n",
        "\n",
        "        return 0\n",
        "\n",
        "print(max_lch_similarity('tiger', 'leopard'), max_lch_similarity('idea', 'leopard'))  # an example"
      ]
    },
    {
      "cell_type": "code",
      "execution_count": null,
      "metadata": {
        "id": "aeLtcQURVy_B"
      },
      "outputs": [],
      "source": [
        "class Subembedding:\n",
        "    \"\"\" Class for sub-Word Embeddings for a list of words from WordNet.\n",
        "\n",
        "    Attributes\n",
        "    ----------\n",
        "    embedding : dict\n",
        "        dictonary of the form {word : word_vector}\n",
        "    singular_values_\n",
        "        singular values (in case PCA is performed when creating Subemdding instance)\n",
        "    components_\n",
        "        principal components (in case PCA is performed when creating Subemdding instance)\n",
        "    n_components_\n",
        "        number of principal comp. (in case PCA is performed when creating Subemdding instance)\n",
        "\n",
        "    Methods\n",
        "    -------\n",
        "    words() : list\n",
        "        list of words contained in the embedding\n",
        "    vectors() : np.ndarray\n",
        "        matrix of embedding vectors\n",
        "    cos_sim(word_1, word_2)\n",
        "        cosine similarity between vectors representing word_1 and word_2, respectively.\n",
        "    eucl_dist(word_1, word_2)\n",
        "        euclidean distance between vectors representing word_1 and word_2, respectively.\n",
        "    most_similar(word_or_vector, dtype='word', similarity_measure='cosine_similarity', n_words=10)\n",
        "        n_words most similar words to word_or_vector (of given dtype 'word' or 'vector')\n",
        "        according to similarity_measure.\n",
        "    sample_similarity(relation='random', similarity_measure='cosine_similarity', n_samples=1000)\n",
        "        create a sample (of size n_samples) of the similarities (according to similarity_measure)\n",
        "        of random pairs of words related by relation.\n",
        "    correlate_similarity(n_samples=1000, threshold=.5)\n",
        "        estimates the Spearman rank correlation coeffiecient between the different similarity\n",
        "        measures, for a sample (of size n_samples) of random pairs of words which have\n",
        "        similarity of at least threshold for one of the similarity measures considered.\n",
        "    \"\"\"\n",
        "\n",
        "    def __init__(self, list_of_words, model=word2vec_model, apply_pca=True, estimate_dimension=False, n_comps='auto'):\n",
        "\n",
        "        self.embedding = {}\n",
        "\n",
        "        for word in list_of_words:\n",
        "\n",
        "            try: self.embedding[word] = model[word]\n",
        "            except KeyError: pass\n",
        "\n",
        "        words = list(self.embedding.keys())\n",
        "        vectors = np.array([self.embedding[word] for word in words])\n",
        "\n",
        "        if len(vectors) == 0:\n",
        "\n",
        "            vectors = np.array([[0]])\n",
        "\n",
        "        if apply_pca == True:\n",
        "\n",
        "            if estimate_dimension == True and len(words) >= len(vectors[0]):\n",
        "\n",
        "                pca = PCA(n_components='mle')\n",
        "\n",
        "            elif estimate_dimension == True and len(words) < len(vectors[0]):\n",
        "\n",
        "                raise ValueError\n",
        "\n",
        "            elif estimate_dimension == True and n_comps != 'auto':\n",
        "\n",
        "                pca = PCA(n_components=n_comps)\n",
        "\n",
        "            else:\n",
        "\n",
        "                pca = PCA()\n",
        "\n",
        "            pca.fit_transform(vectors)\n",
        "            self.singular_values_ = pca.singular_values_\n",
        "            self.components_ = pca.components_\n",
        "            self.n_components_ = pca.n_components_\n",
        "\n",
        "        self.embedding = {words[i]:vectors[i] for i in range(len(words))}\n",
        "\n",
        "\n",
        "    def words(self):\n",
        "\n",
        "        return list(self.embedding.keys())\n",
        "\n",
        "\n",
        "    def vectors(self):\n",
        "\n",
        "        return np.array([self.embedding[word] for word in self.words()])\n",
        "\n",
        "\n",
        "    def cos_sim(self, word_1, word_2):\n",
        "        # Cosine similarity of two words in the subembedding.\n",
        "\n",
        "        v_1, v_2 = self.embedding[word_1], self.embedding[word_2]\n",
        "\n",
        "        return np.dot(v_1, v_2)/(np.linalg.norm(v_1) * np.linalg.norm(v_2))\n",
        "\n",
        "\n",
        "    def eucl_dist(self, word_1, word_2):\n",
        "        # Euclidean distance of two words in the subembedding.\n",
        "\n",
        "        return np.linalg.norm(self.embedding[word_1] - self.embedding[word_2])\n",
        "\n",
        "\n",
        "    def most_similar(self, word_or_vector, dtype='word', similarity_measure='cosine_similarity', n_words=10):\n",
        "        # Compute the n_words most similar words in the Sumbembedding to word_or_vector.\n",
        "\n",
        "        if dtype == 'word':\n",
        "\n",
        "            word = word_or_vector\n",
        "\n",
        "            if similarity_measure == 'euclidean':\n",
        "\n",
        "                sim_array = np.array([self.eucl_dist(word, other_word) for other_word in self.words()])\n",
        "\n",
        "            elif similarity_measure == 'cosine_similarity':\n",
        "\n",
        "                sim_array = np.array([self.cos_sim(word, other_word) for other_word in self.words()])\n",
        "\n",
        "            indices = np.argpartition(sim_array, n_words+1)[1:n_words+1]\n",
        "\n",
        "        elif dtype == 'vector':\n",
        "\n",
        "            v = word_or_vector\n",
        "\n",
        "            if similarity_measure == 'euclidean':\n",
        "\n",
        "                sim_array = np.array([np.linalg.norm(v - self.embedding[word]) for word in self.words()])\n",
        "\n",
        "            elif similarity_measure == 'cosine_similarity':\n",
        "\n",
        "                sim_array = []\n",
        "\n",
        "                for word in self.words():\n",
        "\n",
        "                    w = self.embedding[word]\n",
        "                    sim = np.dot(v, w)/(np.linalg.norm(v) * np.linalg.norm(w))\n",
        "                    sim_array.insert(0, sim)\n",
        "\n",
        "                sim_array = np.array(sim_array)\n",
        "\n",
        "            indices = np.argpartition(sim_array, n_words)[:n_words]\n",
        "\n",
        "        return [self.words()[i] for i in indices]\n",
        "\n",
        "\n",
        "    def sample_similarity(self, relation='random', similarity_measure='cosine_similarity', n_samples=1000):\n",
        "        \"\"\" Creates a sample of the similarity between two random words related by some WordNet relation.\n",
        "\n",
        "        Parameters\n",
        "        ----------\n",
        "        relation : str\n",
        "            can be any of the following (delault is 'random')\n",
        "            - 'random': no relation -- similarity between random pairs of words\n",
        "            - 'synonymity': similarity between random _non-identical_ synonyms\n",
        "            - 'direct-hypernymy': similarity between random _direct_ hypernyms (parent nodes)\n",
        "            - 'direct-hyponymy': similarity between random _direct_ hyponyms (child nodes)\n",
        "            - 'hypernymy': similarity between random word and random choice from _all_ hyponyms (parent nodes)\n",
        "            - 'hyponymy': similarity between random word and random choice from _all_ hypernyms (child nodes)\n",
        "\n",
        "        similarity_measure : str\n",
        "            one of the following\n",
        "            - 'cosine_similarity': the cosine similarity (normalized dot product) between two representations of words\n",
        "            - 'euclidean_distance': euclidean distance between two representations of words\n",
        "        n_samples : int\n",
        "            number of samples\n",
        "        \"\"\"\n",
        "\n",
        "        sample_list = []\n",
        "        words = self.words()\n",
        "        i = 0\n",
        "\n",
        "        if relation == 'random':\n",
        "\n",
        "            if similarity_measure == 'cosine_similarity':\n",
        "\n",
        "                while i < n_samples:\n",
        "\n",
        "                    sample_list.append(self.cos_sim(random.choice(words), random.choice(words)))\n",
        "                    i += 1\n",
        "\n",
        "            elif similarity_measure == 'euclidean':\n",
        "\n",
        "                while i < n_samples:\n",
        "\n",
        "                    sample_list.append(self.eucl_dist(random.choice(words), random.choice(words)))\n",
        "                    i += 1\n",
        "\n",
        "            elif similarity_measure == 'path_similarity':\n",
        "\n",
        "                while i < n_samples:\n",
        "\n",
        "                    sample_list.append(max_path_similarity(random.choice(words), random.choice(words)))\n",
        "                    i += 1\n",
        "\n",
        "            elif similarity_measure == 'lin_similarity':\n",
        "\n",
        "                while i < n_samples:\n",
        "\n",
        "                    sample_list.append(max_lin_similarity(random.choice(words), random.choice(words)))\n",
        "                    i += 1\n",
        "\n",
        "            elif similarity_measure == 'lch_similarity':\n",
        "\n",
        "                while i < n_samples:\n",
        "\n",
        "                    sample_list.append(max_lch_similarity(random.choice(words), random.choice(words)))\n",
        "                    i += 1\n",
        "\n",
        "        elif relation == 'synonymity':\n",
        "\n",
        "            while i < n_samples:\n",
        "\n",
        "                try:\n",
        "\n",
        "                    random_word = random.choice(words)\n",
        "                    random_synonym = random.choice(wordnet.synsets(random_word)[0].lemma_names())\n",
        "\n",
        "                    while random_synonym == random_word:  # We want to choose a non-identical synonym.\n",
        "\n",
        "                        random_word = random.choice(words)\n",
        "                        random_synonym = random.choice(wordnet.synsets(random_word)[0].lemma_names())\n",
        "\n",
        "                    if similarity_measure == 'cosine_similarity':\n",
        "\n",
        "                        sample_list.append(self.cos_sim(random_word, random_synonym))\n",
        "\n",
        "                    elif similarity_measure == 'euclidean':\n",
        "\n",
        "                        sample_list.append(self.eucl_dist(random_word, random_synonym))\n",
        "\n",
        "                    elif similarity_measure == 'path_similarity':\n",
        "\n",
        "                        sample_list.append(max_path_similarity(random_word, random_synonym))\n",
        "\n",
        "                    elif similarity_measure == 'lin_similarity':\n",
        "\n",
        "                        sample_list.append(max_lin_similarity(random_word, random_synonym))\n",
        "\n",
        "                    elif similarity_measure == 'lch_similarity':\n",
        "\n",
        "                        sample_list.append(max_lch_similarity(random_word, random_synonym))\n",
        "\n",
        "                    i += 1\n",
        "\n",
        "                except KeyError: pass\n",
        "\n",
        "        elif relation == 'direct-hypernymy':\n",
        "\n",
        "            while i < n_samples:\n",
        "\n",
        "                try:\n",
        "\n",
        "                    random_word = random.choice(words)\n",
        "                    hypernyms = wordnet.synsets(random_word)[0].hypernyms()\n",
        "\n",
        "                    while len(hypernyms) == 0:\n",
        "\n",
        "                        random_word = random.choice(words)\n",
        "                        hypernyms = wordnet.synsets(random_word)[0].hypernyms()\n",
        "\n",
        "                    random_hypernym = random.choice(random.choice(hypernyms).lemma_names())\n",
        "\n",
        "                    if similarity_measure == 'cosine_similarity':\n",
        "\n",
        "                        sample_list.append(self.cos_sim(random_word, random_hypernym))\n",
        "\n",
        "                    elif similarity_measure == 'euclidean':\n",
        "\n",
        "                        sample_list.append(self.eucl_dist(random_word, random_hypernym))\n",
        "\n",
        "                    elif similarity_measure == 'path_similarity':\n",
        "\n",
        "                        sample_list.append(max_path_similarity(random_word, random_hypernym))\n",
        "\n",
        "                    elif similarity_measure == 'lin_similarity':\n",
        "\n",
        "                        sample_list.append(max_lin_similarity(random_word, random_hypernym))\n",
        "\n",
        "                    elif similarity_measure == 'lch_similarity':\n",
        "\n",
        "                        sample_list.append(max_lch_similarity(random_word, random_hypernym))\n",
        "\n",
        "                    i += 1\n",
        "\n",
        "                except KeyError: pass\n",
        "\n",
        "        elif relation == 'direct-hyponymy':\n",
        "\n",
        "            while i < n_samples:\n",
        "\n",
        "                try:\n",
        "\n",
        "                    random_word = random.choice(words)\n",
        "                    hyponyms = wordnet.synsets(random_word)[0].hyponyms()\n",
        "\n",
        "                    while len(hyponyms) == 0:\n",
        "\n",
        "                        random_word = random.choice(words)\n",
        "                        hyponyms = wordnet.synsets(random_word)[0].hyponyms()\n",
        "\n",
        "                    random_hyponym = random.choice(random.choice(hyponyms).lemma_names())\n",
        "\n",
        "                    if similarity_measure == 'cosine_similarity':\n",
        "\n",
        "                        sample_list.append(self.cos_sim(random_word, random_hyponym))\n",
        "\n",
        "                    elif similarity_measure == 'euclidean':\n",
        "\n",
        "                        sample_list.append(self.eucl_dist(random_word, random_hyponym))\n",
        "\n",
        "                    elif similarity_measure == 'path_similarity':\n",
        "\n",
        "                        sample_list.append(max_path_similarity(random_word, random_hyponym))\n",
        "\n",
        "                    elif similarity_measure == 'lin_similarity':\n",
        "\n",
        "                        sample_list.append(max_lin_similarity(random_word, random_hyponym))\n",
        "\n",
        "                    elif similarity_measure == 'lch_similarity':\n",
        "\n",
        "                        sample_list.append(max_lch_similarity(random_word, random_hyponym))\n",
        "\n",
        "                    i += 1\n",
        "\n",
        "                except KeyError: pass\n",
        "\n",
        "        elif relation == 'hypernymy':\n",
        "\n",
        "            while i < n_samples:\n",
        "\n",
        "                try:\n",
        "\n",
        "                    random_word = random.choice(words)\n",
        "                    hypernyms = get_hypernyms(random.choice(wordnet.synsets(random_word)))\n",
        "\n",
        "                    while len(hypernyms) == 0:\n",
        "\n",
        "                        random_word = random.choice(words)\n",
        "                        hypernyms = get_hypernyms(random.choice(wordnet.synsets(random_word)))\n",
        "\n",
        "                    random_hypernym = random.choice(random.choice(hypernyms).lemma_names())\n",
        "\n",
        "                    if similarity_measure == 'cosine_similarity':\n",
        "\n",
        "                        sample_list.append(self.cos_sim(random_word, random_hypernym))\n",
        "\n",
        "                    elif similarity_measure == 'euclidean':\n",
        "\n",
        "                        sample_list.append(self.eucl_dist(random_word, random_hypernym))\n",
        "\n",
        "                    elif similarity_measure == 'path_similarity':\n",
        "\n",
        "                        sample_list.append(max_path_similarity(random_word, random_hypernym))\n",
        "\n",
        "                    elif similarity_measure == 'lin_similarity':\n",
        "\n",
        "                        sample_list.append(max_lin_similarity(random_word, random_hypernym))\n",
        "\n",
        "                    elif similarity_measure == 'lch_similarity':\n",
        "\n",
        "                        sample_list.append(max_lch_similarity(random_word, random_hypernym))\n",
        "\n",
        "                    i += 1\n",
        "\n",
        "                except KeyError: pass\n",
        "\n",
        "        elif relation == 'hyponymy':\n",
        "\n",
        "            while i < n_samples:\n",
        "\n",
        "                try:\n",
        "\n",
        "                    random_word = random.choice(words)\n",
        "                    hyponyms = get_hyponyms(random.choice(wordnet.synsets(random_word)))\n",
        "\n",
        "                    while len(hyponyms) == 0:\n",
        "\n",
        "                        random_word = random.choice(words)\n",
        "                        hyponyms = get_hyponyms(random.choice(wordnet.synsets(random_word)))\n",
        "\n",
        "                    random_hyponym = random.choice(random.choice(hyponyms).lemma_names())\n",
        "\n",
        "                    if similarity_measure == 'cosine_similarity':\n",
        "\n",
        "                        sample_list.append(self.cos_sim(random_word, random_hyponym))\n",
        "\n",
        "                    elif similarity_measure == 'euclidean':\n",
        "\n",
        "                        sample_list.append(self.eucl_dist(random_word, random_hyponym))\n",
        "\n",
        "                    elif similarity_measure == 'path_similarity':\n",
        "\n",
        "                        sample_list.append(max_path_similarity(random_word, random_hyponym))\n",
        "\n",
        "                    elif similarity_measure == 'lin_similarity':\n",
        "\n",
        "                        sample_list.append(max_lin_similarity(random_word, random_hyponym))\n",
        "\n",
        "                    elif similarity_measure == 'lch_similarity':\n",
        "\n",
        "                        sample_list.append(max_lch_similarity(random_word, random_hyponym))\n",
        "\n",
        "                    i += 1\n",
        "\n",
        "                except KeyError: pass\n",
        "\n",
        "        return np.array(sample_list)\n",
        "\n",
        "\n",
        "    def correlate_similarity(self, n_samples=1000, threshold=.5):\n",
        "\n",
        "        sample_lists = {'cosine_similarity' : [],\n",
        "                        'euclidean' : [],\n",
        "                        'lin_similarity' : [],\n",
        "                        'lch_similarity': []}\n",
        "        words = self.words()\n",
        "        i = 0\n",
        "\n",
        "        while i < n_samples:\n",
        "\n",
        "            cosim = self.cos_sim(random.choice(words), random.choice(words))\n",
        "            euclidean = self.eucl_dist(random.choice(words), random.choice(words))\n",
        "            linsim = max_lin_similarity(random.choice(words), random.choice(words))\n",
        "            lchsim = max_lch_similarity(random.choice(words), random.choice(words))\n",
        "\n",
        "            if cosim > threshold or linsim > threshold or lchsim > threshold:\n",
        "\n",
        "                sample_lists['cosine_similarity'].append(cosim)\n",
        "                sample_lists['euclidean'].append(euclidean)\n",
        "                sample_lists['lin_similarity'].append(linsim)\n",
        "                sample_lists['lch_similarity'].append(lchsim)\n",
        "\n",
        "                i += 1\n",
        "\n",
        "        for key in sample_lists.keys():\n",
        "\n",
        "            sample_lists[key] = np.array(sample_lists[key])\n",
        "\n",
        "        correlations = {}\n",
        "\n",
        "        for key1, value1 in sample_lists.items():\n",
        "\n",
        "            for key2, value2 in sample_lists.items():\n",
        "\n",
        "                correlations[(key1, key2)] = spearmanr(value1, value2, nan_policy='raise')\n",
        "\n",
        "        return correlations\n"
      ]
    },
    {
      "cell_type": "markdown",
      "metadata": {
        "id": "OL6QuTspVy_C"
      },
      "source": [
        "#### Create subembeddings for nouns and adjectives:"
      ]
    },
    {
      "cell_type": "code",
      "execution_count": null,
      "metadata": {
        "id": "03hZyVRjVy_C"
      },
      "outputs": [],
      "source": [
        "# Get a list of all nouns/adjectives/verbs appearing in WordNet.\n",
        "all_nouns = get_list_of_words(list(wordnet.all_synsets('n')))\n",
        "all_adjectives = get_list_of_words(list(wordnet.all_synsets('a')))\n",
        "\n",
        "# Create corresponding subembeddings\n",
        "noun2vec = Subembedding(all_nouns)\n",
        "adjective2vec = Subembedding(all_adjectives)\n",
        "\n",
        "noun_glove = Subembedding(all_nouns, model=glove_model)\n",
        "adjective_glove = Subembedding(all_adjectives, model=glove_model)"
      ]
    },
    {
      "cell_type": "markdown",
      "metadata": {
        "id": "j8yvrxC6Vy_C"
      },
      "source": [
        "## --- Word similarity histograms ---"
      ]
    },
    {
      "cell_type": "markdown",
      "metadata": {
        "id": "NLFjsCSmVy_C"
      },
      "source": [
        "### Word2Vec, cosine similarity"
      ]
    },
    {
      "cell_type": "code",
      "execution_count": null,
      "metadata": {
        "id": "7AVh8YcXVy_C",
        "outputId": "9346d48c-2c06-48f1-d00a-4d36922ccc58"
      },
      "outputs": [
        {
          "name": "stdout",
          "output_type": "stream",
          "text": [
            "random\n",
            "average:  0.09002526192984078\n"
          ]
        },
        {
          "data": {
            "image/png": "[encoded data removed]",
            "text/plain": [
              "<Figure size 360x360 with 1 Axes>"
            ]
          },
          "metadata": {
            "needs_background": "light"
          },
          "output_type": "display_data"
        },
        {
          "name": "stdout",
          "output_type": "stream",
          "text": [
            "synonymity\n",
            "average:  0.41011743545997886\n"
          ]
        },
        {
          "data": {
            "image/png": "[encoded data removed]",
            "text/plain": [
              "<Figure size 360x360 with 1 Axes>"
            ]
          },
          "metadata": {
            "needs_background": "light"
          },
          "output_type": "display_data"
        },
        {
          "name": "stdout",
          "output_type": "stream",
          "text": [
            "hypernymy\n",
            "average:  0.16010629918565975\n"
          ]
        },
        {
          "data": {
            "image/png": "[encoded data removed]",
            "text/plain": [
              "<Figure size 360x360 with 1 Axes>"
            ]
          },
          "metadata": {
            "needs_background": "light"
          },
          "output_type": "display_data"
        },
        {
          "name": "stdout",
          "output_type": "stream",
          "text": [
            "hyponymy\n",
            "average:  0.326046823575045\n"
          ]
        },
        {
          "data": {
            "image/png": "[encoded data removed]",
            "text/plain": [
              "<Figure size 360x360 with 1 Axes>"
            ]
          },
          "metadata": {
            "needs_background": "light"
          },
          "output_type": "display_data"
        },
        {
          "name": "stdout",
          "output_type": "stream",
          "text": [
            "direct-hypernymy\n",
            "average:  0.3319179073526757\n"
          ]
        },
        {
          "data": {
            "image/png": "[encoded data removed]",
            "text/plain": [
              "<Figure size 360x360 with 1 Axes>"
            ]
          },
          "metadata": {
            "needs_background": "light"
          },
          "output_type": "display_data"
        },
        {
          "name": "stdout",
          "output_type": "stream",
          "text": [
            "direct-hyponymy\n",
            "average:  0.32929708919266704\n"
          ]
        },
        {
          "data": {
            "image/png": "[encoded data removed]",
            "text/plain": [
              "<Figure size 360x360 with 1 Axes>"
            ]
          },
          "metadata": {
            "needs_background": "light"
          },
          "output_type": "display_data"
        }
      ],
      "source": [
        "relations = ['random', 'synonymity', 'hypernymy', 'hyponymy', 'direct-hypernymy', 'direct-hyponymy']\n",
        "plot_size = (5, 5)\n",
        "\n",
        "model = noun2vec\n",
        "similarity_measure = 'cosine_similarity'\n",
        "\n",
        "for rel in relations:\n",
        "\n",
        "    sample = model.sample_similarity(relation=rel, similarity_measure=similarity_measure, n_samples=1000)\n",
        "    plt.figure(figsize=plot_size)\n",
        "    plt.xlim(-1, 1)\n",
        "    print(rel)\n",
        "    print('average: ', sum(sample)/len(sample))\n",
        "    plt.hist(sample, bins='auto', facecolor='dimgray')\n",
        "    plt.show()\n"
      ]
    },
    {
      "cell_type": "markdown",
      "metadata": {
        "id": "zwMBeC-WVy_D"
      },
      "source": [
        "### Word2Vec, euclidean distance"
      ]
    },
    {
      "cell_type": "code",
      "execution_count": null,
      "metadata": {
        "id": "UMC6IWB9Vy_D",
        "outputId": "91651716-87e6-415f-b1e6-b38450ed1d8b"
      },
      "outputs": [
        {
          "name": "stdout",
          "output_type": "stream",
          "text": [
            "random\n",
            "average:  4.3601216096878055\n"
          ]
        },
        {
          "data": {
            "image/png": "[encoded data removed]",
            "text/plain": [
              "<Figure size 360x360 with 1 Axes>"
            ]
          },
          "metadata": {
            "needs_background": "light"
          },
          "output_type": "display_data"
        },
        {
          "name": "stdout",
          "output_type": "stream",
          "text": [
            "synonymity\n",
            "average:  3.3978499634861947\n"
          ]
        },
        {
          "data": {
            "image/png": "[encoded data removed]",
            "text/plain": [
              "<Figure size 360x360 with 1 Axes>"
            ]
          },
          "metadata": {
            "needs_background": "light"
          },
          "output_type": "display_data"
        },
        {
          "name": "stdout",
          "output_type": "stream",
          "text": [
            "hypernymy\n",
            "average:  3.95197693002224\n"
          ]
        },
        {
          "data": {
            "image/png": "[encoded data removed]",
            "text/plain": [
              "<Figure size 360x360 with 1 Axes>"
            ]
          },
          "metadata": {
            "needs_background": "light"
          },
          "output_type": "display_data"
        },
        {
          "name": "stdout",
          "output_type": "stream",
          "text": [
            "hyponymy\n",
            "average:  3.790228697359562\n"
          ]
        },
        {
          "data": {
            "image/png": "[encoded data removed]",
            "text/plain": [
              "<Figure size 360x360 with 1 Axes>"
            ]
          },
          "metadata": {
            "needs_background": "light"
          },
          "output_type": "display_data"
        },
        {
          "name": "stdout",
          "output_type": "stream",
          "text": [
            "direct-hypernymy\n",
            "average:  3.720200508594513\n"
          ]
        },
        {
          "data": {
            "image/png": "[encoded data removed]",
            "text/plain": [
              "<Figure size 360x360 with 1 Axes>"
            ]
          },
          "metadata": {
            "needs_background": "light"
          },
          "output_type": "display_data"
        },
        {
          "name": "stdout",
          "output_type": "stream",
          "text": [
            "direct-hyponymy\n",
            "average:  3.7441123365163804\n"
          ]
        },
        {
          "data": {
            "image/png": "[encoded data removed]",
            "text/plain": [
              "<Figure size 360x360 with 1 Axes>"
            ]
          },
          "metadata": {
            "needs_background": "light"
          },
          "output_type": "display_data"
        }
      ],
      "source": [
        "model = noun2vec\n",
        "similarity_measure = 'euclidean'\n",
        "\n",
        "for rel in relations:\n",
        "\n",
        "    sample = model.sample_similarity(relation=rel, similarity_measure=similarity_measure, n_samples=1000)\n",
        "    plt.figure(figsize=plot_size)\n",
        "    plt.xlim(0, 8)\n",
        "    print(rel)\n",
        "    print('average: ', sum(sample)/len(sample))\n",
        "    plt.hist(sample, bins='auto', facecolor='dimgray')\n",
        "    plt.show()\n"
      ]
    },
    {
      "cell_type": "markdown",
      "metadata": {
        "id": "fL0QBwXfVy_D"
      },
      "source": [
        "### GloVe, cosine similarity"
      ]
    },
    {
      "cell_type": "code",
      "execution_count": null,
      "metadata": {
        "id": "fYan70mqVy_D",
        "outputId": "2ddae4bf-924b-4721-af8b-0ec73de49684"
      },
      "outputs": [
        {
          "name": "stdout",
          "output_type": "stream",
          "text": [
            "random\n",
            "average:  0.04202953089819758\n"
          ]
        },
        {
          "data": {
            "image/png": "[encoded data removed]",
            "text/plain": [
              "<Figure size 360x360 with 1 Axes>"
            ]
          },
          "metadata": {
            "needs_background": "light"
          },
          "output_type": "display_data"
        },
        {
          "name": "stdout",
          "output_type": "stream",
          "text": [
            "synonymity\n",
            "average:  0.2765477565513295\n"
          ]
        },
        {
          "data": {
            "image/png": "[encoded data removed]",
            "text/plain": [
              "<Figure size 360x360 with 1 Axes>"
            ]
          },
          "metadata": {
            "needs_background": "light"
          },
          "output_type": "display_data"
        },
        {
          "name": "stdout",
          "output_type": "stream",
          "text": [
            "hypernymy\n",
            "average:  0.03466921888792273\n"
          ]
        },
        {
          "data": {
            "image/png": "[encoded data removed]",
            "text/plain": [
              "<Figure size 360x360 with 1 Axes>"
            ]
          },
          "metadata": {
            "needs_background": "light"
          },
          "output_type": "display_data"
        },
        {
          "name": "stdout",
          "output_type": "stream",
          "text": [
            "hyponymy\n",
            "average:  0.19553927425371267\n"
          ]
        },
        {
          "data": {
            "image/png": "[encoded data removed]",
            "text/plain": [
              "<Figure size 360x360 with 1 Axes>"
            ]
          },
          "metadata": {
            "needs_background": "light"
          },
          "output_type": "display_data"
        },
        {
          "name": "stdout",
          "output_type": "stream",
          "text": [
            "direct-hypernymy\n",
            "average:  0.19264189509221466\n"
          ]
        },
        {
          "data": {
            "image/png": "[encoded data removed]",
            "text/plain": [
              "<Figure size 360x360 with 1 Axes>"
            ]
          },
          "metadata": {
            "needs_background": "light"
          },
          "output_type": "display_data"
        },
        {
          "name": "stdout",
          "output_type": "stream",
          "text": [
            "direct-hyponymy\n",
            "average:  0.20591517537565573\n"
          ]
        },
        {
          "data": {
            "image/png": "[encoded data removed]",
            "text/plain": [
              "<Figure size 360x360 with 1 Axes>"
            ]
          },
          "metadata": {
            "needs_background": "light"
          },
          "output_type": "display_data"
        }
      ],
      "source": [
        "model = noun_glove\n",
        "similarity_measure = 'cosine_similarity'\n",
        "\n",
        "for rel in relations:\n",
        "\n",
        "    sample = model.sample_similarity(relation=rel, similarity_measure=similarity_measure, n_samples=1000)\n",
        "    plt.figure(figsize=plot_size)\n",
        "    plt.xlim(-1, 1)\n",
        "    print(rel)\n",
        "    print('average: ', sum(sample)/len(sample))\n",
        "    plt.hist(sample, bins='auto', facecolor='dimgray')\n",
        "    plt.show()\n"
      ]
    },
    {
      "cell_type": "markdown",
      "metadata": {
        "id": "px5o_xWBVy_E"
      },
      "source": [
        "### GloVe, euclidean distance"
      ]
    },
    {
      "cell_type": "code",
      "execution_count": null,
      "metadata": {
        "id": "zDJu-fEIVy_E",
        "outputId": "e730cad7-85d7-4135-c1a5-d5fa94a43cbe"
      },
      "outputs": [
        {
          "name": "stdout",
          "output_type": "stream",
          "text": [
            "random\n",
            "average:  9.079367521365889\n"
          ]
        },
        {
          "data": {
            "image/png": "[encoded data removed]",
            "text/plain": [
              "<Figure size 360x360 with 1 Axes>"
            ]
          },
          "metadata": {
            "needs_background": "light"
          },
          "output_type": "display_data"
        },
        {
          "name": "stdout",
          "output_type": "stream",
          "text": [
            "synonymity\n",
            "average:  7.645800058018993\n"
          ]
        },
        {
          "data": {
            "image/png": "[encoded data removed]",
            "text/plain": [
              "<Figure size 360x360 with 1 Axes>"
            ]
          },
          "metadata": {
            "needs_background": "light"
          },
          "output_type": "display_data"
        },
        {
          "name": "stdout",
          "output_type": "stream",
          "text": [
            "hypernymy\n",
            "average:  8.817931778831152\n"
          ]
        },
        {
          "data": {
            "image/png": "[encoded data removed]",
            "text/plain": [
              "<Figure size 360x360 with 1 Axes>"
            ]
          },
          "metadata": {
            "needs_background": "light"
          },
          "output_type": "display_data"
        },
        {
          "name": "stdout",
          "output_type": "stream",
          "text": [
            "hyponymy\n",
            "average:  8.15123166430834\n"
          ]
        },
        {
          "data": {
            "image/png": "[encoded data removed]",
            "text/plain": [
              "<Figure size 360x360 with 1 Axes>"
            ]
          },
          "metadata": {
            "needs_background": "light"
          },
          "output_type": "display_data"
        },
        {
          "name": "stdout",
          "output_type": "stream",
          "text": [
            "direct-hypernymy\n",
            "average:  8.249720358130139\n"
          ]
        },
        {
          "data": {
            "image/png": "[encoded data removed]",
            "text/plain": [
              "<Figure size 360x360 with 1 Axes>"
            ]
          },
          "metadata": {
            "needs_background": "light"
          },
          "output_type": "display_data"
        },
        {
          "name": "stdout",
          "output_type": "stream",
          "text": [
            "direct-hyponymy\n",
            "average:  8.128778679697666\n"
          ]
        },
        {
          "data": {
            "image/png": "[encoded data removed]",
            "text/plain": [
              "<Figure size 360x360 with 1 Axes>"
            ]
          },
          "metadata": {
            "needs_background": "light"
          },
          "output_type": "display_data"
        }
      ],
      "source": [
        "model = noun_glove\n",
        "similarity_measure = 'euclidean'\n",
        "\n",
        "for rel in relations:\n",
        "\n",
        "    sample = model.sample_similarity(relation=rel, similarity_measure=similarity_measure, n_samples=1000)\n",
        "    plt.figure(figsize=plot_size)\n",
        "    plt.xlim(0, 16)\n",
        "    print(rel)\n",
        "    print('average: ', sum(sample)/len(sample))\n",
        "    plt.hist(sample, bins='auto', facecolor='dimgray')\n",
        "    plt.show()\n",
        "\n",
        "\n"
      ]
    },
    {
      "cell_type": "markdown",
      "metadata": {
        "id": "FsQB8YMgVy_E"
      },
      "source": [
        "### Lin similarity"
      ]
    },
    {
      "cell_type": "code",
      "execution_count": null,
      "metadata": {
        "id": "EHt2Tb9eVy_E",
        "outputId": "616705f7-41e0-4600-c98b-f145d86c58e3"
      },
      "outputs": [
        {
          "name": "stdout",
          "output_type": "stream",
          "text": [
            "random\n",
            "average:  0.021162750558289607\n"
          ]
        },
        {
          "data": {
            "image/png": "[encoded data removed]",
            "text/plain": [
              "<Figure size 360x360 with 1 Axes>"
            ]
          },
          "metadata": {
            "needs_background": "light"
          },
          "output_type": "display_data"
        },
        {
          "name": "stdout",
          "output_type": "stream",
          "text": [
            "synonymity\n",
            "average:  1.0\n"
          ]
        },
        {
          "data": {
            "image/png": "[encoded data removed]",
            "text/plain": [
              "<Figure size 360x360 with 1 Axes>"
            ]
          },
          "metadata": {
            "needs_background": "light"
          },
          "output_type": "display_data"
        },
        {
          "name": "stdout",
          "output_type": "stream",
          "text": [
            "hypernymy\n",
            "average:  0.1891758053440921\n"
          ]
        },
        {
          "data": {
            "image/png": "[encoded data removed]",
            "text/plain": [
              "<Figure size 360x360 with 1 Axes>"
            ]
          },
          "metadata": {
            "needs_background": "light"
          },
          "output_type": "display_data"
        },
        {
          "name": "stdout",
          "output_type": "stream",
          "text": [
            "hyponymy\n",
            "average:  0.48721912812077856\n"
          ]
        },
        {
          "data": {
            "image/png": "[encoded data removed]",
            "text/plain": [
              "<Figure size 360x360 with 1 Axes>"
            ]
          },
          "metadata": {
            "needs_background": "light"
          },
          "output_type": "display_data"
        },
        {
          "name": "stdout",
          "output_type": "stream",
          "text": [
            "direct-hypernymy\n",
            "average:  0.5200269656940794\n"
          ]
        },
        {
          "data": {
            "image/png": "[encoded data removed]",
            "text/plain": [
              "<Figure size 360x360 with 1 Axes>"
            ]
          },
          "metadata": {
            "needs_background": "light"
          },
          "output_type": "display_data"
        },
        {
          "name": "stdout",
          "output_type": "stream",
          "text": [
            "direct-hyponymy\n",
            "average:  0.5245966860802492\n"
          ]
        },
        {
          "data": {
            "image/png": "[encoded data removed]",
            "text/plain": [
              "<Figure size 360x360 with 1 Axes>"
            ]
          },
          "metadata": {
            "needs_background": "light"
          },
          "output_type": "display_data"
        }
      ],
      "source": [
        "model = noun_glove  # The choice of model is arbitrary here, since the Lin similarity does not depend on it.\n",
        "similarity_measure = 'lin_similarity'\n",
        "\n",
        "for rel in relations:\n",
        "\n",
        "    sample = model.sample_similarity(relation=rel, similarity_measure=similarity_measure, n_samples=10000)\n",
        "    print(rel)\n",
        "    print('average: ', sum(sample)/len(sample))\n",
        "    plt.figure(figsize=plot_size)\n",
        "    plt.xlim(0, 1)\n",
        "    plt.hist(sample, bins=np.arange(0, 1.1, .1), facecolor='dimgray')\n",
        "    plt.show()\n"
      ]
    },
    {
      "cell_type": "markdown",
      "metadata": {
        "id": "WXQA4uYJVy_E"
      },
      "source": [
        "### Leacock-Chodorow Similarity"
      ]
    },
    {
      "cell_type": "code",
      "execution_count": null,
      "metadata": {
        "id": "_-bVyV5IVy_F",
        "outputId": "be24577a-32a8-4fa2-f27b-690ac07ff35f"
      },
      "outputs": [
        {
          "name": "stdout",
          "output_type": "stream",
          "text": [
            "random\n",
            "average:  0.3070812619127845\n"
          ]
        },
        {
          "data": {
            "image/png": "[encoded data removed]",
            "text/plain": [
              "<Figure size 360x360 with 1 Axes>"
            ]
          },
          "metadata": {
            "needs_background": "light"
          },
          "output_type": "display_data"
        },
        {
          "name": "stdout",
          "output_type": "stream",
          "text": [
            "synonymity\n",
            "average:  1.0\n"
          ]
        },
        {
          "data": {
            "image/png": "[encoded data removed]",
            "text/plain": [
              "<Figure size 360x360 with 1 Axes>"
            ]
          },
          "metadata": {
            "needs_background": "light"
          },
          "output_type": "display_data"
        },
        {
          "name": "stdout",
          "output_type": "stream",
          "text": [
            "hypernymy\n",
            "average:  0.538184618714345\n"
          ]
        },
        {
          "data": {
            "image/png": "[encoded data removed]",
            "text/plain": [
              "<Figure size 360x360 with 1 Axes>"
            ]
          },
          "metadata": {
            "needs_background": "light"
          },
          "output_type": "display_data"
        },
        {
          "name": "stdout",
          "output_type": "stream",
          "text": [
            "hyponymy\n",
            "average:  0.7272295951065739\n"
          ]
        },
        {
          "data": {
            "image/png": "[encoded data removed]",
            "text/plain": [
              "<Figure size 360x360 with 1 Axes>"
            ]
          },
          "metadata": {
            "needs_background": "light"
          },
          "output_type": "display_data"
        },
        {
          "name": "stdout",
          "output_type": "stream",
          "text": [
            "direct-hypernymy\n",
            "average:  0.8106554131851996\n"
          ]
        },
        {
          "data": {
            "image/png": "[encoded data removed]",
            "text/plain": [
              "<Figure size 360x360 with 1 Axes>"
            ]
          },
          "metadata": {
            "needs_background": "light"
          },
          "output_type": "display_data"
        },
        {
          "name": "stdout",
          "output_type": "stream",
          "text": [
            "direct-hyponymy\n",
            "average:  0.8104013446352971\n"
          ]
        },
        {
          "data": {
            "image/png": "[encoded data removed]",
            "text/plain": [
              "<Figure size 360x360 with 1 Axes>"
            ]
          },
          "metadata": {
            "needs_background": "light"
          },
          "output_type": "display_data"
        }
      ],
      "source": [
        "model = noun_glove  # The choice of model is arbitrary here, since L.-Ch. similarity does not depend on it.\n",
        "similarity_measure = 'lch_similarity'\n",
        "\n",
        "for rel in relations:\n",
        "\n",
        "    sample = model.sample_similarity(relation=rel, similarity_measure=similarity_measure, n_samples=3000)\n",
        "    print(rel)\n",
        "    print('average: ', sum(sample)/len(sample))\n",
        "    plt.figure(figsize=plot_size)\n",
        "    plt.xlim(0, 1)\n",
        "    plt.hist(sample, bins=np.arange(0, 1.05, 0.05), facecolor='dimgray')\n",
        "    plt.show()"
      ]
    },
    {
      "cell_type": "markdown",
      "metadata": {
        "id": "Eu1MxSScVy_F"
      },
      "source": [
        "## Correlation between graph-induced and vector-based similarity measures"
      ]
    },
    {
      "cell_type": "code",
      "execution_count": null,
      "metadata": {
        "id": "sTgHWZuIVy_F",
        "outputId": "bf0c00c0-e747-4c6b-8308-dbda7a43a7e5"
      },
      "outputs": [
        {
          "name": "stdout",
          "output_type": "stream",
          "text": [
            "{('cosine_similarity', 'cosine_similarity'): SpearmanrResult(correlation=1.0, pvalue=0.0),\n",
            " ('cosine_similarity', 'euclidean'): SpearmanrResult(correlation=-0.01654819654819655, pvalue=0.6011961161350545),\n",
            " ('cosine_similarity', 'lch_similarity'): SpearmanrResult(correlation=-0.03313558961077088, pvalue=0.29518433265549554),\n",
            " ('cosine_similarity', 'lin_similarity'): SpearmanrResult(correlation=0.05214945229942599, pvalue=0.09931790082361326),\n",
            " ('euclidean', 'cosine_similarity'): SpearmanrResult(correlation=-0.01654819654819655, pvalue=0.6011961161350545),\n",
            " ('euclidean', 'euclidean'): SpearmanrResult(correlation=1.0, pvalue=0.0),\n",
            " ('euclidean', 'lch_similarity'): SpearmanrResult(correlation=-0.06701469505827388, pvalue=0.03409701334743419),\n",
            " ('euclidean', 'lin_similarity'): SpearmanrResult(correlation=-0.00873034956557481, pvalue=0.7827494200452205),\n",
            " ('lch_similarity', 'cosine_similarity'): SpearmanrResult(correlation=-0.03313558961077088, pvalue=0.29518433265549554),\n",
            " ('lch_similarity', 'euclidean'): SpearmanrResult(correlation=-0.06701469505827388, pvalue=0.03409701334743419),\n",
            " ('lch_similarity', 'lch_similarity'): SpearmanrResult(correlation=1.0, pvalue=0.0),\n",
            " ('lch_similarity', 'lin_similarity'): SpearmanrResult(correlation=-0.015504087154416485, pvalue=0.6243472553553949),\n",
            " ('lin_similarity', 'cosine_similarity'): SpearmanrResult(correlation=0.052149452299426, pvalue=0.09931790082361319),\n",
            " ('lin_similarity', 'euclidean'): SpearmanrResult(correlation=-0.00873034956557481, pvalue=0.7827494200452205),\n",
            " ('lin_similarity', 'lch_similarity'): SpearmanrResult(correlation=-0.015504087154416485, pvalue=0.6243472553553949),\n",
            " ('lin_similarity', 'lin_similarity'): SpearmanrResult(correlation=1.0, pvalue=0.0)}\n"
          ]
        }
      ],
      "source": [
        "cor = noun2vec.correlate_similarity(n_samples=1000, threshold=0)\n",
        "\n",
        "import pprint\n",
        "pprint.pprint(cor)\n"
      ]
    },
    {
      "cell_type": "markdown",
      "metadata": {
        "id": "OziFKqRyVy_F"
      },
      "source": [
        "Maybe the lack of correlation is due to the fact that most words are mostly unrelated, and the similarity measures' behaviour on unrelated is arbitrary. To falsify this, we set the threshold to 0.7. Computation might take a little while..."
      ]
    },
    {
      "cell_type": "code",
      "execution_count": null,
      "metadata": {
        "id": "qmeZOwtQVy_F",
        "outputId": "2528b82c-c72a-4797-b5e2-d67f239122ba"
      },
      "outputs": [
        {
          "name": "stdout",
          "output_type": "stream",
          "text": [
            "{('cosine_similarity', 'cosine_similarity'): SpearmanrResult(correlation=1.0, pvalue=0.0),\n",
            " ('cosine_similarity', 'euclidean'): SpearmanrResult(correlation=0.07471969612903756, pvalue=0.4600062621367198),\n",
            " ('cosine_similarity', 'lch_similarity'): SpearmanrResult(correlation=0.09450843864685195, pvalue=0.34963477961774936),\n",
            " ('cosine_similarity', 'lin_similarity'): SpearmanrResult(correlation=-0.21120165262563007, pvalue=0.034917058595245305),\n",
            " ('euclidean', 'cosine_similarity'): SpearmanrResult(correlation=0.07471969612903756, pvalue=0.4600062621367198),\n",
            " ('euclidean', 'euclidean'): SpearmanrResult(correlation=0.9999999999999999, pvalue=0.0),\n",
            " ('euclidean', 'lch_similarity'): SpearmanrResult(correlation=0.11646788131912697, pvalue=0.2485132796525942),\n",
            " ('euclidean', 'lin_similarity'): SpearmanrResult(correlation=-0.19941567078849123, pvalue=0.04668890514604335),\n",
            " ('lch_similarity', 'cosine_similarity'): SpearmanrResult(correlation=0.09450843864685195, pvalue=0.34963477961774936),\n",
            " ('lch_similarity', 'euclidean'): SpearmanrResult(correlation=0.11646788131912697, pvalue=0.2485132796525942),\n",
            " ('lch_similarity', 'lch_similarity'): SpearmanrResult(correlation=0.9999999999999999, pvalue=0.0),\n",
            " ('lch_similarity', 'lin_similarity'): SpearmanrResult(correlation=-0.5215144886500613, pvalue=2.6430461779600675e-08),\n",
            " ('lin_similarity', 'cosine_similarity'): SpearmanrResult(correlation=-0.21120165262563007, pvalue=0.034917058595245305),\n",
            " ('lin_similarity', 'euclidean'): SpearmanrResult(correlation=-0.19941567078849123, pvalue=0.04668890514604335),\n",
            " ('lin_similarity', 'lch_similarity'): SpearmanrResult(correlation=-0.5215144886500613, pvalue=2.6430461779600675e-08),\n",
            " ('lin_similarity', 'lin_similarity'): SpearmanrResult(correlation=1.0, pvalue=0.0)}\n"
          ]
        }
      ],
      "source": [
        "cor = noun2vec.correlate_similarity(n_samples=100, threshold=.7)\n",
        "pprint.pprint(cor)\n"
      ]
    },
    {
      "cell_type": "markdown",
      "metadata": {
        "id": "SMv9g2g4Vy_G"
      },
      "source": [
        "### Side note: A Caveat of WordNet's hyponymity relation:\n",
        "\n",
        "It's not a partial order on synsets! In other words, the directed graph with vertices given by synsets and edges given by hyponymity contains cycles:"
      ]
    },
    {
      "cell_type": "code",
      "execution_count": null,
      "metadata": {
        "id": "VUDTjNA8Vy_G",
        "outputId": "caa41d98-7cfe-4acb-aa7b-d569b9329212"
      },
      "outputs": [
        {
          "name": "stdout",
          "output_type": "stream",
          "text": [
            "synsets of 'restrain.v.01':\n",
            "[Synset('confine.v.03'), Synset('control.v.02'), Synset('hold.v.36'), Synset('inhibit.v.04')]\n",
            "synsets of 'inhibit.v.04':\n",
            "[Synset('choke.v.07'), Synset('quench.v.03'), Synset('restrain.v.01')]\n"
          ]
        }
      ],
      "source": [
        "restr = wordnet.synsets('restrain')[0]\n",
        "\n",
        "print(\"synsets of \\'restrain.v.01\\':\")\n",
        "print(restr.hyponyms())\n",
        "print(\"synsets of \\'inhibit.v.04\\':\")\n",
        "print(restr.hyponyms()[3].hyponyms())\n",
        "\n",
        "# This won't work:\n",
        "# hyponyms = list(set([w for s in wordnet.synsets(restr)[0].closure(lambda s: s.hyponyms()) for w in s.lemma_names()]))"
      ]
    },
    {
      "cell_type": "markdown",
      "metadata": {
        "id": "wBFHzezjVy_G"
      },
      "source": [
        "## Antonyms via Analogies"
      ]
    },
    {
      "cell_type": "markdown",
      "metadata": {
        "id": "WbzMDfupVy_H"
      },
      "source": [
        "#### How many antonyms we can find using the scheme _adjective_ - 'good' + 'bad' ≈ _antonym_ ?"
      ]
    },
    {
      "cell_type": "code",
      "execution_count": null,
      "metadata": {
        "id": "wKcpJCChVy_H",
        "outputId": "b0ce7d54-e366-481c-e6d8-9be98472ce80"
      },
      "outputs": [
        {
          "name": "stdout",
          "output_type": "stream",
          "text": [
            "3341\n"
          ]
        }
      ],
      "source": [
        "def get_all_antonyms(word):\n",
        "    # Each lemma in each synset of an adjective has a set of antonyms;\n",
        "    # we collect them all together.\n",
        "\n",
        "    antonyms = []\n",
        "    synsets = wordnet.synsets(word, 'a')\n",
        "\n",
        "    for synset in synsets:\n",
        "\n",
        "        for lemma in synset.lemmas():\n",
        "\n",
        "            for antonym in lemma.antonyms():\n",
        "\n",
        "                antonyms.append(antonym.name())\n",
        "\n",
        "    return antonyms\n",
        "\n",
        "\n",
        "has_antonyms = lambda adj: (get_all_antonyms(adj) != [])\n",
        "adjectives_with_antonyms = [a for a in adjective2vec.words() if has_antonyms(a)]\n",
        "\n",
        "print(len(adjectives_with_antonyms))  # 3341 adjectives with antonyms in total."
      ]
    },
    {
      "cell_type": "code",
      "execution_count": null,
      "metadata": {
        "id": "o5MVjo5WVy_I",
        "outputId": "3370d547-7fc5-4bd1-a1c5-f7eb0186a017"
      },
      "outputs": [
        {
          "data": {
            "text/plain": [
              "['concrete']"
            ]
          },
          "execution_count": 150,
          "metadata": {},
          "output_type": "execute_result"
        }
      ],
      "source": [
        "get_all_antonyms('abstract')  # example"
      ]
    },
    {
      "cell_type": "code",
      "execution_count": null,
      "metadata": {
        "id": "qgfkYJVWVy_I"
      },
      "outputs": [],
      "source": [
        "def get_positively_connotated(print_hits=True):\n",
        "    # Collect all 'positively connotated' adjectives for which the\n",
        "    # adjective - 'good' + 'bad' scheme works.\n",
        "\n",
        "    positively_connotated = []\n",
        "\n",
        "    for word in adjectives_with_antonyms:\n",
        "\n",
        "        candidate_antonyms = word2vec_model.most_similar(positive=['bad', word], negative=['good'])\n",
        "        candidate_antonyms = [candidate_antonym[0] for candidate_antonym in candidate_antonyms]\n",
        "        hit = False\n",
        "        antonyms = get_all_antonyms(word)\n",
        "\n",
        "        for candidate_antonym in candidate_antonyms:\n",
        "\n",
        "            if candidate_antonym in antonyms:\n",
        "\n",
        "                hit = True\n",
        "\n",
        "        if hit == True:\n",
        "\n",
        "            positively_connotated.append(word)\n",
        "\n",
        "            if print_hits == True: print(word)\n",
        "\n",
        "    return positively_connotated\n"
      ]
    },
    {
      "cell_type": "markdown",
      "metadata": {
        "id": "ai2aABehVy_I"
      },
      "source": [
        "**Warning:** The subsequent cell might take a long time to execute..."
      ]
    },
    {
      "cell_type": "code",
      "execution_count": null,
      "metadata": {
        "id": "hf3skE4NVy_I",
        "outputId": "493fb81c-640b-47ff-ee60-9ca1bb103d98"
      },
      "outputs": [
        {
          "name": "stdout",
          "output_type": "stream",
          "text": [
            "implicit\n",
            "appealing\n",
            "loving\n",
            "meaningful\n",
            "proportionate\n",
            "infallible\n",
            "outward\n",
            "legible\n",
            "unburdened\n",
            "hypotonic\n",
            "orthodox\n",
            "contralateral\n",
            "early\n",
            "downtown\n",
            "brunette\n",
            "maximum\n",
            "opening\n",
            "hydrophobic\n",
            "unconventional\n",
            "increasing\n",
            "courteous\n",
            "unclassified\n",
            "inside\n",
            "frequent\n",
            "first\n",
            "wifely\n",
            "trained\n",
            "unabridged\n",
            "civilian\n",
            "responsive\n",
            "livable\n",
            "tolerable\n",
            "adequate\n",
            "lengthwise\n",
            "unintrusive\n",
            "major\n",
            "more\n",
            "conclusive\n",
            "accurate\n",
            "skilled\n",
            "equal\n",
            "ipsilateral\n",
            "starry\n",
            "courageous\n",
            "anterior\n",
            "alkaline\n",
            "uptown\n",
            "publishable\n",
            "tractable\n",
            "private\n",
            "brave\n",
            "eligible\n",
            "careful\n",
            "intelligent\n",
            "abridged\n",
            "outboard\n",
            "aware\n",
            "dissimilar\n",
            "abundant\n",
            "acidic\n",
            "same\n",
            "bridgeable\n",
            "finite\n",
            "noble\n",
            "beneficent\n",
            "unlucky\n",
            "fair\n",
            "western\n",
            "discreet\n",
            "unnoticeable\n",
            "unrelated\n",
            "symmetrical\n",
            "monotheistic\n",
            "inward\n",
            "felicitous\n",
            "occupied\n",
            "ethical\n",
            "less\n",
            "unprofitable\n",
            "rational\n",
            "consistent\n",
            "lively\n",
            "intelligible\n",
            "southern\n",
            "auspicious\n",
            "asymmetrical\n",
            "operational\n",
            "crossbred\n",
            "quadrupedal\n",
            "descending\n",
            "enfranchised\n",
            "frozen\n",
            "eventful\n",
            "matched\n",
            "inner\n",
            "comprehensible\n",
            "farsighted\n",
            "fruitful\n",
            "unmodified\n",
            "fastened\n",
            "strong\n",
            "second\n",
            "undrinkable\n",
            "hot\n",
            "outdoor\n",
            "knowable\n",
            "sociable\n",
            "addressed\n",
            "refined\n",
            "nonjudgmental\n",
            "uncoated\n",
            "thirsty\n",
            "polished\n",
            "forward\n",
            "immiscible\n",
            "convex\n",
            "collected\n",
            "logical\n",
            "willing\n",
            "centralized\n",
            "nonindustrial\n",
            "impermeable\n",
            "unconvinced\n",
            "seaworthy\n",
            "inland\n",
            "unenforceable\n",
            "bloodless\n",
            "unseeded\n",
            "likely\n",
            "nonmilitary\n",
            "convincing\n",
            "inquisitorial\n",
            "black\n",
            "curable\n",
            "temporary\n",
            "clean\n",
            "minimum\n",
            "articulate\n",
            "pious\n",
            "unselfish\n",
            "junior\n",
            "ineligible\n",
            "hairless\n",
            "incorrupt\n",
            "tangible\n",
            "bisexual\n",
            "tidy\n",
            "satisfactory\n",
            "safe\n",
            "carnivorous\n",
            "dignified\n",
            "biped\n",
            "down\n",
            "disinclined\n",
            "similar\n",
            "military\n",
            "acute\n",
            "unsympathetic\n",
            "unenclosed\n",
            "best\n",
            "inauspicious\n",
            "appropriate\n",
            "educated\n",
            "painless\n",
            "inadmissible\n",
            "incorporeal\n",
            "fortunate\n",
            "crosswise\n",
            "manned\n",
            "internal\n",
            "senior\n",
            "superior\n",
            "generous\n",
            "sincere\n",
            "up\n",
            "quotable\n",
            "loyal\n",
            "attachable\n",
            "elective\n",
            "realistic\n",
            "decentralized\n",
            "forehand\n",
            "exogenous\n",
            "off\n",
            "unfashionable\n",
            "unstained\n",
            "isotropic\n",
            "homozygous\n",
            "low\n",
            "reasonable\n",
            "related\n",
            "healthier\n",
            "horizontal\n",
            "operable\n",
            "uncensored\n",
            "bipedal\n",
            "unrestricted\n",
            "popular\n",
            "subscript\n",
            "wieldy\n",
            "friendly\n",
            "brunet\n",
            "orderly\n",
            "brotherly\n",
            "domestic\n",
            "approachable\n",
            "reliable\n",
            "humane\n",
            "opened\n",
            "onshore\n",
            "intestate\n",
            "uncontested\n",
            "drinkable\n",
            "medical\n",
            "plus\n",
            "attentive\n",
            "pleased\n",
            "hospitable\n",
            "dextral\n",
            "nontoxic\n",
            "testate\n",
            "postnuptial\n",
            "literate\n",
            "active\n",
            "predictable\n",
            "inculpatory\n",
            "competent\n",
            "considerate\n",
            "edible\n",
            "on\n",
            "numerate\n",
            "white\n",
            "sympathetic\n",
            "soluble\n",
            "pessimistic\n",
            "tame\n",
            "paved\n",
            "diatonic\n",
            "closing\n",
            "wise\n",
            "harmless\n",
            "unprocessed\n",
            "distal\n",
            "adroit\n",
            "unambiguous\n",
            "proximal\n",
            "unfavorable\n",
            "productive\n",
            "unmined\n",
            "upstairs\n",
            "plausible\n",
            "geocentric\n",
            "lowercase\n",
            "unmarred\n",
            "flattering\n",
            "able\n",
            "outgoing\n",
            "incompressible\n",
            "polyphonic\n",
            "unbranded\n",
            "motorless\n",
            "uninhabited\n",
            "guided\n",
            "transitive\n",
            "immortal\n",
            "evitable\n",
            "enlightened\n",
            "gifted\n",
            "inboard\n",
            "unofficial\n",
            "inclined\n",
            "unthinkable\n",
            "accustomed\n",
            "unrepentant\n",
            "useful\n",
            "premarital\n",
            "unsurprising\n",
            "artful\n",
            "linear\n",
            "righteous\n",
            "undamaged\n",
            "polite\n",
            "unloaded\n",
            "nontaxable\n",
            "right\n",
            "east\n",
            "counterclockwise\n",
            "awake\n",
            "Utopian\n",
            "won\n",
            "excusable\n",
            "infrequent\n",
            "coastal\n",
            "decreasing\n",
            "efficient\n",
            "social\n",
            "relevant\n",
            "unapologetic\n",
            "adoptable\n",
            "intrastate\n",
            "unobstructed\n",
            "voluntary\n",
            "democratic\n",
            "paid\n",
            "punctual\n",
            "fallible\n",
            "deciphered\n",
            "favorable\n",
            "unaccustomed\n",
            "unpretentious\n",
            "capitalistic\n",
            "concerned\n",
            "capable\n",
            "Blessed\n",
            "open\n",
            "tonal\n",
            "compassionate\n",
            "helpful\n",
            "irreducible\n",
            "enforceable\n",
            "regulated\n",
            "summery\n",
            "raised\n",
            "onstage\n",
            "seeded\n",
            "advisable\n",
            "few\n",
            "functional\n",
            "classified\n",
            "woven\n",
            "stable\n",
            "explicable\n",
            "cleared\n",
            "connected\n",
            "propitious\n",
            "concave\n",
            "indispensable\n",
            "figurative\n",
            "clockwise\n",
            "interested\n",
            "inevitable\n",
            "winged\n",
            "nonsexual\n",
            "adaptive\n",
            "formal\n",
            "leeward\n",
            "unobtrusive\n",
            "supportive\n",
            "honorable\n",
            "literal\n",
            "pro\n",
            "indistinguishable\n",
            "insoluble\n",
            "compatible\n",
            "convinced\n",
            "west\n",
            "consummated\n",
            "appetizing\n",
            "male\n",
            "mined\n",
            "deflationary\n",
            "impressive\n",
            "outside\n",
            "qualified\n",
            "diurnal\n",
            "seasoned\n",
            "traditional\n",
            "lubricated\n",
            "accessible\n",
            "heterozygous\n",
            "external\n",
            "passable\n",
            "manly\n",
            "moonlit\n",
            "returnable\n",
            "trustful\n",
            "glad\n",
            "benign\n",
            "truthful\n",
            "prenuptial\n",
            "insurmountable\n",
            "quadruped\n",
            "offensive\n",
            "prepared\n",
            "centralizing\n",
            "anabolic\n",
            "clement\n",
            "sweet\n",
            "unpronounceable\n",
            "endogenous\n",
            "wide\n",
            "fast\n",
            "human\n",
            "repentant\n",
            "earthly\n",
            "bimodal\n",
            "synchronous\n",
            "informal\n",
            "liberal\n",
            "neutral\n",
            "detachable\n",
            "rising\n",
            "paternal\n",
            "sufficient\n",
            "nonsectarian\n",
            "familiar\n",
            "shaven\n",
            "accusatorial\n",
            "unscripted\n",
            "de_facto\n",
            "identifiable\n",
            "employable\n",
            "encumbered\n",
            "groomed\n",
            "dorsal\n",
            "windward\n",
            "miscible\n",
            "dry\n",
            "functioning\n",
            "prudent\n",
            "connotative\n",
            "salable\n",
            "attractive\n",
            "utopian\n",
            "unimpaired\n",
            "acceptable\n",
            "prenatal\n",
            "bicameral\n",
            "surprising\n",
            "prokaryotic\n",
            "small\n",
            "unbreakable\n",
            "subsonic\n",
            "palatable\n",
            "welcome\n",
            "necessary\n",
            "thin\n",
            "progressive\n",
            "mortal\n",
            "inoperable\n",
            "rural\n",
            "unrestrictive\n",
            "interdepartmental\n",
            "superscript\n",
            "desirable\n",
            "nocturnal\n",
            "informative\n",
            "supersonic\n",
            "eccrine\n",
            "unfrozen\n",
            "playable\n",
            "joyful\n",
            "profitable\n",
            "hungry\n",
            "diploid\n",
            "liked\n",
            "ultra_vires\n",
            "centrifugal\n",
            "autumnal\n",
            "premeditated\n",
            "fresh\n",
            "normal\n",
            "protected\n",
            "inflationary\n",
            "unencumbered\n",
            "patriotic\n",
            "advantageous\n",
            "considerable\n",
            "prewar\n",
            "gracious\n",
            "tactful\n",
            "unprotected\n",
            "unaffected\n",
            "unblemished\n",
            "thoughtful\n",
            "downstream\n",
            "defined\n",
            "ventral\n",
            "digestible\n",
            "happy\n",
            "eastern\n",
            "vertical\n",
            "unbridgeable\n",
            "north\n",
            "isotonic\n",
            "nice\n",
            "convenient\n",
            "communicative\n",
            "smart\n",
            "afferent\n",
            "increased\n",
            "unfamiliar\n",
            "nonresidential\n",
            "untied\n",
            "lawful\n",
            "loaded\n",
            "south\n",
            "recoverable\n",
            "unlikely\n",
            "unafraid\n",
            "asynchronous\n",
            "lucky\n",
            "sane\n",
            "ascending\n",
            "easy\n",
            "professional\n",
            "qualitative\n",
            "incompatible\n",
            "offstage\n",
            "unflattering\n",
            "lossless\n",
            "uncontaminated\n",
            "representational\n",
            "hydrophilic\n",
            "blessed\n",
            "unicameral\n",
            "healthy\n",
            "peaceful\n",
            "matriarchal\n",
            "admissible\n",
            "precise\n",
            "unaltered\n",
            "anionic\n",
            "homosexual\n",
            "backhand\n",
            "airworthy\n",
            "indirect\n",
            "nontraditional\n",
            "little\n",
            "invertebrate\n",
            "controlled\n",
            "reputable\n",
            "downmarket\n",
            "nonviolent\n",
            "wearable\n",
            "clear\n",
            "principled\n",
            "extensive\n",
            "trusting\n",
            "lighted\n",
            "sensitive\n",
            "permeable\n",
            "distinguishable\n",
            "equipped\n",
            "decentralizing\n",
            "uppercase\n",
            "light\n",
            "nonmusical\n",
            "postnatal\n",
            "sinistral\n",
            "better\n",
            "pleasant\n",
            "feminine\n",
            "supervised\n",
            "nonfictional\n",
            "nonlinear\n",
            "inhabited\n",
            "nonpartisan\n",
            "female\n",
            "northern\n",
            "unrecoverable\n",
            "liveable\n",
            "encouraging\n",
            "upstream\n",
            "unimodal\n",
            "implausible\n",
            "deep\n",
            "heterosexual\n",
            "masculine\n",
            "legitimate\n",
            "rewarding\n",
            "extracellular\n",
            "eatable\n",
            "earliest\n",
            "nonconformist\n",
            "corrected\n",
            "heterotrophic\n",
            "receptive\n",
            "heliocentric\n",
            "transonic\n",
            "unregulated\n",
            "serviceable\n",
            "mature\n",
            "equitable\n",
            "irresistible\n",
            "theoretical\n",
            "sanitary\n",
            "haploid\n",
            "onside\n",
            "wet\n",
            "pronounceable\n",
            "statesmanly\n",
            "positive\n",
            "effective\n",
            "honest\n",
            "national\n",
            "enthusiastic\n",
            "inconclusive\n",
            "optimistic\n",
            "intracellular\n",
            "agreeable\n",
            "valid\n",
            "physical\n",
            "late\n",
            "commensurate\n",
            "short\n",
            "talented\n",
            "manageable\n",
            "natural\n",
            "coherent\n",
            "explicit\n",
            "inexpensive\n",
            "conservative\n",
            "downstairs\n",
            "fewer\n",
            "masochistic\n",
            "solvent\n",
            "annual\n",
            "trustworthy\n",
            "polyploid\n",
            "biennial\n",
            "wingless\n",
            "incoming\n",
            "thinkable\n",
            "sugarless\n",
            "efferent\n",
            "discerning\n",
            "alive\n",
            "nonfatal\n",
            "balanced\n",
            "long\n",
            "opportune\n",
            "scripted\n",
            "scholarly\n",
            "proper\n",
            "flexible\n",
            "posterior\n",
            "clothed\n",
            "harmonious\n",
            "high\n",
            "worthy\n",
            "typical\n",
            "surmountable\n",
            "much\n",
            "leavened\n",
            "processed\n",
            "thick\n",
            "reduced\n",
            "uneventful\n",
            "correct\n",
            "unaware\n",
            "indoor\n",
            "comfortable\n",
            "accommodating\n",
            "decorous\n",
            "compressible\n",
            "congenial\n",
            "public\n",
            "dependable\n",
            "congruent\n",
            "forgiving\n",
            "apocrine\n",
            "large\n",
            "interior\n",
            "tolerant\n",
            "reconcilable\n",
            "defensive\n",
            "penetrable\n",
            "autotrophic\n",
            "unequivocal\n",
            "statesmanlike\n",
            "obedient\n",
            "exculpatory\n",
            "used\n",
            "peaceable\n",
            "heterogenous\n",
            "noncommercial\n",
            "sisterly\n",
            "upmarket\n",
            "heavenly\n",
            "decreased\n",
            "conductive\n",
            "direct\n",
            "infinite\n",
            "registered\n",
            "cooperative\n",
            "hypertensive\n",
            "voluble\n",
            "untangled\n",
            "negative\n",
            "reversible\n",
            "respectful\n",
            "enclosed\n"
          ]
        }
      ],
      "source": [
        "positively_connotated = get_positively_connotated()"
      ]
    },
    {
      "cell_type": "code",
      "execution_count": null,
      "metadata": {
        "id": "BMtp8EvFVy_I",
        "outputId": "aef8fc0b-bd85-45dd-f365-3ba956c50ac4"
      },
      "outputs": [
        {
          "name": "stdout",
          "output_type": "stream",
          "text": [
            "693\n"
          ]
        }
      ],
      "source": [
        "positively_connotated_with_antonyms = set(positively_connotated + flatten_list([get_all_antonyms(a) for a in pos_con]))\n",
        "print(len(positively_connotated_with_antonyms))"
      ]
    },
    {
      "cell_type": "markdown",
      "metadata": {
        "id": "BHpShsZMVy_J"
      },
      "source": [
        "##### Hence we see that this works for 639 adjectives. The name 'positively connotated' is appropriate only to a very limited extend, however."
      ]
    },
    {
      "cell_type": "markdown",
      "metadata": {
        "id": "0a1H9wqdVy_J"
      },
      "source": [
        "#### Can we achieve similar results with pairs other than 'good' and 'bad'?"
      ]
    },
    {
      "cell_type": "code",
      "execution_count": null,
      "metadata": {
        "id": "1FoKnnGqVy_J"
      },
      "outputs": [],
      "source": [
        "def get_small_connotated(print_hits=True):\n",
        "    # Collect all adjectives for which a \"adjective - 'big' + 'small'\" scheme works.\n",
        "\n",
        "    small_connotated = []\n",
        "\n",
        "    for word in adjectives_with_antonyms:\n",
        "\n",
        "        candidate_antonyms = word2vec_model.most_similar(positive=['small', word], negative=['big'])\n",
        "        candidate_antonyms = [candidate_antonym[0] for candidate_antonym in candidate_antonyms]\n",
        "        hit = False\n",
        "        antonyms = get_all_antonyms(word)\n",
        "\n",
        "        for candidate_antonym in candidate_antonyms:\n",
        "\n",
        "            if candidate_antonym in antonyms:\n",
        "\n",
        "                hit = True\n",
        "\n",
        "        if hit == True:\n",
        "\n",
        "            small_connotated.append(word)\n",
        "\n",
        "            if print_hits == True: print(word)\n",
        "\n",
        "    return small_connotated\n"
      ]
    },
    {
      "cell_type": "markdown",
      "metadata": {
        "id": "u9N5VWBRVy_J"
      },
      "source": [
        "**Warning:** The subsequent cell might take a long time to execute..."
      ]
    },
    {
      "cell_type": "code",
      "execution_count": null,
      "metadata": {
        "id": "S5Ok3Et9Vy_J",
        "outputId": "b56c41c9-9df5-464f-85ba-ceab9ab88a1c"
      },
      "outputs": [
        {
          "name": "stdout",
          "output_type": "stream",
          "text": [
            "implicit\n",
            "incurable\n",
            "proportionate\n",
            "infallible\n",
            "outward\n",
            "legible\n",
            "unburdened\n",
            "hypotonic\n",
            "contralateral\n",
            "early\n",
            "downtown\n",
            "brunette\n",
            "maximum\n",
            "unseaworthy\n",
            "inopportune\n",
            "opening\n",
            "hydrophobic\n",
            "unconventional\n",
            "increasing\n",
            "unclassified\n",
            "inside\n",
            "frequent\n",
            "first\n",
            "wifely\n",
            "trained\n",
            "unabridged\n",
            "civilian\n",
            "radiopaque\n",
            "livable\n",
            "organized\n",
            "adequate\n",
            "explosive\n",
            "lengthwise\n",
            "major\n",
            "more\n",
            "conclusive\n",
            "unadvisable\n",
            "accurate\n",
            "bad\n",
            "postwar\n",
            "skilled\n",
            "equal\n",
            "ipsilateral\n",
            "impaired\n",
            "unenthusiastic\n",
            "alkaline\n",
            "uptown\n",
            "dystopian\n",
            "private\n",
            "eligible\n",
            "unpolished\n",
            "unfriendly\n",
            "unrefined\n",
            "abridged\n",
            "outboard\n",
            "aware\n",
            "undesirable\n",
            "dissimilar\n",
            "acidic\n",
            "same\n",
            "bridgeable\n",
            "finite\n",
            "unadoptable\n",
            "unlucky\n",
            "insufficient\n",
            "western\n",
            "noncompliant\n",
            "unrelated\n",
            "indelicate\n",
            "symmetrical\n",
            "monotheistic\n",
            "migratory\n",
            "inward\n",
            "occupied\n",
            "ethical\n",
            "less\n",
            "cationic\n",
            "unprofitable\n",
            "rational\n",
            "consistent\n",
            "perinatal\n",
            "southern\n",
            "auspicious\n",
            "asymmetrical\n",
            "crossbred\n",
            "descending\n",
            "enfranchised\n",
            "frozen\n",
            "eventful\n",
            "inner\n",
            "fruitful\n",
            "unmodified\n",
            "strong\n",
            "blond\n",
            "second\n",
            "undrinkable\n",
            "tuneless\n",
            "outdoor\n",
            "knowable\n",
            "inappropriate\n",
            "wrinkly\n",
            "refined\n",
            "polished\n",
            "convex\n",
            "logical\n",
            "willing\n",
            "centralized\n",
            "impermeable\n",
            "unconvinced\n",
            "seaworthy\n",
            "inland\n",
            "secular\n",
            "unenforceable\n",
            "likely\n",
            "nonmilitary\n",
            "convincing\n",
            "unsatisfactory\n",
            "inquisitorial\n",
            "black\n",
            "temporary\n",
            "ostentatious\n",
            "immunocompetent\n",
            "minimum\n",
            "infectious\n",
            "ungracious\n",
            "disobedient\n",
            "pious\n",
            "furnished\n",
            "junior\n",
            "ineligible\n",
            "unplayable\n",
            "bisexual\n",
            "tidy\n",
            "satisfactory\n",
            "grassless\n",
            "carnivorous\n",
            "biped\n",
            "down\n",
            "disinclined\n",
            "similar\n",
            "affected\n",
            "unattractive\n",
            "indigestible\n",
            "irreversible\n",
            "military\n",
            "unsympathetic\n",
            "unenclosed\n",
            "inauspicious\n",
            "appropriate\n",
            "educated\n",
            "inadmissible\n",
            "unorthodox\n",
            "inattentive\n",
            "crosswise\n",
            "manned\n",
            "internal\n",
            "senior\n",
            "corporeal\n",
            "impenetrable\n",
            "superior\n",
            "up\n",
            "quotable\n",
            "insincere\n",
            "attachable\n",
            "elective\n",
            "realistic\n",
            "decentralized\n",
            "forehand\n",
            "exogenous\n",
            "off\n",
            "unlawful\n",
            "intolerant\n",
            "hirsute\n",
            "homozygous\n",
            "low\n",
            "conspicuous\n",
            "reasonable\n",
            "related\n",
            "immutable\n",
            "involuntary\n",
            "harmful\n",
            "homogeneous\n",
            "horizontal\n",
            "operable\n",
            "malted\n",
            "uncensored\n",
            "bipedal\n",
            "unrestricted\n",
            "confirmed\n",
            "carpeted\n",
            "intensive\n",
            "unbearable\n",
            "friendly\n",
            "esoteric\n",
            "brotherly\n",
            "reliable\n",
            "humane\n",
            "unintelligible\n",
            "opened\n",
            "onshore\n",
            "intestate\n",
            "uncontested\n",
            "drinkable\n",
            "medical\n",
            "hospitable\n",
            "dextral\n",
            "testate\n",
            "literate\n",
            "active\n",
            "smaller\n",
            "noticeable\n",
            "competent\n",
            "demonstrative\n",
            "commercial\n",
            "unhelpful\n",
            "numerate\n",
            "white\n",
            "good\n",
            "sympathetic\n",
            "glazed\n",
            "synchronic\n",
            "pessimistic\n",
            "imprudent\n",
            "paved\n",
            "obligatory\n",
            "diatonic\n",
            "insane\n",
            "closing\n",
            "harmless\n",
            "unprocessed\n",
            "eukaryotic\n",
            "unacceptable\n",
            "adroit\n",
            "unambiguous\n",
            "proximal\n",
            "unfavorable\n",
            "productive\n",
            "upstairs\n",
            "partisan\n",
            "tempered\n",
            "industrial\n",
            "plausible\n",
            "geocentric\n",
            "flattering\n",
            "irreconcilable\n",
            "able\n",
            "outgoing\n",
            "incompressible\n",
            "polyphonic\n",
            "motorless\n",
            "uninhabited\n",
            "transitive\n",
            "disorderly\n",
            "unpalatable\n",
            "enlightened\n",
            "inboard\n",
            "inclined\n",
            "irrecoverable\n",
            "accustomed\n",
            "unrepentant\n",
            "unsurprising\n",
            "linear\n",
            "inactive\n",
            "undamaged\n",
            "unloaded\n",
            "nontaxable\n",
            "right\n",
            "east\n",
            "stingy\n",
            "counterclockwise\n",
            "won\n",
            "infrequent\n",
            "coastal\n",
            "stained\n",
            "anaerobic\n",
            "decreasing\n",
            "anisotropic\n",
            "dramatic\n",
            "unemployable\n",
            "unapologetic\n",
            "adoptable\n",
            "paid\n",
            "inadequate\n",
            "fallible\n",
            "ambitious\n",
            "deciphered\n",
            "favorable\n",
            "unaccustomed\n",
            "concerned\n",
            "capable\n",
            "unsurprised\n",
            "taciturn\n",
            "open\n",
            "asleep\n",
            "disproportionate\n",
            "wrinkled\n",
            "helpful\n",
            "enforceable\n",
            "regulated\n",
            "raised\n",
            "onstage\n",
            "seeded\n",
            "advisable\n",
            "few\n",
            "assertive\n",
            "classified\n",
            "socialistic\n",
            "hairy\n",
            "stable\n",
            "important\n",
            "connected\n",
            "propitious\n",
            "indispensable\n",
            "clockwise\n",
            "irrational\n",
            "interested\n",
            "damaged\n",
            "shod\n",
            "winged\n",
            "nonsexual\n",
            "unsupportive\n",
            "formal\n",
            "leeward\n",
            "unobtrusive\n",
            "inexhaustible\n",
            "inexpressible\n",
            "supportive\n",
            "honorable\n",
            "indistinguishable\n",
            "determinate\n",
            "postpartum\n",
            "perceptible\n",
            "insoluble\n",
            "compatible\n",
            "convinced\n",
            "west\n",
            "appetizing\n",
            "male\n",
            "mined\n",
            "deflationary\n",
            "impressive\n",
            "outside\n",
            "unenlightened\n",
            "seasoned\n",
            "traditional\n",
            "accessible\n",
            "heterozygous\n",
            "external\n",
            "disadvantageous\n",
            "moonless\n",
            "passable\n",
            "manly\n",
            "moonlit\n",
            "benign\n",
            "truthful\n",
            "insurmountable\n",
            "quadruped\n",
            "offensive\n",
            "centralizing\n",
            "broad\n",
            "unlimited\n",
            "unpronounceable\n",
            "unconditional\n",
            "wide\n",
            "retrograde\n",
            "fast\n",
            "human\n",
            "repentant\n",
            "earthly\n",
            "bimodal\n",
            "monophonic\n",
            "synchronous\n",
            "informal\n",
            "liberal\n",
            "detachable\n",
            "paternal\n",
            "sufficient\n",
            "familiar\n",
            "taxable\n",
            "accusatorial\n",
            "unscripted\n",
            "de_facto\n",
            "employable\n",
            "encumbered\n",
            "dorsal\n",
            "windward\n",
            "miscible\n",
            "impolite\n",
            "prudent\n",
            "connotative\n",
            "baptized\n",
            "attractive\n",
            "unimpaired\n",
            "unreasonable\n",
            "acceptable\n",
            "unfastened\n",
            "prenatal\n",
            "bicameral\n",
            "surprising\n",
            "unconfined\n",
            "small\n",
            "unbreakable\n",
            "palatable\n",
            "patriarchal\n",
            "thin\n",
            "asymmetric\n",
            "inoperable\n",
            "unrestrictive\n",
            "superscript\n",
            "desirable\n",
            "nocturnal\n",
            "appointive\n",
            "censored\n",
            "supersonic\n",
            "eccrine\n",
            "unfrozen\n",
            "joyful\n",
            "profitable\n",
            "hungry\n",
            "liked\n",
            "ultra_vires\n",
            "premeditated\n",
            "protected\n",
            "inflationary\n",
            "unencumbered\n",
            "advantageous\n",
            "scarce\n",
            "prewar\n",
            "uncomfortable\n",
            "nonrenewable\n",
            "unproductive\n",
            "unprotected\n",
            "unaffected\n",
            "unblemished\n",
            "downstream\n",
            "incapable\n",
            "happy\n",
            "eastern\n",
            "altered\n",
            "inconvenient\n",
            "sugary\n",
            "closed\n",
            "imponderable\n",
            "burdened\n",
            "vertical\n",
            "unbridgeable\n",
            "unavailable\n",
            "judgmental\n",
            "illegible\n",
            "horned\n",
            "north\n",
            "uncommunicative\n",
            "systematic\n",
            "isotonic\n",
            "unsociable\n",
            "inhospitable\n",
            "wrong\n",
            "unappetizing\n",
            "afferent\n",
            "increased\n",
            "urban\n",
            "nonresidential\n",
            "lawful\n",
            "unconquerable\n",
            "south\n",
            "inferior\n",
            "automatic\n",
            "violent\n",
            "unoccupied\n",
            "unlikely\n",
            "lucky\n",
            "ascending\n",
            "indiscreet\n",
            "impious\n",
            "unsurmountable\n",
            "professional\n",
            "incompetent\n",
            "qualitative\n",
            "incompatible\n",
            "offstage\n",
            "unflattering\n",
            "uncontaminated\n",
            "representational\n",
            "inclement\n",
            "hydrophilic\n",
            "unicameral\n",
            "peaceful\n",
            "unwilling\n",
            "matriarchal\n",
            "directional\n",
            "admissible\n",
            "precise\n",
            "anionic\n",
            "homosexual\n",
            "backhand\n",
            "airworthy\n",
            "indirect\n",
            "nontraditional\n",
            "cool\n",
            "downmarket\n",
            "dishonorable\n",
            "clear\n",
            "extensive\n",
            "lighted\n",
            "unseasoned\n",
            "permeable\n",
            "distinguishable\n",
            "decentralizing\n",
            "uppercase\n",
            "heterogeneous\n",
            "worldly\n",
            "nonmusical\n",
            "postnatal\n",
            "sinistral\n",
            "better\n",
            "feminine\n",
            "nonfictional\n",
            "nonlinear\n",
            "inhabited\n",
            "nonpartisan\n",
            "female\n",
            "northern\n",
            "unrecoverable\n",
            "modified\n",
            "encouraging\n",
            "upstream\n",
            "unimodal\n",
            "implausible\n",
            "unpleasant\n",
            "unequipped\n",
            "restricted\n",
            "deep\n",
            "blonde\n",
            "heterosexual\n",
            "masculine\n",
            "innumerate\n",
            "inedible\n",
            "cognizant\n",
            "nonconformist\n",
            "corrected\n",
            "heterotrophic\n",
            "unmanageable\n",
            "receptive\n",
            "heliocentric\n",
            "unregulated\n",
            "married\n",
            "significant\n",
            "mature\n",
            "equitable\n",
            "extraordinary\n",
            "haploid\n",
            "wet\n",
            "drained\n",
            "inaccessible\n",
            "pronounceable\n",
            "untrustworthy\n",
            "positive\n",
            "effective\n",
            "immunodeficient\n",
            "national\n",
            "successful\n",
            "enthusiastic\n",
            "inconclusive\n",
            "optimistic\n",
            "intracellular\n",
            "valid\n",
            "late\n",
            "commensurate\n",
            "revealing\n",
            "unconcealed\n",
            "short\n",
            "higher\n",
            "illiterate\n",
            "coherent\n",
            "explicit\n",
            "atypical\n",
            "conservative\n",
            "downstairs\n",
            "signed\n",
            "masochistic\n",
            "offending\n",
            "unclothed\n",
            "incongruent\n",
            "biennial\n",
            "wingless\n",
            "incoming\n",
            "balanced\n",
            "long\n",
            "opportune\n",
            "scripted\n",
            "obtrusive\n",
            "unlivable\n",
            "posterior\n",
            "clothed\n",
            "standing\n",
            "harmonious\n",
            "high\n",
            "impermissible\n",
            "worthy\n",
            "typical\n",
            "discouraging\n",
            "surmountable\n",
            "much\n",
            "leavened\n",
            "processed\n",
            "branded\n",
            "thick\n",
            "reduced\n",
            "perfect\n",
            "correct\n",
            "unaware\n",
            "indoor\n",
            "comfortable\n",
            "antenatal\n",
            "inadvisable\n",
            "public\n",
            "congruent\n",
            "apocrine\n",
            "interior\n",
            "tolerant\n",
            "involved\n",
            "defensive\n",
            "undemocratic\n",
            "omnivorous\n",
            "autotrophic\n",
            "unequivocal\n",
            "ignoble\n",
            "exculpatory\n",
            "peaceable\n",
            "untidy\n",
            "heterogenous\n",
            "noncommercial\n",
            "sisterly\n",
            "fatal\n",
            "porous\n",
            "heavenly\n",
            "tangled\n",
            "decreased\n",
            "blemished\n",
            "direct\n",
            "infinite\n",
            "unreceptive\n",
            "registered\n",
            "inbred\n",
            "melted\n",
            "voluble\n",
            "untangled\n",
            "negative\n",
            "insured\n",
            "enclosed\n",
            "unable\n"
          ]
        }
      ],
      "source": [
        "small_connotated = get_small_connotated()"
      ]
    },
    {
      "cell_type": "code",
      "execution_count": null,
      "metadata": {
        "id": "q0EBYGoDVy_K",
        "outputId": "c6b055e8-464a-40cb-81ba-74a80bba303c"
      },
      "outputs": [
        {
          "name": "stdout",
          "output_type": "stream",
          "text": [
            "651\n",
            "907\n"
          ]
        }
      ],
      "source": [
        "small_connotated_with_antonyms = set(small_connotated + flatten_list([get_all_antonyms(a) for a in pos_con]))\n",
        "print(len(small_connotated_with_antonyms))\n",
        "print(len(set(list(small_connotated_with_antonyms) + list(positively_connotated_with_antonyms))))"
      ]
    },
    {
      "cell_type": "markdown",
      "metadata": {
        "id": "7MgSVXVHVy_K"
      },
      "source": [
        "#### So taking together the examples from before, we are able to collect some antonyms this way, but extremely significantly so. Moreover, most of these do not seem to satisfy a proportional analogy involving 'small' and 'big', which was our initial hypothesis on why this should even work. Therefore, some doubts have to remain about the significance of these results..."
      ]
    },
    {
      "cell_type": "markdown",
      "metadata": {
        "id": "Y_dBHrOUVy_K"
      },
      "source": [
        "### The phenomena reported above may even just be due to the fact that an adjective has fairly high cosine similarity to its antonym, on average, and so shifting it by, say, 'bad'-'good' will leave the antonym nearby:"
      ]
    },
    {
      "cell_type": "code",
      "execution_count": null,
      "metadata": {
        "id": "GuPmvVacVy_K",
        "outputId": "08b192ec-063d-474b-a827-7d18792e5af4"
      },
      "outputs": [
        {
          "name": "stdout",
          "output_type": "stream",
          "text": [
            "average:  0.4132209293840482\n"
          ]
        },
        {
          "data": {
            "image/png": "[encoded data removed]",
            "text/plain": [
              "<Figure size 720x720 with 1 Axes>"
            ]
          },
          "metadata": {
            "needs_background": "light"
          },
          "output_type": "display_data"
        }
      ],
      "source": [
        "def sample_antonym_similarity(n_samples=10000):\n",
        "\n",
        "    sim_sample = []\n",
        "    i = 0\n",
        "\n",
        "    while i < n_samples:\n",
        "\n",
        "        try:\n",
        "\n",
        "            adj = random.choice(adjectives_with_antonyms)\n",
        "            sim_sample.append(adjective2vec.cos_sim(random.choice(get_all_antonyms(adj)), adj))\n",
        "            i += 1\n",
        "\n",
        "        except KeyError: pass\n",
        "\n",
        "    return np.array(sim_sample)\n",
        "\n",
        "plot_size = (10, 10)\n",
        "sample = sample_antonym_similarity()\n",
        "print('average: ', sum(sample)/len(sample))\n",
        "plt.figure(figsize=plot_size)\n",
        "plt.xlim(0, 1)\n",
        "plt.xlabel('cosine similarity')\n",
        "plt.ylabel('frequency')\n",
        "plt.hist(sample, facecolor='dimgray', bins='auto')\n",
        "plt.show()"
      ]
    },
    {
      "cell_type": "markdown",
      "metadata": {
        "id": "OMZRlVDQVy_K"
      },
      "source": [
        "### To further test this, let's see how many andjectives have a nearby antonym."
      ]
    },
    {
      "cell_type": "code",
      "execution_count": null,
      "metadata": {
        "id": "ngNBfd5OVy_L"
      },
      "outputs": [],
      "source": [
        "def get_adj_with_close_ant(print_hits=True):\n",
        "    # Collect all 'positively connotated' adjectives for which the\n",
        "    # adjective - 'good' + 'bad' scheme works.\n",
        "\n",
        "    adj_with_close_ant = []\n",
        "\n",
        "    for word in adjectives_with_antonyms:\n",
        "\n",
        "        candidate_antonyms = word2vec_model.most_similar(positive=[word])\n",
        "        candidate_antonyms = [candidate_antonym[0] for candidate_antonym in candidate_antonyms]\n",
        "        hit = False\n",
        "        antonyms = get_all_antonyms(word)\n",
        "\n",
        "        for candidate_antonym in candidate_antonyms:\n",
        "\n",
        "            if candidate_antonym in antonyms:\n",
        "\n",
        "                hit = True\n",
        "\n",
        "        if hit == True:\n",
        "\n",
        "            adj_with_close_ant.append(word)\n",
        "\n",
        "            if print_hits == True: print(word)\n",
        "\n",
        "    return adj_with_close_ant\n"
      ]
    },
    {
      "cell_type": "code",
      "execution_count": null,
      "metadata": {
        "id": "Gjf8Tq05Vy_L",
        "outputId": "ad434aa8-73b2-4146-9f2a-48afd5045cee"
      },
      "outputs": [
        {
          "data": {
            "text/plain": [
              "0.7190051"
            ]
          },
          "execution_count": 8,
          "metadata": {},
          "output_type": "execute_result"
        }
      ],
      "source": [
        "# Our 'test adejectives', 'good' and 'bad' are quite cosine-similar themselves.\n",
        "adjective2vec.cos_sim('good', 'bad')"
      ]
    },
    {
      "cell_type": "code",
      "execution_count": null,
      "metadata": {
        "id": "GniX7HAXVy_L",
        "outputId": "8f5b385d-85a7-4bdd-e9fb-b9cf18e8cfa3"
      },
      "outputs": [
        {
          "name": "stdout",
          "output_type": "stream",
          "text": [
            "haploid\n",
            "illegible\n",
            "invertebrate\n",
            "wide\n",
            "highland\n",
            "representational\n",
            "brunette\n",
            "attachable\n",
            "noncompetitive\n",
            "dispensable\n",
            "civilian\n",
            "mature\n",
            "inhumane\n",
            "unequal\n",
            "deflationary\n",
            "ventral\n",
            "digestible\n",
            "eccrine\n",
            "tactful\n",
            "unclassified\n",
            "defensive\n",
            "pleasant\n",
            "infallible\n",
            "honorable\n",
            "offstage\n",
            "excusable\n",
            "elective\n",
            "biennial\n",
            "unqualified\n",
            "related\n",
            "unpublished\n",
            "conservative\n",
            "diurnal\n",
            "comfortable\n",
            "enclosed\n",
            "anabolic\n",
            "unpeaceful\n",
            "omnivorous\n",
            "encouraging\n",
            "intrastate\n",
            "unfruitful\n",
            "undefined\n",
            "seasoned\n",
            "extrinsic\n",
            "unsatisfactory\n",
            "parallel\n",
            "inclined\n",
            "worst\n",
            "fatal\n",
            "decreased\n",
            "unprofitable\n",
            "heterogeneous\n",
            "insincere\n",
            "hospitable\n",
            "reduced\n",
            "downmarket\n",
            "incoming\n",
            "homozygous\n",
            "fallible\n",
            "unconfined\n",
            "plus\n",
            "moonless\n",
            "first\n",
            "inbred\n",
            "enfranchised\n",
            "unmodified\n",
            "passable\n",
            "harmless\n",
            "external\n",
            "more\n",
            "anterior\n",
            "de_jure\n",
            "incompatible\n",
            "scarce\n",
            "incompressible\n",
            "unambiguous\n",
            "censored\n",
            "open\n",
            "same\n",
            "perinatal\n",
            "admissible\n",
            "inhospitable\n",
            "imprecise\n",
            "cool\n",
            "testate\n",
            "western\n",
            "husbandly\n",
            "inferior\n",
            "equivocal\n",
            "unbreakable\n",
            "unafraid\n",
            "convenient\n",
            "anisotropic\n",
            "lawful\n",
            "horned\n",
            "unorthodox\n",
            "explicit\n",
            "grassless\n",
            "female\n",
            "early\n",
            "increased\n",
            "favorable\n",
            "involuntary\n",
            "inexpensive\n",
            "sisterly\n",
            "inappropriate\n",
            "willing\n",
            "inconsistent\n",
            "dextral\n",
            "dissimilar\n",
            "accessible\n",
            "low\n",
            "centralized\n",
            "worse\n",
            "able\n",
            "hydrophobic\n",
            "inquisitorial\n",
            "auspicious\n",
            "de_facto\n",
            "uncongenial\n",
            "postnuptial\n",
            "unappetizing\n",
            "voluble\n",
            "advisable\n",
            "eligible\n",
            "useful\n",
            "employable\n",
            "radiolucent\n",
            "liveable\n",
            "lesser\n",
            "worthy\n",
            "leavened\n",
            "large\n",
            "stingy\n",
            "incapable\n",
            "infrequent\n",
            "appetizing\n",
            "closing\n",
            "legible\n",
            "unsurmountable\n",
            "counterclockwise\n",
            "concave\n",
            "nonfictional\n",
            "lost\n",
            "homosexual\n",
            "untidy\n",
            "alive\n",
            "uncertified\n",
            "senior\n",
            "miscible\n",
            "classified\n",
            "liberal\n",
            "off\n",
            "short\n",
            "little\n",
            "fewer\n",
            "alkaline\n",
            "unflattering\n",
            "unclothed\n",
            "skilled\n",
            "good\n",
            "incommensurate\n",
            "surprising\n",
            "mined\n",
            "occupied\n",
            "conventional\n",
            "undemocratic\n",
            "minimum\n",
            "informal\n",
            "unreasonable\n",
            "unsupportive\n",
            "inharmonious\n",
            "unfastened\n",
            "frozen\n",
            "subsonic\n",
            "indirect\n",
            "inland\n",
            "inexhaustible\n",
            "reconcilable\n",
            "impolite\n",
            "raised\n",
            "weak\n",
            "intangible\n",
            "diploid\n",
            "conjunctive\n",
            "unstained\n",
            "carnivorous\n",
            "acute\n",
            "unable\n",
            "wise\n",
            "unlikely\n",
            "unclear\n",
            "decentralizing\n",
            "unimpaired\n",
            "edible\n",
            "horizontal\n",
            "disproportionate\n",
            "literate\n",
            "unseeded\n",
            "unenforceable\n",
            "geocentric\n",
            "unpredictable\n",
            "outside\n",
            "thick\n",
            "optimistic\n",
            "last\n",
            "airworthy\n",
            "thirsty\n",
            "leeward\n",
            "unappetising\n",
            "discouraging\n",
            "unworldly\n",
            "unimpressive\n",
            "manageable\n",
            "returnable\n",
            "acceptable\n",
            "pessimistic\n",
            "humane\n",
            "unnoticeable\n",
            "unintelligible\n",
            "increasing\n",
            "nonindustrial\n",
            "asymmetric\n",
            "disadvantageous\n",
            "prokaryotic\n",
            "benign\n",
            "exterior\n",
            "heliocentric\n",
            "asymmetrical\n",
            "polished\n",
            "domineering\n",
            "prudent\n",
            "conditional\n",
            "prenatal\n",
            "ipsilateral\n",
            "congruent\n",
            "windward\n",
            "adoptable\n",
            "ascending\n",
            "much\n",
            "sadistic\n",
            "unconcerned\n",
            "migratory\n",
            "unblemished\n",
            "north\n",
            "medical\n",
            "inclement\n",
            "national\n",
            "trustworthy\n",
            "pronounceable\n",
            "outer\n",
            "sitting\n",
            "plausible\n",
            "eukaryotic\n",
            "patriotic\n",
            "sympathetic\n",
            "irreducible\n",
            "unlighted\n",
            "congruous\n",
            "unconventional\n",
            "heterogenous\n",
            "downstairs\n",
            "unsheathed\n",
            "unrefined\n",
            "disliked\n",
            "damaged\n",
            "correct\n",
            "traceable\n",
            "predictable\n",
            "inconclusive\n",
            "unpronounceable\n",
            "radiopaque\n",
            "quadruped\n",
            "unfrozen\n",
            "unlucky\n",
            "contralateral\n",
            "modulated\n",
            "unfamiliar\n",
            "indeterminate\n",
            "ordinary\n",
            "unsold\n",
            "bipedal\n",
            "coastal\n",
            "accusatorial\n",
            "valid\n",
            "compressible\n",
            "immiscible\n",
            "unadoptable\n",
            "unapologetic\n",
            "decreasing\n",
            "bridgeable\n",
            "unequipped\n",
            "unregulated\n",
            "eastern\n",
            "inopportune\n",
            "qualitative\n",
            "formal\n",
            "unrealistic\n",
            "uptown\n",
            "natural\n",
            "domestic\n",
            "advantageous\n",
            "perceptible\n",
            "noncommercial\n",
            "autotrophic\n",
            "drinkable\n",
            "nonmusical\n",
            "impenetrable\n",
            "protected\n",
            "intradepartmental\n",
            "opened\n",
            "indoor\n",
            "unequivocal\n",
            "used\n",
            "exogenous\n",
            "proximal\n",
            "impressive\n",
            "anionic\n",
            "experienced\n",
            "southern\n",
            "typical\n",
            "unburdened\n",
            "uncontested\n",
            "productive\n",
            "prewar\n",
            "imprudent\n",
            "upstairs\n",
            "uncontaminated\n",
            "uncorrected\n",
            "likely\n",
            "matriarchal\n",
            "primary\n",
            "burdened\n",
            "connected\n",
            "unplayable\n",
            "private\n",
            "convinced\n",
            "lowercase\n",
            "descending\n",
            "inflationary\n",
            "male\n",
            "nonjudgmental\n",
            "isotropic\n",
            "moonlit\n",
            "unacceptable\n",
            "disfranchised\n",
            "heavenly\n",
            "intelligible\n",
            "atypical\n",
            "reversible\n",
            "east\n",
            "smaller\n",
            "wet\n",
            "postnatal\n",
            "second\n",
            "exculpatory\n",
            "incompetent\n",
            "unpropitious\n",
            "equal\n",
            "outdoor\n",
            "intransitive\n",
            "postpartum\n",
            "impermissible\n",
            "invalid\n",
            "supersonic\n",
            "aware\n",
            "desirable\n",
            "nonviolent\n",
            "nonsexual\n",
            "monotheistic\n",
            "coherent\n",
            "temporary\n",
            "conclusive\n",
            "fictional\n",
            "uninhabited\n",
            "manned\n",
            "passive\n",
            "immunodeficient\n",
            "vertical\n",
            "contested\n",
            "commensurate\n",
            "upmarket\n",
            "unpolished\n",
            "unsociable\n",
            "clement\n",
            "processed\n",
            "determinate\n",
            "quotable\n",
            "unreliable\n",
            "eatable\n",
            "exhaustible\n",
            "unpremeditated\n",
            "frequent\n",
            "enthusiastic\n",
            "inhabited\n",
            "inconsiderable\n",
            "operable\n",
            "equitable\n",
            "deep\n",
            "unhealthful\n",
            "military\n",
            "decorous\n",
            "familiar\n",
            "appropriate\n",
            "hypotonic\n",
            "hungry\n",
            "liked\n",
            "acidic\n",
            "feminine\n",
            "intolerant\n",
            "uppercase\n",
            "unidirectional\n",
            "hard\n",
            "scripted\n",
            "purebred\n",
            "unrepentant\n",
            "prepared\n",
            "autumnal\n",
            "orthodox\n",
            "distinguishable\n",
            "heterozygous\n",
            "unofficial\n",
            "direct\n",
            "best\n",
            "unsurprised\n",
            "inevitable\n",
            "crosswise\n",
            "disobedient\n",
            "knowable\n",
            "unenthusiastic\n",
            "unsaleable\n",
            "backhand\n",
            "unseasoned\n",
            "clothed\n",
            "nonprofessional\n",
            "biped\n",
            "diachronic\n",
            "submissive\n",
            "theoretical\n",
            "dry\n",
            "all\n",
            "capable\n",
            "unfashionable\n",
            "surmountable\n",
            "unthinkable\n",
            "pardonable\n",
            "efferent\n",
            "literal\n",
            "unpardonable\n",
            "masochistic\n",
            "blond\n",
            "onstage\n",
            "eventful\n",
            "playable\n",
            "accustomed\n",
            "evitable\n",
            "undependable\n",
            "tidy\n",
            "regulated\n",
            "negative\n",
            "interior\n",
            "refined\n",
            "harmonious\n",
            "heterosexual\n",
            "some\n",
            "effective\n",
            "quantitative\n",
            "outboard\n",
            "unconvinced\n",
            "violent\n",
            "unlawful\n",
            "loaded\n",
            "earthly\n",
            "unburied\n",
            "dorsal\n",
            "distal\n",
            "undimmed\n",
            "sane\n",
            "concerned\n",
            "extensive\n",
            "fruitful\n",
            "nontraditional\n",
            "insufficient\n",
            "internal\n",
            "unaffected\n",
            "implicit\n",
            "unlit\n",
            "sufficient\n",
            "pious\n",
            "affected\n",
            "untraditional\n",
            "clockwise\n",
            "deciphered\n",
            "nonrenewable\n",
            "west\n",
            "incorrect\n",
            "official\n",
            "detachable\n",
            "penetrable\n",
            "unsurprising\n",
            "annual\n",
            "inattentive\n",
            "inequitable\n",
            "imponderable\n",
            "unlivable\n",
            "cephalic\n",
            "opening\n",
            "heterotrophic\n",
            "blemished\n",
            "bicameral\n",
            "ungrammatical\n",
            "infinite\n",
            "changeable\n",
            "unconfirmed\n",
            "undrinkable\n",
            "immature\n",
            "superscript\n",
            "masculine\n",
            "intensive\n",
            "religious\n",
            "ineligible\n",
            "finite\n",
            "inboard\n",
            "anaerobic\n",
            "synchronic\n",
            "high\n",
            "outward\n",
            "right\n",
            "inconspicuous\n",
            "unrelated\n",
            "invulnerable\n",
            "unenforced\n",
            "extracellular\n",
            "quadrupedal\n",
            "paternal\n",
            "restricted\n",
            "tangled\n",
            "socialistic\n",
            "reducible\n",
            "unpalatable\n",
            "helpful\n",
            "down\n",
            "receptive\n",
            "clear\n",
            "incongruent\n",
            "compatible\n",
            "adequate\n",
            "unsigned\n",
            "tractable\n",
            "unwoven\n",
            "unpleasant\n",
            "impassable\n",
            "propitious\n",
            "fresh\n",
            "sinistral\n",
            "bisexual\n",
            "thin\n",
            "untangled\n",
            "wifely\n",
            "traditional\n",
            "friendly\n",
            "nontaxable\n",
            "unavailable\n",
            "linear\n",
            "patriarchal\n",
            "unshod\n",
            "unabridged\n",
            "palatable\n",
            "symmetrical\n",
            "truthful\n",
            "lengthwise\n",
            "unadvisable\n",
            "motorless\n",
            "melted\n",
            "uncomfortable\n",
            "competent\n",
            "realistic\n",
            "artful\n",
            "fathomable\n",
            "positive\n",
            "unattractive\n",
            "hypertonic\n",
            "chronic\n",
            "forehand\n",
            "repentant\n",
            "imperceptible\n",
            "appealing\n",
            "reasonable\n",
            "accurate\n",
            "nonmilitary\n",
            "downtown\n",
            "unassigned\n",
            "undesirable\n",
            "untypical\n",
            "unapproachable\n",
            "superior\n",
            "unshared\n",
            "inadequate\n",
            "white\n",
            "curable\n",
            "impermeable\n",
            "synchronous\n",
            "artless\n",
            "polyphonic\n",
            "indistinguishable\n",
            "long\n",
            "hydrophilic\n",
            "tolerant\n",
            "peaceable\n",
            "supportive\n",
            "opportune\n",
            "irreversible\n",
            "thinkable\n",
            "unreceptive\n",
            "balanced\n",
            "unregistered\n",
            "onshore\n",
            "ultra_vires\n",
            "nonpartisan\n",
            "incurable\n",
            "unobtrusive\n",
            "upstream\n",
            "corrected\n",
            "inside\n",
            "left\n",
            "disinclined\n",
            "uncensored\n",
            "homogeneous\n",
            "unmined\n",
            "unaccustomed\n",
            "seaworthy\n",
            "polytheistic\n",
            "innumerate\n",
            "blonde\n",
            "untrustworthy\n",
            "nonfatal\n",
            "livable\n",
            "mental\n",
            "educated\n",
            "local\n",
            "south\n",
            "lossy\n",
            "unloaded\n",
            "joyful\n",
            "bloodless\n",
            "immortal\n",
            "posterior\n",
            "onside\n",
            "inedible\n",
            "incoherent\n",
            "appointive\n",
            "inauspicious\n",
            "standing\n",
            "transonic\n",
            "unscripted\n",
            "cationic\n",
            "unrestrictive\n",
            "connotative\n",
            "sincere\n",
            "postwar\n",
            "nonvoluntary\n",
            "unbalanced\n",
            "unworthy\n",
            "late\n",
            "implausible\n",
            "unproductive\n",
            "unsexy\n",
            "better\n",
            "northern\n",
            "centralizing\n",
            "unprocessed\n",
            "maximum\n",
            "resistible\n",
            "unskilled\n",
            "registered\n",
            "abundant\n",
            "convincing\n",
            "public\n",
            "divisible\n",
            "unmanageable\n",
            "unrestricted\n",
            "international\n",
            "inconvenient\n",
            "uncoiled\n",
            "inadmissible\n",
            "inculpatory\n",
            "ignoble\n",
            "monophonic\n",
            "ungracious\n",
            "encumbered\n",
            "crossbred\n",
            "unrecoverable\n",
            "attractive\n",
            "dishonorable\n",
            "capitalistic\n",
            "inoperable\n",
            "junior\n",
            "wrong\n",
            "unoccupied\n",
            "unaware\n",
            "endothermic\n",
            "enlightened\n",
            "branded\n",
            "normal\n",
            "reliable\n",
            "less\n",
            "unaltered\n",
            "empirical\n",
            "unfavorable\n",
            "outgoing\n",
            "mutable\n",
            "strong\n",
            "similar\n",
            "unenlightened\n",
            "urban\n",
            "proportionate\n",
            "inactive\n",
            "physical\n",
            "inaccessible\n",
            "consistent\n",
            "insoluble\n",
            "reactive\n",
            "permeable\n",
            "unsafe\n",
            "unemployable\n",
            "unencumbered\n",
            "animate\n",
            "trained\n",
            "fastened\n",
            "many\n",
            "unstylish\n",
            "illiterate\n",
            "bad\n",
            "lucky\n",
            "up\n",
            "uneventful\n",
            "black\n",
            "inward\n",
            "convex\n",
            "partisan\n",
            "bimodal\n",
            "figurative\n",
            "unpreventable\n",
            "few\n",
            "closed\n",
            "perpendicular\n",
            "impious\n",
            "unfriendly\n",
            "irrational\n",
            "minor\n",
            "unrespectable\n",
            "denotative\n",
            "seeded\n",
            "unaccessible\n",
            "unsympathetic\n",
            "indigestible\n",
            "undamaged\n",
            "corporeal\n",
            "salable\n",
            "asleep\n",
            "nocturnal\n",
            "brunet\n",
            "decentralized\n",
            "intra_vires\n",
            "intracellular\n",
            "enforceable\n",
            "brotherly\n",
            "tolerable\n",
            "unconditional\n",
            "on\n",
            "unbranded\n",
            "inner\n",
            "unnatural\n",
            "tangible\n",
            "nonlinear\n",
            "afferent\n",
            "unprotected\n",
            "mortal\n",
            "surface\n",
            "insurmountable\n",
            "winged\n",
            "explicable\n",
            "unenclosed\n",
            "awake\n",
            "apocrine\n",
            "starless\n",
            "wingless\n",
            "offensive\n",
            "profitable\n",
            "rural\n",
            "unseaworthy\n",
            "transitive\n",
            "unicameral\n",
            "untrained\n",
            "flattering\n",
            "nonresidential\n",
            "abridged\n",
            "secular\n",
            "prenuptial\n",
            "unconnected\n",
            "recoverable\n",
            "single\n",
            "active\n",
            "unbridgeable\n",
            "obtrusive\n",
            "unknowable\n",
            "asynchronous\n",
            "summery\n",
            "rational\n",
            "unmanly\n",
            "downstream\n",
            "inadvisable\n",
            "disproportional\n",
            "intestate\n",
            "noncompliant\n",
            "unimodal\n",
            "immunocompetent\n",
            "nonhuman\n",
            "unwilling\n",
            "untruthful\n",
            "small\n"
          ]
        },
        {
          "name": "stdout",
          "output_type": "stream",
          "text": [
            "fast\n",
            "easy\n",
            "nonconformist\n",
            "satisfactory\n",
            "interdepartmental\n"
          ]
        }
      ],
      "source": [
        "adjs_with_close_ant = get_adj_with_close_ant()"
      ]
    },
    {
      "cell_type": "code",
      "execution_count": null,
      "metadata": {
        "id": "0a3mZf2FVy_L",
        "outputId": "c0e531d3-b222-4970-c4ad-85858c4d461e"
      },
      "outputs": [
        {
          "name": "stdout",
          "output_type": "stream",
          "text": [
            "826\n"
          ]
        }
      ],
      "source": [
        "print(len(adjs_with_close_ant))"
      ]
    },
    {
      "cell_type": "markdown",
      "metadata": {
        "id": "XpbhaophVy_L"
      },
      "source": [
        "### Hence, our initial hypothesis that antonymy is related to analogy-solving in the Word Embedding is very likely false. However, we have found an alternative 'stupid' way of finding likely antonyms: just look at adjectives that are nearby!"
      ]
    },
    {
      "cell_type": "code",
      "execution_count": null,
      "metadata": {
        "id": "X84h6IueVy_L"
      },
      "outputs": [],
      "source": []
    }
  ],
  "metadata": {
    "kernelspec": {
      "display_name": "Python 3",
      "language": "python",
      "name": "python3"
    },
    "language_info": {
      "codemirror_mode": {
        "name": "ipython",
        "version": 3
      },
      "file_extension": ".py",
      "mimetype": "text/x-python",
      "name": "python",
      "nbconvert_exporter": "python",
      "pygments_lexer": "ipython3",
      "version": "3.8.3"
    },
    "colab": {
      "provenance": []
    }
  },
  "nbformat": 4,
  "nbformat_minor": 0
}