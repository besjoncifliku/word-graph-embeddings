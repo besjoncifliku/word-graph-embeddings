{
  "nbformat": 4,
  "nbformat_minor": 0,
  "metadata": {
    "colab": {
      "provenance": []
    },
    "kernelspec": {
      "name": "python3",
      "display_name": "Python 3"
    },
    "language_info": {
      "name": "python"
    }
  },
  "cells": [
    {
      "cell_type": "code",
      "metadata": {
        "id": "jNarW_jnIlrE"
      },
      "source": [
        "import gensim\n",
        "import nltk\n",
        "from gensim.models import Word2Vec\n",
        "nltk.download('wordnet')"
      ],
      "execution_count": null,
      "outputs": []
    },
    {
      "cell_type": "code",
      "metadata": {
        "id": "LTCaVqDFza7X"
      },
      "source": [
        "from nltk.corpus import wordnet as wn\n",
        "for i in wn.all_synsets():\n",
        "    if i.pos() in ['a', 's']: # If synset is adj or satelite-adj.\n",
        "        for j in i.lemmas(): # Iterating through lemmas for each synset.\n",
        "            if j.antonyms(): # If adj has antonym.\n",
        "                # Prints the adj-antonym pair.\n",
        "                print(j.name(), j.antonyms()[0].name())"
      ],
      "execution_count": null,
      "outputs": []
    },
    {
      "cell_type": "code",
      "metadata": {
        "id": "NfZBnMO9zXj0"
      },
      "source": [
        "import gensim\n",
        "model = gensim.models.Word2Vec.load_word2vec_format('path-to-vectors.txt', binary=False)\n",
        "# if you vector file is in binary format, change to binary=True\n",
        "sentence = [\"London\", \"is\", \"the\", \"capital\", \"of\", \"Great\", \"Britain\"]\n",
        "vectors = [model[w] for w in sentence]"
      ],
      "execution_count": null,
      "outputs": []
    }
  ]
}